{
 "cells": [
  {
   "cell_type": "code",
   "execution_count": 0,
   "metadata": {
    "application/vnd.databricks.v1+cell": {
     "inputWidgets": {},
     "nuid": "6141ea6d-e52f-4740-9df9-a35f51a8315d",
     "showTitle": false,
     "title": ""
    }
   },
   "outputs": [
    {
     "data": {
      "text/html": [
       "<style scoped>\n",
       "  .ansiout {\n",
       "    display: block;\n",
       "    unicode-bidi: embed;\n",
       "    white-space: pre-wrap;\n",
       "    word-wrap: break-word;\n",
       "    word-break: break-all;\n",
       "    font-family: \"Source Code Pro\", \"Menlo\", monospace;;\n",
       "    font-size: 13px;\n",
       "    color: #555;\n",
       "    margin-left: 4px;\n",
       "    line-height: 19px;\n",
       "  }\n",
       "</style>\n",
       "<div class=\"ansiout\"></div>"
      ]
     },
     "metadata": {
      "application/vnd.databricks.v1+output": {
       "addedWidgets": {},
       "arguments": {},
       "data": "<div class=\"ansiout\"></div>",
       "datasetInfos": [],
       "metadata": {},
       "removedWidgets": [],
       "type": "html"
      }
     },
     "output_type": "display_data"
    }
   ],
   "source": [
    "#Funcion que retorna el objeto api para hacer la conexion a twitter\n",
    "def autenticacion_t():\n",
    "  #Autenticación\n",
    "  consumer_key = 'dg4WVgjsd16nqs1IUpTnnzaCP'\n",
    "  consumer_secret = 'XO2cqw7qkdGG5zAbpYv838cnj0pYmKBf0CBLHecCqN3SeUTzQk'\n",
    "  access_token = '182106238-aNtVpq4mrrF3z1E9tySvU6ny4j0v19JlZNvMN49o'\n",
    "  access_tokem_secret = 'h02PQDXsYFBYwsxlSw9xrTYf1eJzXflXwmUMTRJvc6DA9'\n",
    "  \n",
    "  auth = tw.OAuthHandler(consumer_key,consumer_secret)\n",
    "  auth.set_access_token(access_token,access_tokem_secret)\n",
    "  #Si se llega al limite, seguira procesando para esperar mientras se habilta\n",
    "  api = tw.API(auth,wait_on_rate_limit=True,wait_on_rate_limit_notify=True)\n",
    "  return api"
   ]
  }
 ],
 "metadata": {
  "application/vnd.databricks.v1+notebook": {
   "dashboards": [],
   "language": "python",
   "notebookMetadata": {
    "pythonIndentUnit": 2
   },
   "notebookName": "conexion_twitter",
   "notebookOrigID": 3098311860057708,
   "widgets": {}
  },
  "kernelspec": {
   "display_name": "Python 3",
   "language": "python",
   "name": "python3"
  },
  "language_info": {
   "codemirror_mode": {
    "name": "ipython",
    "version": 3
   },
   "file_extension": ".py",
   "mimetype": "text/x-python",
   "name": "python",
   "nbconvert_exporter": "python",
   "pygments_lexer": "ipython3",
   "version": "3.8.5"
  }
 },
 "nbformat": 4,
 "nbformat_minor": 1
}
