{
 "cells": [
  {
   "cell_type": "code",
   "execution_count": 2,
   "id": "9da54190-2d86-4b5f-b564-eb7c02600c14",
   "metadata": {},
   "outputs": [],
   "source": [
    "from app_store_scraper import AppStore\n",
    "import pandas as pd\n",
    "import numpy as np\n",
    "import json\n",
    "import pprint\n",
    "import datetime"
   ]
  },
  {
   "cell_type": "code",
   "execution_count": 3,
   "id": "18e5af0d-b71f-4b1f-9888-11e2595e49de",
   "metadata": {},
   "outputs": [
    {
     "name": "stderr",
     "output_type": "stream",
     "text": [
      "2021-10-10 15:08:39,614 [INFO] Base - Searching for app id\n",
      "2021-10-10 15:08:42,339 [INFO] Base - Initialised: AppStore('co', 'bbva-colombia', 823508982)\n",
      "2021-10-10 15:08:42,340 [INFO] Base - Ready to fetch reviews from: https://apps.apple.com/co/app/bbva-colombia/id823508982\n",
      "2021-10-10 15:08:42,590 [INFO] Base - [id:823508982] Fetched 20 reviews (20 fetched in total)\n"
     ]
    }
   ],
   "source": [
    "from app_store_scraper import AppStore\n",
    "\n",
    "bbva = AppStore(country=\"co\", app_name=\"BBVA Colombia\")\n",
    "bbva.review(how_many=20)"
   ]
  },
  {
   "cell_type": "code",
   "execution_count": 4,
   "id": "a770901f-449b-43c8-be1b-6380258dd657",
   "metadata": {},
   "outputs": [
    {
     "data": {
      "text/plain": [
       "AppStore(country='co', app_name='bbva-colombia', app_id=823508982)"
      ]
     },
     "execution_count": 4,
     "metadata": {},
     "output_type": "execute_result"
    }
   ],
   "source": [
    "bbva"
   ]
  },
  {
   "cell_type": "code",
   "execution_count": 5,
   "id": "a3491a5d-77ba-4bf7-b19e-4cfa794a3589",
   "metadata": {
    "tags": []
   },
   "outputs": [
    {
     "name": "stdout",
     "output_type": "stream",
     "text": [
      "[{'date': datetime.datetime(2021, 1, 26, 20, 34, 16),\n",
      "  'isEdited': False,\n",
      "  'rating': 4,\n",
      "  'review': 'Al instalar la app por primera vez no es posible registrar el '\n",
      "            'código enviado al cel. La solución es instalar otro teclado '\n",
      "            'distinto al nativo del IOS. (Gboard o SwiftKey) y listo',\n",
      "  'title': 'Solución problema registro',\n",
      "  'userName': 'wymor15'},\n",
      " {'date': datetime.datetime(2020, 2, 20, 23, 57, 3),\n",
      "  'isEdited': False,\n",
      "  'rating': 2,\n",
      "  'review': 'No he podido iniciar mi registro en el aplicativo. No me deja '\n",
      "            'ingresar el código de verificación que me llega por Sms. Qué '\n",
      "            'puedo hacer?\\n'\n",
      "            '\\n'\n",
      "            'Mi equipo es un iPhone 11 Pro. iOS actualizada a la fecha. \\n'\n",
      "            '\\n'\n",
      "            'Gracias.',\n",
      "  'title': 'Problemas para ingresar código',\n",
      "  'userName': 'Elkin Veslin'},\n",
      " {'date': datetime.datetime(2018, 11, 17, 12, 35, 15),\n",
      "  'isEdited': False,\n",
      "  'rating': 2,\n",
      "  'review': 'Al hacer cualquier transacción aparece un mensaje diciendo que '\n",
      "            'los mensajes no están configurados o algo así y no parece haber '\n",
      "            'realizado la transacción. Pero sí la hace. Yo pagué mi Tarjeta 3 '\n",
      "            'veces y me quedé sin saldo. Muy mal. No es confiable. \\n'\n",
      "            'Al hacer una trasferencia sale lo mismo y hace logout. Ya no le '\n",
      "            'tengo confianza.',\n",
      "  'title': 'Se actualiza cuando se abre. Errores en los mensajes',\n",
      "  'userName': 'Alejotrial'},\n",
      " {'date': datetime.datetime(2018, 1, 5, 15, 31, 30),\n",
      "  'isEdited': False,\n",
      "  'rating': 5,\n",
      "  'review': 'Muy buena app',\n",
      "  'title': 'Calificación excelente',\n",
      "  'userName': 'Cesar8511'},\n",
      " {'date': datetime.datetime(2020, 10, 22, 19, 10, 16),\n",
      "  'isEdited': False,\n",
      "  'rating': 1,\n",
      "  'review': 'No funciona con iOS 14.1.  Cuando llega el mensaje de activación '\n",
      "            'no deja copiarlo en el recuadro. Tampoco lo toma automáticamente. '\n",
      "            'Solucionar pronto. Se necesita la aplicación en la nueva versión '\n",
      "            'de iOS.',\n",
      "  'title': 'No funciona en iOS 14.1',\n",
      "  'userName': 'Rosalba R.'},\n",
      " {'date': datetime.datetime(2020, 10, 22, 15, 36, 22),\n",
      "  'isEdited': False,\n",
      "  'rating': 1,\n",
      "  'review': 'La aplicación exige un código de verificación cuando instalas el '\n",
      "            'app, el cual te llega por mensaje de texto y el app debe tomarlo '\n",
      "            'automáticamente. Esto no sucede ni permite ingresar el numero '\n",
      "            'manualmente 🤦🏻\\u200d♂️',\n",
      "  'title': 'No funciona para iphone 11',\n",
      "  'userName': 'andressalazara87'},\n",
      " {'date': datetime.datetime(2020, 5, 8, 12, 11, 11),\n",
      "  'isEdited': False,\n",
      "  'rating': 1,\n",
      "  'review': 'Actualicé mi celular y la aplicación no me permite ingresar el '\n",
      "            'código de verificación. ¿Qué hago? Gracias.',\n",
      "  'title': 'No me permite la reactivación',\n",
      "  'userName': 'Jair. A'},\n",
      " {'date': datetime.datetime(2020, 9, 20, 1, 52, 44),\n",
      "  'isEdited': False,\n",
      "  'rating': 1,\n",
      "  'review': 'Septiembre 2020 y no han arreglado el problema en iPhone del '\n",
      "            'código de verificación por SMS que no permite ser ingresado. '\n",
      "            'Pésimo servicio sin eso la aplicación no funciona.',\n",
      "  'title': 'Mala: Código SMS no se puede digitar',\n",
      "  'userName': 'Nelssy16CS'},\n",
      " {'date': datetime.datetime(2020, 9, 15, 17, 43, 13),\n",
      "  'isEdited': False,\n",
      "  'rating': 5,\n",
      "  'review': 'Buenas tardes. No puedo ingresar, porque al momento de ingresar '\n",
      "            'el código que me envían a mi celular, la app no me deja '\n",
      "            'ingrésalo, en el espacio donde debería ingresar el código no '\n",
      "            'marca ningún número. Por favor solicito ayuda',\n",
      "  'title': 'No puedo ingresar con iOS versión 13.7',\n",
      "  'userName': 'luicc21'},\n",
      " {'date': datetime.datetime(2021, 7, 8, 16, 49, 22),\n",
      "  'isEdited': False,\n",
      "  'rating': 1,\n",
      "  'review': 'Las notificaciones no permiten ser leídas ni gestionadas '\n",
      "            '(borradas o archivadas)',\n",
      "  'title': 'Error',\n",
      "  'userName': 'Juan Sebastián Ramírez Duque'},\n",
      " {'date': datetime.datetime(2020, 12, 2, 23, 30, 22),\n",
      "  'isEdited': False,\n",
      "  'rating': 1,\n",
      "  'review': 'Le hice a mi IPhone la última actualización 14.2 y no inicia la '\n",
      "            'aplicación, se cierra de inmediato, por favor solucionen pronto '\n",
      "            'ya que la utilizo frecuentemente.',\n",
      "  'title': 'No funciona',\n",
      "  'userName': 'algamaur'},\n",
      " {'date': datetime.datetime(2020, 10, 19, 14, 11, 39),\n",
      "  'isEdited': False,\n",
      "  'rating': 1,\n",
      "  'review': 'No deja escribir code verificación',\n",
      "  'title': 'No deja escribir code verificación',\n",
      "  'userName': 'briancasta'},\n",
      " {'date': datetime.datetime(2020, 10, 13, 20, 52, 56),\n",
      "  'isEdited': False,\n",
      "  'rating': 1,\n",
      "  'review': 'No me permite recuperar la contraseña , no deja sobre escribir el '\n",
      "            'código de verificación. Y ya instalé y desinstale la aplicación',\n",
      "  'title': 'No puedo ingresar',\n",
      "  'userName': 'paolcume'},\n",
      " {'date': datetime.datetime(2020, 10, 12, 3, 10, 4),\n",
      "  'isEdited': False,\n",
      "  'rating': 1,\n",
      "  'review': 'Al momento de introducir el código de verificación mandado por '\n",
      "            'SMS el teclado no responde y no puedo escribir el código para '\n",
      "            'finalizar el proceso',\n",
      "  'title': 'Registro incompleto',\n",
      "  'userName': 'Emem7'},\n",
      " {'date': datetime.datetime(2020, 10, 9, 13, 45, 42),\n",
      "  'isEdited': False,\n",
      "  'rating': 1,\n",
      "  'review': 'Desde hace 2 días estoy intentando ingresar, cuando me llega el '\n",
      "            'mensaje no me deja escribir',\n",
      "  'title': 'No me deja ingresar',\n",
      "  'userName': 'moreno0213'},\n",
      " {'date': datetime.datetime(2020, 10, 8, 3, 44, 58),\n",
      "  'isEdited': False,\n",
      "  'rating': 1,\n",
      "  'review': 'No deja escribir el codigo de verificación que llega por sms. He '\n",
      "            'intentado en ipad y iphone',\n",
      "  'title': 'No Funciona en iOs 14',\n",
      "  'userName': 'laechavarria'},\n",
      " {'date': datetime.datetime(2020, 10, 4, 1, 56, 3),\n",
      "  'isEdited': False,\n",
      "  'rating': 1,\n",
      "  'review': 'Cuando se envía el código de verificación a mi número de '\n",
      "            'teléfono, el auto completar no funciona por lo que al terminar la '\n",
      "            'cuenta de 30 segundos no es posible activar la aplicación, muy '\n",
      "            'mal.',\n",
      "  'title': 'Auto completar no funciona',\n",
      "  'userName': 'luisgeborja'},\n",
      " {'date': datetime.datetime(2020, 10, 2, 19, 26, 32),\n",
      "  'isEdited': False,\n",
      "  'rating': 1,\n",
      "  'review': 'Jamás puedo ingresar mi código para acceder a la app y consultar '\n",
      "            'mi saldo, una decepción completa!!!!',\n",
      "  'title': 'Pésima App',\n",
      "  'userName': 'joseAHG'},\n",
      " {'date': datetime.datetime(2020, 9, 29, 16, 49, 40),\n",
      "  'isEdited': False,\n",
      "  'rating': 1,\n",
      "  'review': 'Ingreso mi contraseña. Me pide código de seguridad pero no '\n",
      "            'permite escribir el código para verificarlo... La app no sirve '\n",
      "            'para nada',\n",
      "  'title': 'No puedo ingresar el código de verificación',\n",
      "  'userName': 'César.Correa'},\n",
      " {'date': datetime.datetime(2020, 9, 25, 18, 54, 18),\n",
      "  'isEdited': False,\n",
      "  'rating': 1,\n",
      "  'review': 'Al momento que me mandan el código a mi celular no puedo '\n",
      "            'ingresarlo porque no lo escribe, arreglen este error por favor '\n",
      "            '😡😡.',\n",
      "  'title': 'Problemas de ingreso',\n",
      "  'userName': 'Victorlobo'}]\n"
     ]
    }
   ],
   "source": [
    "pprint.pprint(bbva.reviews)"
   ]
  },
  {
   "cell_type": "code",
   "execution_count": null,
   "id": "c3ea7031-7782-4abe-a57f-cf9cd27618d9",
   "metadata": {},
   "outputs": [],
   "source": []
  },
  {
   "cell_type": "code",
   "execution_count": null,
   "id": "7f28e1c2-d237-4d15-b453-dd9f9e7cc486",
   "metadata": {},
   "outputs": [],
   "source": []
  },
  {
   "cell_type": "code",
   "execution_count": null,
   "id": "5f503f0c-a794-47ca-b325-c5e501084b4b",
   "metadata": {},
   "outputs": [],
   "source": []
  },
  {
   "cell_type": "code",
   "execution_count": null,
   "id": "d1bb95c8-47df-42d9-9324-dd33cb966d46",
   "metadata": {},
   "outputs": [],
   "source": []
  },
  {
   "cell_type": "code",
   "execution_count": null,
   "id": "b52e39a4-2547-4a93-98ac-6a16e37970e7",
   "metadata": {},
   "outputs": [],
   "source": []
  },
  {
   "cell_type": "code",
   "execution_count": null,
   "id": "1234a993-48bb-4be2-bf44-fff510f92b48",
   "metadata": {},
   "outputs": [],
   "source": []
  }
 ],
 "metadata": {
  "kernelspec": {
   "display_name": "Python 3",
   "language": "python",
   "name": "python3"
  },
  "language_info": {
   "codemirror_mode": {
    "name": "ipython",
    "version": 3
   },
   "file_extension": ".py",
   "mimetype": "text/x-python",
   "name": "python",
   "nbconvert_exporter": "python",
   "pygments_lexer": "ipython3",
   "version": "3.8.8"
  }
 },
 "nbformat": 4,
 "nbformat_minor": 5
}
