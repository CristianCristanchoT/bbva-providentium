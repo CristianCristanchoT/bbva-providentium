{
 "cells": [
  {
   "cell_type": "code",
   "execution_count": 4,
   "metadata": {},
   "outputs": [],
   "source": [
    "import pandas as pd\n",
    "import plotly.offline as py \n",
    "import plotly.graph_objs as go\n",
    "import numpy as np"
   ]
  },
  {
   "cell_type": "code",
   "execution_count": 73,
   "metadata": {},
   "outputs": [
    {
     "name": "stderr",
     "output_type": "stream",
     "text": [
      "C:\\Users\\pc\\anaconda3\\lib\\site-packages\\ipykernel\\ipkernel.py:283: DeprecationWarning:\n",
      "\n",
      "`should_run_async` will not call `transform_cell` automatically in the future. Please pass the result to `transformed_cell` argument and any exception that happen during thetransform in `preprocessing_exc_tuple` in IPython 7.17 and above.\n",
      "\n"
     ]
    },
    {
     "data": {
      "text/html": [
       "<div>\n",
       "<style scoped>\n",
       "    .dataframe tbody tr th:only-of-type {\n",
       "        vertical-align: middle;\n",
       "    }\n",
       "\n",
       "    .dataframe tbody tr th {\n",
       "        vertical-align: top;\n",
       "    }\n",
       "\n",
       "    .dataframe thead th {\n",
       "        text-align: right;\n",
       "    }\n",
       "</style>\n",
       "<table border=\"1\" class=\"dataframe\">\n",
       "  <thead>\n",
       "    <tr style=\"text-align: right;\">\n",
       "      <th></th>\n",
       "      <th>Tipo</th>\n",
       "      <th>Pais</th>\n",
       "      <th>Fuente</th>\n",
       "      <th>Texto</th>\n",
       "      <th>FechaPublicacion</th>\n",
       "      <th>sentimiento</th>\n",
       "      <th>sentimiento_numerico</th>\n",
       "    </tr>\n",
       "  </thead>\n",
       "  <tbody>\n",
       "    <tr>\n",
       "      <th>0</th>\n",
       "      <td>Excelencia Operativa</td>\n",
       "      <td>Colombia</td>\n",
       "      <td>Apps</td>\n",
       "      <td>Muy mala la app como una hora pidiendo un Códi...</td>\n",
       "      <td>2021-10-22 16:22:53</td>\n",
       "      <td>Negativo</td>\n",
       "      <td>0.00</td>\n",
       "    </tr>\n",
       "    <tr>\n",
       "      <th>1</th>\n",
       "      <td>Excelencia Operativa</td>\n",
       "      <td>Colombia</td>\n",
       "      <td>Apps</td>\n",
       "      <td>Un poquito lenta pero excelente</td>\n",
       "      <td>2021-10-22 16:03:49</td>\n",
       "      <td>Positivo</td>\n",
       "      <td>0.94</td>\n",
       "    </tr>\n",
       "    <tr>\n",
       "      <th>2</th>\n",
       "      <td>Excelencia Operativa</td>\n",
       "      <td>Colombia</td>\n",
       "      <td>Apps</td>\n",
       "      <td>Que aplicacion tan mala, con tanto que roban d...</td>\n",
       "      <td>2021-10-22 15:13:42</td>\n",
       "      <td>Negativo</td>\n",
       "      <td>0.00</td>\n",
       "    </tr>\n",
       "    <tr>\n",
       "      <th>3</th>\n",
       "      <td>Excelencia Operativa</td>\n",
       "      <td>Colombia</td>\n",
       "      <td>Apps</td>\n",
       "      <td>Muy lenta, se nota lo pesada... Debe ser mas i...</td>\n",
       "      <td>2021-10-22 14:56:23</td>\n",
       "      <td>Negativo</td>\n",
       "      <td>0.00</td>\n",
       "    </tr>\n",
       "    <tr>\n",
       "      <th>4</th>\n",
       "      <td>Excelencia Operativa</td>\n",
       "      <td>Colombia</td>\n",
       "      <td>Apps</td>\n",
       "      <td>Muy buena lo mejor que han podido crear</td>\n",
       "      <td>2021-10-22 14:48:38</td>\n",
       "      <td>Positivo</td>\n",
       "      <td>0.55</td>\n",
       "    </tr>\n",
       "  </tbody>\n",
       "</table>\n",
       "</div>"
      ],
      "text/plain": [
       "                   Tipo      Pais Fuente  \\\n",
       "0  Excelencia Operativa  Colombia   Apps   \n",
       "1  Excelencia Operativa  Colombia   Apps   \n",
       "2  Excelencia Operativa  Colombia   Apps   \n",
       "3  Excelencia Operativa  Colombia   Apps   \n",
       "4  Excelencia Operativa  Colombia   Apps   \n",
       "\n",
       "                                               Texto     FechaPublicacion  \\\n",
       "0  Muy mala la app como una hora pidiendo un Códi...  2021-10-22 16:22:53   \n",
       "1                    Un poquito lenta pero excelente  2021-10-22 16:03:49   \n",
       "2  Que aplicacion tan mala, con tanto que roban d...  2021-10-22 15:13:42   \n",
       "3  Muy lenta, se nota lo pesada... Debe ser mas i...  2021-10-22 14:56:23   \n",
       "4            Muy buena lo mejor que han podido crear  2021-10-22 14:48:38   \n",
       "\n",
       "  sentimiento  sentimiento_numerico  \n",
       "0    Negativo                  0.00  \n",
       "1    Positivo                  0.94  \n",
       "2    Negativo                  0.00  \n",
       "3    Negativo                  0.00  \n",
       "4    Positivo                  0.55  "
      ]
     },
     "execution_count": 73,
     "metadata": {},
     "output_type": "execute_result"
    }
   ],
   "source": [
    "df = pd.read_csv('data.csv')\n",
    "df.head()"
   ]
  },
  {
   "cell_type": "code",
   "execution_count": 74,
   "metadata": {},
   "outputs": [
    {
     "name": "stderr",
     "output_type": "stream",
     "text": [
      "C:\\Users\\pc\\anaconda3\\lib\\site-packages\\ipykernel\\ipkernel.py:283: DeprecationWarning:\n",
      "\n",
      "`should_run_async` will not call `transform_cell` automatically in the future. Please pass the result to `transformed_cell` argument and any exception that happen during thetransform in `preprocessing_exc_tuple` in IPython 7.17 and above.\n",
      "\n"
     ]
    }
   ],
   "source": [
    "fechas = df['FechaPublicacion']\n",
    "fechas2 = []\n",
    "\n",
    "for i in fechas:\n",
    "    fechas2.append(i[0:10])\n",
    "\n",
    "df['FechaPublicacion'] = fechas2\n",
    "\n",
    "df['FechaPublicacion'] = pd.to_datetime(df['FechaPublicacion'], format=\"%Y/%m/%d\")"
   ]
  },
  {
   "cell_type": "code",
   "execution_count": 75,
   "metadata": {},
   "outputs": [
    {
     "name": "stderr",
     "output_type": "stream",
     "text": [
      "C:\\Users\\pc\\anaconda3\\lib\\site-packages\\ipykernel\\ipkernel.py:283: DeprecationWarning:\n",
      "\n",
      "`should_run_async` will not call `transform_cell` automatically in the future. Please pass the result to `transformed_cell` argument and any exception that happen during thetransform in `preprocessing_exc_tuple` in IPython 7.17 and above.\n",
      "\n"
     ]
    },
    {
     "data": {
      "text/html": [
       "<div>\n",
       "<style scoped>\n",
       "    .dataframe tbody tr th:only-of-type {\n",
       "        vertical-align: middle;\n",
       "    }\n",
       "\n",
       "    .dataframe tbody tr th {\n",
       "        vertical-align: top;\n",
       "    }\n",
       "\n",
       "    .dataframe thead th {\n",
       "        text-align: right;\n",
       "    }\n",
       "</style>\n",
       "<table border=\"1\" class=\"dataframe\">\n",
       "  <thead>\n",
       "    <tr style=\"text-align: right;\">\n",
       "      <th></th>\n",
       "      <th>Tipo</th>\n",
       "      <th>Pais</th>\n",
       "      <th>Fuente</th>\n",
       "      <th>Texto</th>\n",
       "      <th>FechaPublicacion</th>\n",
       "      <th>sentimiento</th>\n",
       "      <th>sentimiento_numerico</th>\n",
       "    </tr>\n",
       "  </thead>\n",
       "  <tbody>\n",
       "    <tr>\n",
       "      <th>0</th>\n",
       "      <td>Excelencia Operativa</td>\n",
       "      <td>Colombia</td>\n",
       "      <td>Apps</td>\n",
       "      <td>Muy mala la app como una hora pidiendo un Códi...</td>\n",
       "      <td>2021-10-22</td>\n",
       "      <td>Negativo</td>\n",
       "      <td>0.00</td>\n",
       "    </tr>\n",
       "    <tr>\n",
       "      <th>1</th>\n",
       "      <td>Excelencia Operativa</td>\n",
       "      <td>Colombia</td>\n",
       "      <td>Apps</td>\n",
       "      <td>Un poquito lenta pero excelente</td>\n",
       "      <td>2021-10-22</td>\n",
       "      <td>Positivo</td>\n",
       "      <td>0.94</td>\n",
       "    </tr>\n",
       "    <tr>\n",
       "      <th>2</th>\n",
       "      <td>Excelencia Operativa</td>\n",
       "      <td>Colombia</td>\n",
       "      <td>Apps</td>\n",
       "      <td>Que aplicacion tan mala, con tanto que roban d...</td>\n",
       "      <td>2021-10-22</td>\n",
       "      <td>Negativo</td>\n",
       "      <td>0.00</td>\n",
       "    </tr>\n",
       "    <tr>\n",
       "      <th>3</th>\n",
       "      <td>Excelencia Operativa</td>\n",
       "      <td>Colombia</td>\n",
       "      <td>Apps</td>\n",
       "      <td>Muy lenta, se nota lo pesada... Debe ser mas i...</td>\n",
       "      <td>2021-10-22</td>\n",
       "      <td>Negativo</td>\n",
       "      <td>0.00</td>\n",
       "    </tr>\n",
       "    <tr>\n",
       "      <th>4</th>\n",
       "      <td>Excelencia Operativa</td>\n",
       "      <td>Colombia</td>\n",
       "      <td>Apps</td>\n",
       "      <td>Muy buena lo mejor que han podido crear</td>\n",
       "      <td>2021-10-22</td>\n",
       "      <td>Positivo</td>\n",
       "      <td>0.55</td>\n",
       "    </tr>\n",
       "    <tr>\n",
       "      <th>...</th>\n",
       "      <td>...</td>\n",
       "      <td>...</td>\n",
       "      <td>...</td>\n",
       "      <td>...</td>\n",
       "      <td>...</td>\n",
       "      <td>...</td>\n",
       "      <td>...</td>\n",
       "    </tr>\n",
       "    <tr>\n",
       "      <th>6902</th>\n",
       "      <td>Futuro sostenible</td>\n",
       "      <td>Mexico</td>\n",
       "      <td>Twitter</td>\n",
       "      <td>@RicardoAnayaC Habría que comparar con el mund...</td>\n",
       "      <td>2021-10-18</td>\n",
       "      <td>Negativo</td>\n",
       "      <td>0.00</td>\n",
       "    </tr>\n",
       "    <tr>\n",
       "      <th>6903</th>\n",
       "      <td>Futuro sostenible</td>\n",
       "      <td>Mexico</td>\n",
       "      <td>Twitter</td>\n",
       "      <td>Corte de Caja al Mundo de #Negocios (18/10/21)...</td>\n",
       "      <td>2021-10-18</td>\n",
       "      <td>Negativo</td>\n",
       "      <td>0.45</td>\n",
       "    </tr>\n",
       "    <tr>\n",
       "      <th>6904</th>\n",
       "      <td>Futuro sostenible</td>\n",
       "      <td>Mexico</td>\n",
       "      <td>Twitter</td>\n",
       "      <td>Los autos eléctricos de Musk volvieron a acele...</td>\n",
       "      <td>2021-10-18</td>\n",
       "      <td>Negativo</td>\n",
       "      <td>0.07</td>\n",
       "    </tr>\n",
       "    <tr>\n",
       "      <th>6905</th>\n",
       "      <td>Futuro sostenible</td>\n",
       "      <td>Mexico</td>\n",
       "      <td>Twitter</td>\n",
       "      <td>El gigante tecnológico de Taiwán, Foxconn, pre...</td>\n",
       "      <td>2021-10-18</td>\n",
       "      <td>Negativo</td>\n",
       "      <td>0.13</td>\n",
       "    </tr>\n",
       "    <tr>\n",
       "      <th>6906</th>\n",
       "      <td>Futuro sostenible</td>\n",
       "      <td>Mexico</td>\n",
       "      <td>Twitter</td>\n",
       "      <td>@jrisco @lafuentejavi @el_pais Si, ya ves qué ...</td>\n",
       "      <td>2021-10-18</td>\n",
       "      <td>Negativo</td>\n",
       "      <td>0.00</td>\n",
       "    </tr>\n",
       "  </tbody>\n",
       "</table>\n",
       "<p>6907 rows × 7 columns</p>\n",
       "</div>"
      ],
      "text/plain": [
       "                      Tipo      Pais   Fuente  \\\n",
       "0     Excelencia Operativa  Colombia     Apps   \n",
       "1     Excelencia Operativa  Colombia     Apps   \n",
       "2     Excelencia Operativa  Colombia     Apps   \n",
       "3     Excelencia Operativa  Colombia     Apps   \n",
       "4     Excelencia Operativa  Colombia     Apps   \n",
       "...                    ...       ...      ...   \n",
       "6902     Futuro sostenible    Mexico  Twitter   \n",
       "6903     Futuro sostenible    Mexico  Twitter   \n",
       "6904     Futuro sostenible    Mexico  Twitter   \n",
       "6905     Futuro sostenible    Mexico  Twitter   \n",
       "6906     Futuro sostenible    Mexico  Twitter   \n",
       "\n",
       "                                                  Texto FechaPublicacion  \\\n",
       "0     Muy mala la app como una hora pidiendo un Códi...       2021-10-22   \n",
       "1                       Un poquito lenta pero excelente       2021-10-22   \n",
       "2     Que aplicacion tan mala, con tanto que roban d...       2021-10-22   \n",
       "3     Muy lenta, se nota lo pesada... Debe ser mas i...       2021-10-22   \n",
       "4               Muy buena lo mejor que han podido crear       2021-10-22   \n",
       "...                                                 ...              ...   \n",
       "6902  @RicardoAnayaC Habría que comparar con el mund...       2021-10-18   \n",
       "6903  Corte de Caja al Mundo de #Negocios (18/10/21)...       2021-10-18   \n",
       "6904  Los autos eléctricos de Musk volvieron a acele...       2021-10-18   \n",
       "6905  El gigante tecnológico de Taiwán, Foxconn, pre...       2021-10-18   \n",
       "6906  @jrisco @lafuentejavi @el_pais Si, ya ves qué ...       2021-10-18   \n",
       "\n",
       "     sentimiento  sentimiento_numerico  \n",
       "0       Negativo                  0.00  \n",
       "1       Positivo                  0.94  \n",
       "2       Negativo                  0.00  \n",
       "3       Negativo                  0.00  \n",
       "4       Positivo                  0.55  \n",
       "...          ...                   ...  \n",
       "6902    Negativo                  0.00  \n",
       "6903    Negativo                  0.45  \n",
       "6904    Negativo                  0.07  \n",
       "6905    Negativo                  0.13  \n",
       "6906    Negativo                  0.00  \n",
       "\n",
       "[6907 rows x 7 columns]"
      ]
     },
     "execution_count": 75,
     "metadata": {},
     "output_type": "execute_result"
    }
   ],
   "source": [
    "df"
   ]
  },
  {
   "cell_type": "code",
   "execution_count": 76,
   "metadata": {},
   "outputs": [
    {
     "name": "stdout",
     "output_type": "stream",
     "text": [
      "<class 'pandas.core.frame.DataFrame'>\n",
      "RangeIndex: 6907 entries, 0 to 6906\n",
      "Data columns (total 7 columns):\n",
      " #   Column                Non-Null Count  Dtype         \n",
      "---  ------                --------------  -----         \n",
      " 0   Tipo                  6907 non-null   object        \n",
      " 1   Pais                  6907 non-null   object        \n",
      " 2   Fuente                6907 non-null   object        \n",
      " 3   Texto                 6907 non-null   object        \n",
      " 4   FechaPublicacion      6907 non-null   datetime64[ns]\n",
      " 5   sentimiento           6907 non-null   object        \n",
      " 6   sentimiento_numerico  6907 non-null   float64       \n",
      "dtypes: datetime64[ns](1), float64(1), object(5)\n",
      "memory usage: 377.9+ KB\n"
     ]
    },
    {
     "name": "stderr",
     "output_type": "stream",
     "text": [
      "C:\\Users\\pc\\anaconda3\\lib\\site-packages\\ipykernel\\ipkernel.py:283: DeprecationWarning:\n",
      "\n",
      "`should_run_async` will not call `transform_cell` automatically in the future. Please pass the result to `transformed_cell` argument and any exception that happen during thetransform in `preprocessing_exc_tuple` in IPython 7.17 and above.\n",
      "\n"
     ]
    }
   ],
   "source": [
    "df.info()"
   ]
  },
  {
   "cell_type": "code",
   "execution_count": 77,
   "metadata": {},
   "outputs": [
    {
     "name": "stderr",
     "output_type": "stream",
     "text": [
      "C:\\Users\\pc\\anaconda3\\lib\\site-packages\\ipykernel\\ipkernel.py:283: DeprecationWarning:\n",
      "\n",
      "`should_run_async` will not call `transform_cell` automatically in the future. Please pass the result to `transformed_cell` argument and any exception that happen during thetransform in `preprocessing_exc_tuple` in IPython 7.17 and above.\n",
      "\n"
     ]
    }
   ],
   "source": [
    "import json, re\n",
    "import pandas as pd \n",
    "from nltk.corpus import stopwords\n",
    "from nltk.stem import SnowballStemmer\n",
    "from nltk.tokenize import ToktokTokenizer"
   ]
  },
  {
   "cell_type": "code",
   "execution_count": 78,
   "metadata": {},
   "outputs": [
    {
     "name": "stderr",
     "output_type": "stream",
     "text": [
      "C:\\Users\\pc\\anaconda3\\lib\\site-packages\\ipykernel\\ipkernel.py:283: DeprecationWarning:\n",
      "\n",
      "`should_run_async` will not call `transform_cell` automatically in the future. Please pass the result to `transformed_cell` argument and any exception that happen during thetransform in `preprocessing_exc_tuple` in IPython 7.17 and above.\n",
      "\n"
     ]
    },
    {
     "data": {
      "text/html": [
       "<div>\n",
       "<style scoped>\n",
       "    .dataframe tbody tr th:only-of-type {\n",
       "        vertical-align: middle;\n",
       "    }\n",
       "\n",
       "    .dataframe tbody tr th {\n",
       "        vertical-align: top;\n",
       "    }\n",
       "\n",
       "    .dataframe thead th {\n",
       "        text-align: right;\n",
       "    }\n",
       "</style>\n",
       "<table border=\"1\" class=\"dataframe\">\n",
       "  <thead>\n",
       "    <tr style=\"text-align: right;\">\n",
       "      <th></th>\n",
       "      <th>Tipo</th>\n",
       "      <th>Pais</th>\n",
       "      <th>Fuente</th>\n",
       "      <th>Texto</th>\n",
       "      <th>FechaPublicacion</th>\n",
       "      <th>sentimiento</th>\n",
       "      <th>sentimiento_numerico</th>\n",
       "    </tr>\n",
       "  </thead>\n",
       "  <tbody>\n",
       "    <tr>\n",
       "      <th>0</th>\n",
       "      <td>Excelencia Operativa</td>\n",
       "      <td>Colombia</td>\n",
       "      <td>Apps</td>\n",
       "      <td>muy mala la app como una hora pidiendo un códi...</td>\n",
       "      <td>2021-10-22</td>\n",
       "      <td>Negativo</td>\n",
       "      <td>0.00</td>\n",
       "    </tr>\n",
       "    <tr>\n",
       "      <th>1</th>\n",
       "      <td>Excelencia Operativa</td>\n",
       "      <td>Colombia</td>\n",
       "      <td>Apps</td>\n",
       "      <td>un poquito lenta pero excelente</td>\n",
       "      <td>2021-10-22</td>\n",
       "      <td>Positivo</td>\n",
       "      <td>0.94</td>\n",
       "    </tr>\n",
       "    <tr>\n",
       "      <th>2</th>\n",
       "      <td>Excelencia Operativa</td>\n",
       "      <td>Colombia</td>\n",
       "      <td>Apps</td>\n",
       "      <td>que aplicacion tan mala con tanto que roban de...</td>\n",
       "      <td>2021-10-22</td>\n",
       "      <td>Negativo</td>\n",
       "      <td>0.00</td>\n",
       "    </tr>\n",
       "    <tr>\n",
       "      <th>3</th>\n",
       "      <td>Excelencia Operativa</td>\n",
       "      <td>Colombia</td>\n",
       "      <td>Apps</td>\n",
       "      <td>muy lenta se nota lo pesada debe ser mas intui...</td>\n",
       "      <td>2021-10-22</td>\n",
       "      <td>Negativo</td>\n",
       "      <td>0.00</td>\n",
       "    </tr>\n",
       "    <tr>\n",
       "      <th>4</th>\n",
       "      <td>Excelencia Operativa</td>\n",
       "      <td>Colombia</td>\n",
       "      <td>Apps</td>\n",
       "      <td>muy buena lo mejor que han podido crear</td>\n",
       "      <td>2021-10-22</td>\n",
       "      <td>Positivo</td>\n",
       "      <td>0.55</td>\n",
       "    </tr>\n",
       "  </tbody>\n",
       "</table>\n",
       "</div>"
      ],
      "text/plain": [
       "                   Tipo      Pais Fuente  \\\n",
       "0  Excelencia Operativa  Colombia   Apps   \n",
       "1  Excelencia Operativa  Colombia   Apps   \n",
       "2  Excelencia Operativa  Colombia   Apps   \n",
       "3  Excelencia Operativa  Colombia   Apps   \n",
       "4  Excelencia Operativa  Colombia   Apps   \n",
       "\n",
       "                                               Texto FechaPublicacion  \\\n",
       "0  muy mala la app como una hora pidiendo un códi...       2021-10-22   \n",
       "1                    un poquito lenta pero excelente       2021-10-22   \n",
       "2  que aplicacion tan mala con tanto que roban de...       2021-10-22   \n",
       "3  muy lenta se nota lo pesada debe ser mas intui...       2021-10-22   \n",
       "4            muy buena lo mejor que han podido crear       2021-10-22   \n",
       "\n",
       "  sentimiento  sentimiento_numerico  \n",
       "0    Negativo                  0.00  \n",
       "1    Positivo                  0.94  \n",
       "2    Negativo                  0.00  \n",
       "3    Negativo                  0.00  \n",
       "4    Positivo                  0.55  "
      ]
     },
     "execution_count": 78,
     "metadata": {},
     "output_type": "execute_result"
    }
   ],
   "source": [
    "def limpiar_texto(texto):\n",
    "    \"\"\"\n",
    "    Función para realizar la limpieza de un texto dado.\n",
    "    \"\"\"\n",
    "    # Eliminamos los caracteres especiales\n",
    "    texto = re.sub(r'\\W', ' ', str(texto))\n",
    "    # Eliminado las palabras que tengo un solo caracter\n",
    "    texto = re.sub(r'\\s+[a-zA-Z]\\s+', ' ', texto)\n",
    "    # Sustituir los espacios en blanco en uno solo\n",
    "    texto = re.sub(r'\\s+', ' ', texto, flags=re.I)\n",
    "    # Convertimos textos a minusculas\n",
    "    texto = texto.lower()\n",
    "    return texto\n",
    "\n",
    "df[\"Texto\"] = df.Texto.apply(limpiar_texto)\n",
    "df.head()"
   ]
  },
  {
   "cell_type": "code",
   "execution_count": 79,
   "metadata": {},
   "outputs": [
    {
     "name": "stderr",
     "output_type": "stream",
     "text": [
      "C:\\Users\\pc\\anaconda3\\lib\\site-packages\\ipykernel\\ipkernel.py:283: DeprecationWarning:\n",
      "\n",
      "`should_run_async` will not call `transform_cell` automatically in the future. Please pass the result to `transformed_cell` argument and any exception that happen during thetransform in `preprocessing_exc_tuple` in IPython 7.17 and above.\n",
      "\n"
     ]
    },
    {
     "data": {
      "text/html": [
       "<div>\n",
       "<style scoped>\n",
       "    .dataframe tbody tr th:only-of-type {\n",
       "        vertical-align: middle;\n",
       "    }\n",
       "\n",
       "    .dataframe tbody tr th {\n",
       "        vertical-align: top;\n",
       "    }\n",
       "\n",
       "    .dataframe thead th {\n",
       "        text-align: right;\n",
       "    }\n",
       "</style>\n",
       "<table border=\"1\" class=\"dataframe\">\n",
       "  <thead>\n",
       "    <tr style=\"text-align: right;\">\n",
       "      <th></th>\n",
       "      <th>Tipo</th>\n",
       "      <th>Pais</th>\n",
       "      <th>Fuente</th>\n",
       "      <th>Texto</th>\n",
       "      <th>FechaPublicacion</th>\n",
       "      <th>sentimiento</th>\n",
       "      <th>sentimiento_numerico</th>\n",
       "    </tr>\n",
       "  </thead>\n",
       "  <tbody>\n",
       "    <tr>\n",
       "      <th>0</th>\n",
       "      <td>Excelencia Operativa</td>\n",
       "      <td>Colombia</td>\n",
       "      <td>Apps</td>\n",
       "      <td>[muy, mala, la, app, como, una, hora, pidiendo...</td>\n",
       "      <td>2021-10-22</td>\n",
       "      <td>Negativo</td>\n",
       "      <td>0.00</td>\n",
       "    </tr>\n",
       "    <tr>\n",
       "      <th>1</th>\n",
       "      <td>Excelencia Operativa</td>\n",
       "      <td>Colombia</td>\n",
       "      <td>Apps</td>\n",
       "      <td>[un, poquito, lenta, pero, excelente]</td>\n",
       "      <td>2021-10-22</td>\n",
       "      <td>Positivo</td>\n",
       "      <td>0.94</td>\n",
       "    </tr>\n",
       "    <tr>\n",
       "      <th>2</th>\n",
       "      <td>Excelencia Operativa</td>\n",
       "      <td>Colombia</td>\n",
       "      <td>Apps</td>\n",
       "      <td>[que, aplicacion, tan, mala, con, tanto, que, ...</td>\n",
       "      <td>2021-10-22</td>\n",
       "      <td>Negativo</td>\n",
       "      <td>0.00</td>\n",
       "    </tr>\n",
       "    <tr>\n",
       "      <th>3</th>\n",
       "      <td>Excelencia Operativa</td>\n",
       "      <td>Colombia</td>\n",
       "      <td>Apps</td>\n",
       "      <td>[muy, lenta, se, nota, lo, pesada, debe, ser, ...</td>\n",
       "      <td>2021-10-22</td>\n",
       "      <td>Negativo</td>\n",
       "      <td>0.00</td>\n",
       "    </tr>\n",
       "    <tr>\n",
       "      <th>4</th>\n",
       "      <td>Excelencia Operativa</td>\n",
       "      <td>Colombia</td>\n",
       "      <td>Apps</td>\n",
       "      <td>[muy, buena, lo, mejor, que, han, podido, crear]</td>\n",
       "      <td>2021-10-22</td>\n",
       "      <td>Positivo</td>\n",
       "      <td>0.55</td>\n",
       "    </tr>\n",
       "  </tbody>\n",
       "</table>\n",
       "</div>"
      ],
      "text/plain": [
       "                   Tipo      Pais Fuente  \\\n",
       "0  Excelencia Operativa  Colombia   Apps   \n",
       "1  Excelencia Operativa  Colombia   Apps   \n",
       "2  Excelencia Operativa  Colombia   Apps   \n",
       "3  Excelencia Operativa  Colombia   Apps   \n",
       "4  Excelencia Operativa  Colombia   Apps   \n",
       "\n",
       "                                               Texto FechaPublicacion  \\\n",
       "0  [muy, mala, la, app, como, una, hora, pidiendo...       2021-10-22   \n",
       "1              [un, poquito, lenta, pero, excelente]       2021-10-22   \n",
       "2  [que, aplicacion, tan, mala, con, tanto, que, ...       2021-10-22   \n",
       "3  [muy, lenta, se, nota, lo, pesada, debe, ser, ...       2021-10-22   \n",
       "4   [muy, buena, lo, mejor, que, han, podido, crear]       2021-10-22   \n",
       "\n",
       "  sentimiento  sentimiento_numerico  \n",
       "0    Negativo                  0.00  \n",
       "1    Positivo                  0.94  \n",
       "2    Negativo                  0.00  \n",
       "3    Negativo                  0.00  \n",
       "4    Positivo                  0.55  "
      ]
     },
     "execution_count": 79,
     "metadata": {},
     "output_type": "execute_result"
    }
   ],
   "source": [
    "tokenizer = ToktokTokenizer() \n",
    "df[\"Texto\"] = df.Texto.apply(tokenizer.tokenize)\n",
    "df.head()"
   ]
  },
  {
   "cell_type": "code",
   "execution_count": 80,
   "metadata": {},
   "outputs": [
    {
     "name": "stderr",
     "output_type": "stream",
     "text": [
      "C:\\Users\\pc\\anaconda3\\lib\\site-packages\\ipykernel\\ipkernel.py:283: DeprecationWarning:\n",
      "\n",
      "`should_run_async` will not call `transform_cell` automatically in the future. Please pass the result to `transformed_cell` argument and any exception that happen during thetransform in `preprocessing_exc_tuple` in IPython 7.17 and above.\n",
      "\n"
     ]
    },
    {
     "data": {
      "text/html": [
       "<div>\n",
       "<style scoped>\n",
       "    .dataframe tbody tr th:only-of-type {\n",
       "        vertical-align: middle;\n",
       "    }\n",
       "\n",
       "    .dataframe tbody tr th {\n",
       "        vertical-align: top;\n",
       "    }\n",
       "\n",
       "    .dataframe thead th {\n",
       "        text-align: right;\n",
       "    }\n",
       "</style>\n",
       "<table border=\"1\" class=\"dataframe\">\n",
       "  <thead>\n",
       "    <tr style=\"text-align: right;\">\n",
       "      <th></th>\n",
       "      <th>Tipo</th>\n",
       "      <th>Pais</th>\n",
       "      <th>Fuente</th>\n",
       "      <th>Texto</th>\n",
       "      <th>FechaPublicacion</th>\n",
       "      <th>sentimiento</th>\n",
       "      <th>sentimiento_numerico</th>\n",
       "    </tr>\n",
       "  </thead>\n",
       "  <tbody>\n",
       "    <tr>\n",
       "      <th>0</th>\n",
       "      <td>Excelencia Operativa</td>\n",
       "      <td>Colombia</td>\n",
       "      <td>Apps</td>\n",
       "      <td>[mala, app, hora, pidiendo, código, poder, ing...</td>\n",
       "      <td>2021-10-22</td>\n",
       "      <td>Negativo</td>\n",
       "      <td>0.00</td>\n",
       "    </tr>\n",
       "    <tr>\n",
       "      <th>1</th>\n",
       "      <td>Excelencia Operativa</td>\n",
       "      <td>Colombia</td>\n",
       "      <td>Apps</td>\n",
       "      <td>[poquito, lenta, excelente]</td>\n",
       "      <td>2021-10-22</td>\n",
       "      <td>Positivo</td>\n",
       "      <td>0.94</td>\n",
       "    </tr>\n",
       "    <tr>\n",
       "      <th>2</th>\n",
       "      <td>Excelencia Operativa</td>\n",
       "      <td>Colombia</td>\n",
       "      <td>Apps</td>\n",
       "      <td>[aplicacion, tan, mala, roban, deberian, menos...</td>\n",
       "      <td>2021-10-22</td>\n",
       "      <td>Negativo</td>\n",
       "      <td>0.00</td>\n",
       "    </tr>\n",
       "    <tr>\n",
       "      <th>3</th>\n",
       "      <td>Excelencia Operativa</td>\n",
       "      <td>Colombia</td>\n",
       "      <td>Apps</td>\n",
       "      <td>[lenta, nota, pesada, debe, ser, mas, intuitiv...</td>\n",
       "      <td>2021-10-22</td>\n",
       "      <td>Negativo</td>\n",
       "      <td>0.00</td>\n",
       "    </tr>\n",
       "    <tr>\n",
       "      <th>4</th>\n",
       "      <td>Excelencia Operativa</td>\n",
       "      <td>Colombia</td>\n",
       "      <td>Apps</td>\n",
       "      <td>[buena, mejor, podido, crear]</td>\n",
       "      <td>2021-10-22</td>\n",
       "      <td>Positivo</td>\n",
       "      <td>0.55</td>\n",
       "    </tr>\n",
       "  </tbody>\n",
       "</table>\n",
       "</div>"
      ],
      "text/plain": [
       "                   Tipo      Pais Fuente  \\\n",
       "0  Excelencia Operativa  Colombia   Apps   \n",
       "1  Excelencia Operativa  Colombia   Apps   \n",
       "2  Excelencia Operativa  Colombia   Apps   \n",
       "3  Excelencia Operativa  Colombia   Apps   \n",
       "4  Excelencia Operativa  Colombia   Apps   \n",
       "\n",
       "                                               Texto FechaPublicacion  \\\n",
       "0  [mala, app, hora, pidiendo, código, poder, ing...       2021-10-22   \n",
       "1                        [poquito, lenta, excelente]       2021-10-22   \n",
       "2  [aplicacion, tan, mala, roban, deberian, menos...       2021-10-22   \n",
       "3  [lenta, nota, pesada, debe, ser, mas, intuitiv...       2021-10-22   \n",
       "4                      [buena, mejor, podido, crear]       2021-10-22   \n",
       "\n",
       "  sentimiento  sentimiento_numerico  \n",
       "0    Negativo                  0.00  \n",
       "1    Positivo                  0.94  \n",
       "2    Negativo                  0.00  \n",
       "3    Negativo                  0.00  \n",
       "4    Positivo                  0.55  "
      ]
     },
     "execution_count": 80,
     "metadata": {},
     "output_type": "execute_result"
    }
   ],
   "source": [
    "STOPWORDS = set(stopwords.words(\"spanish\"))\n",
    "\n",
    "def filtrar_stopword_digitos(tokens):\n",
    "    \"\"\"\n",
    "    Filtra stopwords y digitos de una lista de tokens.\n",
    "    \"\"\"\n",
    "\n",
    "    \n",
    "    return [token for token in tokens if token not in STOPWORDS \n",
    "            and not token.isdigit()]\n",
    "\n",
    "df[\"Texto\"] = df.Texto.apply(filtrar_stopword_digitos)\n",
    "df.head()"
   ]
  },
  {
   "cell_type": "code",
   "execution_count": 81,
   "metadata": {},
   "outputs": [
    {
     "name": "stderr",
     "output_type": "stream",
     "text": [
      "C:\\Users\\pc\\anaconda3\\lib\\site-packages\\ipykernel\\ipkernel.py:283: DeprecationWarning:\n",
      "\n",
      "`should_run_async` will not call `transform_cell` automatically in the future. Please pass the result to `transformed_cell` argument and any exception that happen during thetransform in `preprocessing_exc_tuple` in IPython 7.17 and above.\n",
      "\n"
     ]
    },
    {
     "data": {
      "text/html": [
       "<div>\n",
       "<style scoped>\n",
       "    .dataframe tbody tr th:only-of-type {\n",
       "        vertical-align: middle;\n",
       "    }\n",
       "\n",
       "    .dataframe tbody tr th {\n",
       "        vertical-align: top;\n",
       "    }\n",
       "\n",
       "    .dataframe thead th {\n",
       "        text-align: right;\n",
       "    }\n",
       "</style>\n",
       "<table border=\"1\" class=\"dataframe\">\n",
       "  <thead>\n",
       "    <tr style=\"text-align: right;\">\n",
       "      <th></th>\n",
       "      <th>Tipo</th>\n",
       "      <th>Pais</th>\n",
       "      <th>Fuente</th>\n",
       "      <th>Texto</th>\n",
       "      <th>FechaPublicacion</th>\n",
       "      <th>sentimiento</th>\n",
       "      <th>sentimiento_numerico</th>\n",
       "    </tr>\n",
       "  </thead>\n",
       "  <tbody>\n",
       "    <tr>\n",
       "      <th>0</th>\n",
       "      <td>Excelencia Operativa</td>\n",
       "      <td>Colombia</td>\n",
       "      <td>Apps</td>\n",
       "      <td>[mal, app, hor, pid, codig, pod, ingres, nunc,...</td>\n",
       "      <td>2021-10-22</td>\n",
       "      <td>Negativo</td>\n",
       "      <td>0.00</td>\n",
       "    </tr>\n",
       "    <tr>\n",
       "      <th>1</th>\n",
       "      <td>Excelencia Operativa</td>\n",
       "      <td>Colombia</td>\n",
       "      <td>Apps</td>\n",
       "      <td>[poquit, lent, excelent]</td>\n",
       "      <td>2021-10-22</td>\n",
       "      <td>Positivo</td>\n",
       "      <td>0.94</td>\n",
       "    </tr>\n",
       "    <tr>\n",
       "      <th>2</th>\n",
       "      <td>Excelencia Operativa</td>\n",
       "      <td>Colombia</td>\n",
       "      <td>Apps</td>\n",
       "      <td>[aplicacion, tan, mal, rob, deberi, men, ten, ...</td>\n",
       "      <td>2021-10-22</td>\n",
       "      <td>Negativo</td>\n",
       "      <td>0.00</td>\n",
       "    </tr>\n",
       "    <tr>\n",
       "      <th>3</th>\n",
       "      <td>Excelencia Operativa</td>\n",
       "      <td>Colombia</td>\n",
       "      <td>Apps</td>\n",
       "      <td>[lent, not, pes, deb, ser, mas, intuit, sencill]</td>\n",
       "      <td>2021-10-22</td>\n",
       "      <td>Negativo</td>\n",
       "      <td>0.00</td>\n",
       "    </tr>\n",
       "    <tr>\n",
       "      <th>4</th>\n",
       "      <td>Excelencia Operativa</td>\n",
       "      <td>Colombia</td>\n",
       "      <td>Apps</td>\n",
       "      <td>[buen, mejor, pod, cre]</td>\n",
       "      <td>2021-10-22</td>\n",
       "      <td>Positivo</td>\n",
       "      <td>0.55</td>\n",
       "    </tr>\n",
       "  </tbody>\n",
       "</table>\n",
       "</div>"
      ],
      "text/plain": [
       "                   Tipo      Pais Fuente  \\\n",
       "0  Excelencia Operativa  Colombia   Apps   \n",
       "1  Excelencia Operativa  Colombia   Apps   \n",
       "2  Excelencia Operativa  Colombia   Apps   \n",
       "3  Excelencia Operativa  Colombia   Apps   \n",
       "4  Excelencia Operativa  Colombia   Apps   \n",
       "\n",
       "                                               Texto FechaPublicacion  \\\n",
       "0  [mal, app, hor, pid, codig, pod, ingres, nunc,...       2021-10-22   \n",
       "1                           [poquit, lent, excelent]       2021-10-22   \n",
       "2  [aplicacion, tan, mal, rob, deberi, men, ten, ...       2021-10-22   \n",
       "3   [lent, not, pes, deb, ser, mas, intuit, sencill]       2021-10-22   \n",
       "4                            [buen, mejor, pod, cre]       2021-10-22   \n",
       "\n",
       "  sentimiento  sentimiento_numerico  \n",
       "0    Negativo                  0.00  \n",
       "1    Positivo                  0.94  \n",
       "2    Negativo                  0.00  \n",
       "3    Negativo                  0.00  \n",
       "4    Positivo                  0.55  "
      ]
     },
     "execution_count": 81,
     "metadata": {},
     "output_type": "execute_result"
    }
   ],
   "source": [
    "stemmer = SnowballStemmer(\"spanish\")\n",
    "\n",
    "def stem_palabras(tokens):\n",
    "    \"\"\"\n",
    "    Reduce cada palabra de una lista dada a su raíz.\n",
    "    \"\"\"\n",
    "    return [stemmer.stem(token) for token in tokens]\n",
    "\n",
    "df[\"Texto\"] = df.Texto.apply(stem_palabras)\n",
    "\n",
    "df.head()"
   ]
  },
  {
   "cell_type": "code",
   "execution_count": 82,
   "metadata": {},
   "outputs": [
    {
     "name": "stderr",
     "output_type": "stream",
     "text": [
      "C:\\Users\\pc\\anaconda3\\lib\\site-packages\\ipykernel\\ipkernel.py:283: DeprecationWarning:\n",
      "\n",
      "`should_run_async` will not call `transform_cell` automatically in the future. Please pass the result to `transformed_cell` argument and any exception that happen during thetransform in `preprocessing_exc_tuple` in IPython 7.17 and above.\n",
      "\n"
     ]
    }
   ],
   "source": [
    "from gensim.corpora import Dictionary\n",
    "from gensim.models import LdaModel\n",
    "import random\n",
    "import numpy as np\n",
    "import matplotlib.pyplot as plt\n",
    "from wordcloud import WordCloud\n",
    "%matplotlib inline"
   ]
  },
  {
   "cell_type": "code",
   "execution_count": 83,
   "metadata": {},
   "outputs": [
    {
     "name": "stdout",
     "output_type": "stream",
     "text": [
      "Número de tokens: 10309\n"
     ]
    },
    {
     "name": "stderr",
     "output_type": "stream",
     "text": [
      "C:\\Users\\pc\\anaconda3\\lib\\site-packages\\ipykernel\\ipkernel.py:283: DeprecationWarning:\n",
      "\n",
      "`should_run_async` will not call `transform_cell` automatically in the future. Please pass the result to `transformed_cell` argument and any exception that happen during thetransform in `preprocessing_exc_tuple` in IPython 7.17 and above.\n",
      "\n"
     ]
    }
   ],
   "source": [
    "diccionario = Dictionary(df.Texto)\n",
    "print(f'Número de tokens: {len(diccionario)}')"
   ]
  },
  {
   "cell_type": "code",
   "execution_count": 84,
   "metadata": {},
   "outputs": [
    {
     "name": "stderr",
     "output_type": "stream",
     "text": [
      "C:\\Users\\pc\\anaconda3\\lib\\site-packages\\ipykernel\\ipkernel.py:283: DeprecationWarning:\n",
      "\n",
      "`should_run_async` will not call `transform_cell` automatically in the future. Please pass the result to `transformed_cell` argument and any exception that happen during thetransform in `preprocessing_exc_tuple` in IPython 7.17 and above.\n",
      "\n"
     ]
    },
    {
     "data": {
      "text/plain": [
       "<gensim.corpora.dictionary.Dictionary at 0x25e648f7d00>"
      ]
     },
     "execution_count": 84,
     "metadata": {},
     "output_type": "execute_result"
    }
   ],
   "source": [
    "diccionario"
   ]
  },
  {
   "cell_type": "code",
   "execution_count": 85,
   "metadata": {},
   "outputs": [
    {
     "name": "stderr",
     "output_type": "stream",
     "text": [
      "C:\\Users\\pc\\anaconda3\\lib\\site-packages\\ipykernel\\ipkernel.py:283: DeprecationWarning:\n",
      "\n",
      "`should_run_async` will not call `transform_cell` automatically in the future. Please pass the result to `transformed_cell` argument and any exception that happen during thetransform in `preprocessing_exc_tuple` in IPython 7.17 and above.\n",
      "\n"
     ]
    }
   ],
   "source": [
    "del_ids = [k for k,v in diccionario.items() if v=='https']\n",
    "del_ids2 = [k for k,v in diccionario.items() if v=='co']\n",
    "del_ids3 = [k for k,v in diccionario.items() if v=='sanchezcastejon']\n",
    "\n",
    "diccionario.filter_tokens(bad_ids=del_ids)\n",
    "diccionario.filter_tokens(bad_ids=del_ids2)\n",
    "diccionario.filter_tokens(bad_ids=del_ids3)"
   ]
  },
  {
   "cell_type": "code",
   "execution_count": 86,
   "metadata": {},
   "outputs": [
    {
     "name": "stdout",
     "output_type": "stream",
     "text": [
      "Número de tokens: 5445\n"
     ]
    },
    {
     "name": "stderr",
     "output_type": "stream",
     "text": [
      "C:\\Users\\pc\\anaconda3\\lib\\site-packages\\ipykernel\\ipkernel.py:283: DeprecationWarning:\n",
      "\n",
      "`should_run_async` will not call `transform_cell` automatically in the future. Please pass the result to `transformed_cell` argument and any exception that happen during thetransform in `preprocessing_exc_tuple` in IPython 7.17 and above.\n",
      "\n"
     ]
    }
   ],
   "source": [
    "diccionario.filter_extremes(no_below=2, no_above = 0.8)\n",
    "print(f'Número de tokens: {len(diccionario)}')"
   ]
  },
  {
   "cell_type": "code",
   "execution_count": 87,
   "metadata": {},
   "outputs": [
    {
     "name": "stdout",
     "output_type": "stream",
     "text": [
      "[(42, 1), (43, 1), (44, 1), (45, 1)]\n"
     ]
    },
    {
     "name": "stderr",
     "output_type": "stream",
     "text": [
      "C:\\Users\\pc\\anaconda3\\lib\\site-packages\\ipykernel\\ipkernel.py:283: DeprecationWarning:\n",
      "\n",
      "`should_run_async` will not call `transform_cell` automatically in the future. Please pass the result to `transformed_cell` argument and any exception that happen during thetransform in `preprocessing_exc_tuple` in IPython 7.17 and above.\n",
      "\n"
     ]
    }
   ],
   "source": [
    "corpus = [diccionario.doc2bow(noticia) for noticia in df.Texto]\n",
    "\n",
    "# Mostramos el BOW de una noticia\n",
    "print(corpus[6])"
   ]
  },
  {
   "cell_type": "code",
   "execution_count": 91,
   "metadata": {},
   "outputs": [
    {
     "name": "stderr",
     "output_type": "stream",
     "text": [
      "C:\\Users\\pc\\anaconda3\\lib\\site-packages\\ipykernel\\ipkernel.py:283: DeprecationWarning:\n",
      "\n",
      "`should_run_async` will not call `transform_cell` automatically in the future. Please pass the result to `transformed_cell` argument and any exception that happen during thetransform in `preprocessing_exc_tuple` in IPython 7.17 and above.\n",
      "\n"
     ]
    }
   ],
   "source": [
    "lda = LdaModel(corpus=corpus, id2word=diccionario, \n",
    "               num_topics=3, random_state=42, \n",
    "               chunksize=1000, passes=10, alpha='auto')"
   ]
  },
  {
   "cell_type": "code",
   "execution_count": 92,
   "metadata": {},
   "outputs": [
    {
     "name": "stdout",
     "output_type": "stream",
     "text": [
      "(0, '0.020*\"españ\" + 0.018*\"medioambient\" + 0.015*\"aut\" + 0.011*\"mexic\" + 0.010*\"sanchezcastejon\" + 0.008*\"medi\" + 0.007*\"colombi\" + 0.007*\"incumpl\"')\n",
      "(1, '0.032*\"electr\" + 0.028*\"aut\" + 0.009*\"banc\" + 0.009*\"bbva_mex\" + 0.008*\"mexic\" + 0.008*\"sol\" + 0.007*\"medioambient\" + 0.007*\"nuev\"')\n",
      "(2, '0.017*\"pued\" + 0.014*\"buen\" + 0.013*\"banc\" + 0.013*\"hac\" + 0.012*\"cuent\" + 0.012*\"app\" + 0.011*\"hol\" + 0.011*\"mensaj\"')\n"
     ]
    },
    {
     "name": "stderr",
     "output_type": "stream",
     "text": [
      "C:\\Users\\pc\\anaconda3\\lib\\site-packages\\ipykernel\\ipkernel.py:283: DeprecationWarning:\n",
      "\n",
      "`should_run_async` will not call `transform_cell` automatically in the future. Please pass the result to `transformed_cell` argument and any exception that happen during thetransform in `preprocessing_exc_tuple` in IPython 7.17 and above.\n",
      "\n"
     ]
    }
   ],
   "source": [
    "topicos = lda.print_topics(num_words=8, num_topics=20)\n",
    "for topico in topicos:\n",
    "    print(topico)"
   ]
  },
  {
   "cell_type": "code",
   "execution_count": 93,
   "metadata": {},
   "outputs": [
    {
     "name": "stderr",
     "output_type": "stream",
     "text": [
      "C:\\Users\\pc\\anaconda3\\lib\\site-packages\\ipykernel\\ipkernel.py:283: DeprecationWarning:\n",
      "\n",
      "`should_run_async` will not call `transform_cell` automatically in the future. Please pass the result to `transformed_cell` argument and any exception that happen during thetransform in `preprocessing_exc_tuple` in IPython 7.17 and above.\n",
      "\n"
     ]
    },
    {
     "data": {
      "text/html": [
       "\n",
       "<link rel=\"stylesheet\" type=\"text/css\" href=\"https://cdn.jsdelivr.net/gh/bmabey/pyLDAvis@3.3.1/pyLDAvis/js/ldavis.v1.0.0.css\">\n",
       "\n",
       "\n",
       "<div id=\"ldavis_el842026044380724483394173961\"></div>\n",
       "<script type=\"text/javascript\">\n",
       "\n",
       "var ldavis_el842026044380724483394173961_data = {\"mdsDat\": {\"x\": [0.23752650567831163, 0.013973318510493628, -0.25149982418880523], \"y\": [0.12080461450274829, -0.22253338571505477, 0.10172877121230661], \"topics\": [1, 2, 3], \"cluster\": [1, 1, 1], \"Freq\": [23.94830118481502, 32.37014973979516, 43.681549075389825]}, \"tinfo\": {\"Term\": [\"electr\", \"aut\", \"espa\\u00f1\", \"buen\", \"medioambient\", \"pued\", \"app\", \"hol\", \"mensaj\", \"sanchezcastejon\", \"mexic\", \"priv\", \"dej\", \"graci\", \"tarjet\", \"aplic\", \"atencion\", \"medi\", \"incumpl\", \"esper\", \"banort\", \"servici\", \"qued\", \"ce\", \"hac\", \"stju\", \"quer\", \"solucion\", \"proyect\", \"pso\", \"sanchezcastejon\", \"incumpl\", \"ce\", \"stju\", \"pso\", \"gmi15f\", \"lourdesarastey\", \"d1999\", \"proyect\", \"okdiari\", \"_infolibr\", \"abc_es\", \"elespanolcom\", \"elmund\", \"elpais_espan\", \"eselka\", \"fgare\", \"iescol\", \"informativost5\", \"ionebelarr\", \"mjmonteroc\", \"noicetaz\", \"pabloecheniqu\", \"pepabuen\", \"40congresopso\", \"vox_\", \"maspais_\", \"comisioneurope\", \"popular\", \"ciudadanoscs\", \"espa\\u00f1\", \"medioambient\", \"medi\", \"mexic\", \"colombi\", \"aut\", \"pod\", \"banort\", \"vend\", \"gobiern\", \"millon\", \"ligabbvamx\", \"elsoldesanluis\", \"gvlo2008\", \"reforest\", \"arbol\", \"produc\", \"provinci\", \"transport\", \"hsbc_mx\", \"puebl\", \"tesl\", \"preci\", \"hibr\", \"gent\", \"mil\", \"contamin\", \"mundial\", \"agu\", \"aliment\", \"consum\", \"impuest\", \"mientr\", \"sustent\", \"emple\", \"ecolog\", \"combust\", \"amig\", \"electr\", \"polit\", \"fabric\", \"pens\", \"aut\", \"gasolin\", \"nuev\", \"sol\", \"bbva_mex\", \"compr\", \"mexic\", \"mayor\", \"deb\", \"accion\", \"santand\", \"ser\", \"banc\", \"medioambient\", \"espa\\u00f1\", \"si\", \"a\\u00f1os\", \"pas\", \"bbva\", \"cre\", \"futur\", \"hac\", \"mejor\", \"pag\", \"buen\", \"app\", \"hol\", \"mensaj\", \"priv\", \"aplic\", \"graci\", \"dej\", \"atencion\", \"servici\", \"qued\", \"quer\", \"contact\", \"tard\", \"esper\", \"excelent\", \"solucion\", \"intent\", \"problem\", \"instal\", \"atent\", \"dias\", \"funcion\", \"favor\", \"detall\", \"descarg\", \"ayudart\", \"gust\", \"direct\", \"revis\", \"tarjet\", \"pued\", \"telefon\", \"sucursal\", \"salud\", \"cas\", \"cuent\", \"hac\", \"bancolombi\", \"llam\", \"banc\", \"bbva_colombi\", \"si\", \"daviviend\", \"mejor\", \"pod\", \"bbva_mex\", \"bbva\"], \"Freq\": [978.0, 1111.0, 617.0, 542.0, 574.0, 661.0, 453.0, 432.0, 419.0, 215.0, 458.0, 284.0, 282.0, 277.0, 285.0, 262.0, 257.0, 197.0, 137.0, 233.0, 168.0, 227.0, 224.0, 128.0, 582.0, 126.0, 218.0, 217.0, 123.0, 122.0, 215.3016231486004, 136.77808459866748, 128.21461390512096, 125.48966718408333, 121.56718480308767, 121.02132945138115, 121.02132945138115, 120.53014082304831, 122.42962582030071, 116.45353616996695, 116.57926190151662, 116.06174509877255, 116.06174509877255, 116.06174509877255, 116.06174509877255, 116.06174509877255, 116.06174509877255, 116.06174509877255, 116.06174509877255, 116.06174509877255, 116.06174509877255, 116.06174509877255, 116.06174509877255, 116.06174509877255, 106.63366836926552, 106.24388767262234, 100.76563635106008, 100.76563635106008, 100.89364308450439, 97.62295699490743, 416.6042350760433, 365.9106690534151, 159.0101788533498, 234.42239215791938, 148.790584801134, 317.21553131785123, 122.84730046384215, 168.03350765480192, 107.65749388412377, 104.57663616884001, 84.24961056767005, 77.34369157957177, 75.77070014197473, 75.77070014197473, 71.95399344082773, 72.93117784876183, 60.59977127847432, 58.12464287147976, 61.76483883329913, 53.021214555510994, 49.89512849446806, 48.94760967467165, 47.991798338274805, 53.02220417052869, 51.34072087927565, 53.32004563029304, 56.394234058889886, 48.34995732327605, 47.821104444975276, 44.1952823963337, 40.02472463826579, 38.384158498635436, 38.02622487150951, 37.06087011900144, 38.82891043071301, 47.529994326964946, 38.6187233862783, 41.25633482137608, 896.822756348853, 48.28106640060864, 115.75583691347659, 41.325117964190085, 793.9011222878883, 67.54564719768308, 204.48593437284188, 212.41027499400104, 257.3974682302532, 90.56502006920343, 223.5903118490156, 107.11618426761346, 128.28702813931645, 79.58683201723687, 181.3756606261649, 92.63257079537915, 263.69732477233356, 208.59928389114106, 200.63730523874787, 167.4407315252592, 74.89106629954722, 104.4180364815158, 127.65245955509907, 84.3285707414911, 86.20023648317431, 86.30310418811588, 80.13834479320353, 78.17168907404633, 541.9744340244338, 452.97150218290034, 431.63992086123994, 418.73214945044447, 284.02824888308635, 261.7177787790384, 277.2885733485764, 281.8554986962525, 257.3605724991014, 227.4599857183331, 224.35941905402427, 218.11595759144208, 169.05772084410032, 176.81741449733235, 232.79070382069963, 172.66735339610543, 217.1736850248997, 166.90603776267568, 166.2305681863118, 160.8065730507066, 151.91510865851052, 163.63860904589956, 155.70865087045632, 196.37646774680357, 140.51604169442368, 119.26080438947852, 122.00248101331164, 120.82875235729826, 121.31823200724585, 106.87811515530339, 283.1152058234632, 631.6205207944522, 153.20268783061832, 132.83279783416833, 263.4273523462766, 252.56187373316993, 457.1903178540821, 488.25870982022155, 263.80786481753427, 188.89672859892605, 504.7844877370551, 216.78731960050743, 328.9772189073744, 223.17095223891286, 221.41878609705648, 231.90484526027402, 246.47513743133095, 230.48442873313812], \"Total\": [978.0, 1111.0, 617.0, 542.0, 574.0, 661.0, 453.0, 432.0, 419.0, 215.0, 458.0, 284.0, 282.0, 277.0, 285.0, 262.0, 257.0, 197.0, 137.0, 233.0, 168.0, 227.0, 224.0, 128.0, 582.0, 126.0, 218.0, 217.0, 123.0, 122.0, 215.93372578741955, 137.41683079519353, 128.84772298637318, 126.12191173134211, 122.1996811374481, 121.65343198291835, 121.65343198291835, 121.16239124164377, 123.0932422074199, 117.08588340595536, 117.21279058806036, 116.69384711382409, 116.69384711382409, 116.69384711382409, 116.69384711382409, 116.69384711382409, 116.69384711382409, 116.69384711382409, 116.69384711382409, 116.69384711382409, 116.69384711382409, 116.69384711382409, 116.69384711382409, 116.69384711382409, 107.26593083692516, 106.8760715616996, 101.39773731132289, 101.39773737127132, 101.52966376848167, 98.25505815284816, 617.6768472653238, 574.9295875167439, 197.7746758988733, 458.5294841243251, 203.75038188834773, 1111.5376510802648, 355.0230342084834, 168.84031994142578, 108.27541818270414, 105.30082238521658, 84.89274626234756, 77.96366123185676, 76.38979211247292, 76.38979211247292, 72.58843593768567, 73.62455828906832, 61.22918953574932, 58.742752104506955, 62.47630544309821, 53.67022241880267, 50.5114904852467, 49.55865464811673, 48.60780070517125, 53.70655305947112, 52.006773825258755, 54.013714298169425, 57.14280623284482, 49.04756158392918, 48.511568489819, 44.83584913224276, 40.64171623398297, 39.023578206808665, 38.66409525789557, 37.68366330913371, 39.484601058343756, 48.338766379323886, 39.28172262930193, 41.99543933304421, 978.6820946396545, 49.525592230270576, 125.13241789794111, 42.25275984422008, 1111.5376510802648, 74.89716616117968, 301.87855253625855, 335.6086164321522, 504.1981146672125, 120.11146622105917, 458.5294841243251, 158.49534784875982, 207.94439833499717, 103.28033803117822, 364.3988814095277, 136.6962222034524, 842.7103211443022, 574.9295875167439, 617.6768472653238, 514.9968691332973, 110.55416616043625, 260.89587290916893, 449.8564674008342, 157.74330600079006, 179.27412871430383, 582.8178556642162, 302.30047163769655, 274.8149136797492, 542.4683220005036, 453.43732997273656, 432.0875536983258, 419.1739278909257, 284.50251392949434, 262.1688371366837, 277.7762644631059, 282.385782978283, 257.8480751876627, 227.92953462134275, 224.83463900578647, 218.6282145785591, 169.4994116567824, 177.28319799748965, 233.44386763902662, 173.15627499851544, 217.79307060395857, 167.38849975364838, 166.7223815001874, 161.28392838772047, 152.37882965077205, 164.1395482258909, 156.19254772266206, 197.0361337038604, 141.02590815175128, 119.69982221723718, 122.45427608359381, 121.29373541159852, 121.78806672229929, 107.32153999140488, 285.7835412620969, 661.1557983097379, 154.55687321775613, 133.9684700861429, 276.68567229153405, 268.04527555229265, 538.1930532814994, 582.8178556642162, 294.42878882113547, 203.98426114316248, 842.7103211443022, 252.48349023294296, 514.9968691332973, 292.33079337774603, 302.30047163769655, 355.0230342084834, 504.1981146672125, 449.8564674008342], \"Category\": [\"Default\", \"Default\", \"Default\", \"Default\", \"Default\", \"Default\", \"Default\", \"Default\", \"Default\", \"Default\", \"Default\", \"Default\", \"Default\", \"Default\", \"Default\", \"Default\", \"Default\", \"Default\", \"Default\", \"Default\", \"Default\", \"Default\", \"Default\", \"Default\", \"Default\", \"Default\", \"Default\", \"Default\", \"Default\", \"Default\", \"Topic1\", \"Topic1\", \"Topic1\", \"Topic1\", \"Topic1\", \"Topic1\", \"Topic1\", \"Topic1\", \"Topic1\", \"Topic1\", \"Topic1\", \"Topic1\", \"Topic1\", \"Topic1\", \"Topic1\", \"Topic1\", \"Topic1\", \"Topic1\", \"Topic1\", \"Topic1\", \"Topic1\", \"Topic1\", \"Topic1\", \"Topic1\", \"Topic1\", \"Topic1\", \"Topic1\", \"Topic1\", \"Topic1\", \"Topic1\", \"Topic1\", \"Topic1\", \"Topic1\", \"Topic1\", \"Topic1\", \"Topic1\", \"Topic1\", \"Topic2\", \"Topic2\", \"Topic2\", \"Topic2\", \"Topic2\", \"Topic2\", \"Topic2\", \"Topic2\", \"Topic2\", \"Topic2\", \"Topic2\", \"Topic2\", \"Topic2\", \"Topic2\", \"Topic2\", \"Topic2\", \"Topic2\", \"Topic2\", \"Topic2\", \"Topic2\", \"Topic2\", \"Topic2\", \"Topic2\", \"Topic2\", \"Topic2\", \"Topic2\", \"Topic2\", \"Topic2\", \"Topic2\", \"Topic2\", \"Topic2\", \"Topic2\", \"Topic2\", \"Topic2\", \"Topic2\", \"Topic2\", \"Topic2\", \"Topic2\", \"Topic2\", \"Topic2\", \"Topic2\", \"Topic2\", \"Topic2\", \"Topic2\", \"Topic2\", \"Topic2\", \"Topic2\", \"Topic2\", \"Topic2\", \"Topic2\", \"Topic2\", \"Topic2\", \"Topic2\", \"Topic2\", \"Topic2\", \"Topic2\", \"Topic2\", \"Topic2\", \"Topic2\", \"Topic3\", \"Topic3\", \"Topic3\", \"Topic3\", \"Topic3\", \"Topic3\", \"Topic3\", \"Topic3\", \"Topic3\", \"Topic3\", \"Topic3\", \"Topic3\", \"Topic3\", \"Topic3\", \"Topic3\", \"Topic3\", \"Topic3\", \"Topic3\", \"Topic3\", \"Topic3\", \"Topic3\", \"Topic3\", \"Topic3\", \"Topic3\", \"Topic3\", \"Topic3\", \"Topic3\", \"Topic3\", \"Topic3\", \"Topic3\", \"Topic3\", \"Topic3\", \"Topic3\", \"Topic3\", \"Topic3\", \"Topic3\", \"Topic3\", \"Topic3\", \"Topic3\", \"Topic3\", \"Topic3\", \"Topic3\", \"Topic3\", \"Topic3\", \"Topic3\", \"Topic3\", \"Topic3\", \"Topic3\"], \"logprob\": [30.0, 29.0, 28.0, 27.0, 26.0, 25.0, 24.0, 23.0, 22.0, 21.0, 20.0, 19.0, 18.0, 17.0, 16.0, 15.0, 14.0, 13.0, 12.0, 11.0, 10.0, 9.0, 8.0, 7.0, 6.0, 5.0, 4.0, 3.0, 2.0, 1.0, -4.5686, -5.0222, -5.0869, -5.1084, -5.1401, -5.1446, -5.1446, -5.1487, -5.1331, -5.1831, -5.182, -5.1865, -5.1865, -5.1865, -5.1865, -5.1865, -5.1865, -5.1865, -5.1865, -5.1865, -5.1865, -5.1865, -5.1865, -5.1865, -5.2712, -5.2749, -5.3278, -5.3278, -5.3265, -5.3595, -3.9085, -4.0382, -4.8716, -4.4835, -4.9381, -4.181, -5.1296, -5.1178, -5.563, -5.592, -5.8081, -5.8937, -5.9142, -5.9142, -5.9659, -5.9524, -6.1376, -6.1793, -6.1186, -6.2712, -6.332, -6.3512, -6.3709, -6.2712, -6.3034, -6.2656, -6.2096, -6.3635, -6.3745, -6.4533, -6.5524, -6.5943, -6.6037, -6.6294, -6.5828, -6.3806, -6.5882, -6.5221, -3.4431, -6.3649, -5.4904, -6.5205, -3.565, -6.0291, -4.9214, -4.8834, -4.6913, -5.7359, -4.8321, -5.568, -5.3877, -5.8651, -5.0414, -5.7133, -4.6671, -4.9015, -4.9404, -5.1213, -5.9259, -5.5935, -5.3926, -5.8072, -5.7853, -5.7841, -5.8582, -5.883, -4.2464, -4.4258, -4.474, -4.5044, -4.8925, -4.9744, -4.9166, -4.9002, -4.9911, -5.1146, -5.1284, -5.1566, -5.4114, -5.3665, -5.0915, -5.3903, -5.1609, -5.4242, -5.4282, -5.4614, -5.5183, -5.444, -5.4936, -5.2616, -5.5963, -5.7603, -5.7376, -5.7472, -5.7432, -5.8699, -4.8958, -4.0933, -5.5099, -5.6525, -4.9678, -5.01, -4.4165, -4.3508, -4.9664, -5.3004, -4.3175, -5.1627, -4.7456, -5.1337, -5.1416, -5.0953, -5.0344, -5.1014], \"loglift\": [30.0, 29.0, 28.0, 27.0, 26.0, 25.0, 24.0, 23.0, 22.0, 21.0, 20.0, 19.0, 18.0, 17.0, 16.0, 15.0, 14.0, 13.0, 12.0, 11.0, 10.0, 9.0, 8.0, 7.0, 6.0, 5.0, 4.0, 3.0, 2.0, 1.0, 1.4263, 1.4246, 1.4243, 1.4242, 1.4241, 1.4241, 1.4241, 1.424, 1.4239, 1.4239, 1.4239, 1.4238, 1.4238, 1.4238, 1.4238, 1.4238, 1.4238, 1.4238, 1.4238, 1.4238, 1.4238, 1.4238, 1.4238, 1.4238, 1.4234, 1.4233, 1.423, 1.423, 1.423, 1.4228, 1.0354, 0.9774, 1.2111, 0.7584, 1.1149, 0.1754, 0.368, 1.1231, 1.1222, 1.121, 1.1203, 1.1199, 1.1198, 1.1198, 1.1192, 1.1185, 1.1176, 1.1174, 1.1165, 1.1158, 1.1157, 1.1155, 1.1152, 1.1151, 1.115, 1.115, 1.1147, 1.1136, 1.1136, 1.1135, 1.1126, 1.1114, 1.1113, 1.1113, 1.1112, 1.1111, 1.1109, 1.1102, 1.0406, 1.1025, 1.05, 1.1057, 0.7914, 1.0246, 0.7384, 0.6705, 0.4556, 0.8456, 0.4097, 0.7361, 0.6449, 0.8673, 0.4303, 0.7388, -0.0339, 0.1141, 0.0035, 0.0044, 0.7385, 0.2122, -0.1317, 0.5017, 0.3957, -0.7821, -0.1997, -0.1293, 0.8273, 0.8272, 0.8272, 0.8272, 0.8266, 0.8265, 0.8265, 0.8264, 0.8264, 0.8262, 0.8261, 0.8259, 0.8256, 0.8256, 0.8254, 0.8254, 0.8254, 0.8254, 0.8253, 0.8253, 0.8252, 0.8252, 0.8251, 0.8249, 0.8246, 0.8246, 0.8245, 0.8244, 0.8244, 0.8241, 0.8189, 0.7825, 0.8194, 0.8197, 0.7791, 0.7687, 0.6651, 0.6512, 0.7184, 0.7514, 0.3158, 0.6758, 0.3801, 0.5583, 0.5169, 0.4024, 0.1125, 0.1595]}, \"token.table\": {\"Topic\": [1, 1, 1, 2, 3, 2, 2, 2, 3, 3, 2, 3, 3, 1, 2, 3, 1, 2, 3, 1, 2, 3, 1, 2, 3, 2, 3, 1, 2, 3, 1, 2, 3, 2, 3, 3, 1, 3, 1, 1, 1, 2, 2, 1, 2, 3, 2, 3, 2, 1, 2, 3, 1, 2, 3, 1, 1, 2, 3, 1, 2, 3, 3, 3, 3, 3, 3, 2, 1, 2, 1, 1, 1, 2, 2, 1, 1, 2, 3, 3, 1, 2, 3, 1, 3, 1, 2, 1, 2, 2, 1, 2, 3, 3, 2, 1, 2, 3, 2, 3, 2, 1, 2, 1, 1, 3, 3, 1, 2, 2, 3, 1, 1, 1, 2, 3, 1, 3, 1, 2, 1, 2, 3, 3, 1, 2, 3, 2, 2, 2, 1, 2, 1, 2, 3, 1, 1, 1, 2, 3, 1, 2, 3, 2, 3, 1, 1, 3, 1, 2, 1, 2, 3, 3, 2, 2, 1, 1, 2, 1, 2, 3, 3, 3, 2, 3, 1, 2, 3, 1, 1, 2, 3, 1, 2, 3, 3, 1, 2, 3, 2, 3, 3, 1, 1, 3, 2, 3, 2, 3, 1, 3, 2, 2, 2, 1], \"Freq\": [0.9975208266515726, 0.998184578773419, 0.9940541242663179, 0.7745908032935527, 0.22269485594689642, 0.9894547114071077, 0.98135757104148, 0.9762964895985515, 0.9993559984530287, 0.999035522785998, 0.9915169842294178, 0.9967109500932072, 0.9975138957843405, 0.28519051936020223, 0.7143257803533142, 0.9962902391151804, 0.17186145633288202, 0.6784004855245344, 0.15377077671889444, 0.08781190658673392, 0.31327490998510477, 0.5992569300851436, 0.06792814004390696, 0.03396407002195348, 0.8966514485795719, 0.9950229901144626, 0.005922755893538468, 0.20450967512272203, 0.2845352001707437, 0.5112741878068051, 0.043567205086761616, 0.0990163751971855, 0.8594621367115701, 0.5097202717023813, 0.4879034507345752, 0.9991366832282915, 0.05596069533064263, 0.943870394576839, 0.9934207375440943, 0.9974041219083969, 0.7312869729081041, 0.2699381443620518, 0.9928281498252884, 0.9960774531899564, 0.7576295824456845, 0.2414423944057676, 0.9842104051342597, 0.9970536083169795, 0.9800008731074892, 0.20920063637968078, 0.5325107107846421, 0.2535765289450676, 0.12077450573484465, 0.02972910910396176, 0.8491376787819078, 0.9986597223777145, 0.06499486345746837, 0.17103911436175884, 0.7628344500534444, 0.06732568952132138, 0.6155491613377956, 0.3125835584918493, 0.9986338441892713, 0.9941535233363412, 0.9998162879991994, 0.9991498196053344, 0.9935291958932542, 0.9929918282012925, 0.08276436285454243, 0.9165386849447477, 0.9940541242663179, 0.9940541242663179, 0.9940541242663179, 0.9948973272253575, 0.9877268341238222, 0.9940541242663179, 0.6751102973119489, 0.3254128771215869, 0.9980986108415879, 0.9990974915664086, 0.07192380800425725, 0.927017969832649, 0.9947414025824437, 0.9940541242663179, 0.9987672412962753, 0.5187586221557231, 0.47971227425152885, 0.0934614800369871, 0.9079115203593031, 0.9806414866524602, 0.9946287418918843, 0.9971432095362361, 0.9972054327082038, 0.9975783134174098, 0.9948973272253575, 0.013726415418214483, 0.1475589657458057, 0.8373113405110835, 0.9868441927619386, 0.9997973704690718, 0.9875122108946605, 0.9940541242663179, 0.973770262650336, 0.9969666685457563, 0.9940541242663179, 0.9982395742058198, 0.9976790534939967, 0.9940541242663179, 0.9876396103437097, 0.07353508508910173, 0.9265420721226817, 0.9946287418918843, 0.9960774537788579, 0.14511466937153997, 0.6750986792502077, 0.1829706700771591, 0.8039451930706251, 0.19213784488480348, 0.6365996948962742, 0.3635227765937741, 0.0033079670520609968, 0.26463736416487976, 0.7310607185054803, 0.9995850698734989, 0.510327052243719, 0.4885182038572353, 0.002180884838648372, 0.9828239804018186, 0.9812322794064214, 0.9894838334056403, 0.9940541242663179, 0.9786419232659178, 0.9940541242663179, 0.675768444912951, 0.3213212703752757, 0.9907257529740761, 0.9940541242663179, 0.0036388127071055997, 0.2838273911542368, 0.7132072905926976, 0.14948492502055744, 0.3986264667214865, 0.4484547750616723, 0.9703508161635163, 0.023667093077158932, 0.9940541242663179, 0.34645639338367434, 0.6534787257318085, 0.02019158085683202, 0.969195881127937, 0.9947831623899646, 0.9874958196759849, 0.9982337100556556, 0.9956671594198252, 0.9962568582487034, 0.9873558510982673, 0.9911185846776404, 0.9983659438748985, 0.9898737796027599, 0.04386258136756761, 0.0015125028057781937, 0.9559017732518184, 0.9962877650460035, 0.9971265621879131, 0.9918935305591813, 0.9970039566015301, 0.04698472419020799, 0.0036142095530929223, 0.9505371124634385, 0.9956758686767682, 0.23326086971291554, 0.4967084402122084, 0.26893606155136146, 0.16825629581604568, 0.6803406743866195, 0.15362531357117215, 0.9959218333732529, 0.03689342817166177, 0.3242738160351324, 0.6388388351829853, 0.6316881916017751, 0.36649833758027517, 0.9963586049741651, 0.991104545467627, 0.0074644429346471695, 0.9927709103080735, 0.9818578331006368, 0.9984025671880442, 0.006998303650264332, 0.990259966512403, 0.006470110187795361, 0.9899268587326903, 0.9887274048885434, 0.9923762226380044, 0.997456318457811, 0.9918029213752131], \"Term\": [\"40congresopso\", \"_infolibr\", \"abc_es\", \"accion\", \"accion\", \"agu\", \"aliment\", \"amig\", \"aplic\", \"app\", \"arbol\", \"atencion\", \"atent\", \"aut\", \"aut\", \"ayudart\", \"a\\u00f1os\", \"a\\u00f1os\", \"a\\u00f1os\", \"banc\", \"banc\", \"banc\", \"bancolombi\", \"bancolombi\", \"bancolombi\", \"banort\", \"banort\", \"bbva\", \"bbva\", \"bbva\", \"bbva_colombi\", \"bbva_colombi\", \"bbva_colombi\", \"bbva_mex\", \"bbva_mex\", \"buen\", \"cas\", \"cas\", \"ce\", \"ciudadanoscs\", \"colombi\", \"colombi\", \"combust\", \"comisioneurope\", \"compr\", \"compr\", \"consum\", \"contact\", \"contamin\", \"cre\", \"cre\", \"cre\", \"cuent\", \"cuent\", \"cuent\", \"d1999\", \"daviviend\", \"daviviend\", \"daviviend\", \"deb\", \"deb\", \"deb\", \"dej\", \"descarg\", \"detall\", \"dias\", \"direct\", \"ecolog\", \"electr\", \"electr\", \"elespanolcom\", \"elmund\", \"elpais_espan\", \"elsoldesanluis\", \"emple\", \"eselka\", \"espa\\u00f1\", \"espa\\u00f1\", \"esper\", \"excelent\", \"fabric\", \"fabric\", \"favor\", \"fgare\", \"funcion\", \"futur\", \"futur\", \"gasolin\", \"gasolin\", \"gent\", \"gmi15f\", \"gobiern\", \"graci\", \"gust\", \"gvlo2008\", \"hac\", \"hac\", \"hac\", \"hibr\", \"hol\", \"hsbc_mx\", \"iescol\", \"impuest\", \"incumpl\", \"informativost5\", \"instal\", \"intent\", \"ionebelarr\", \"ligabbvamx\", \"llam\", \"llam\", \"lourdesarastey\", \"maspais_\", \"mayor\", \"mayor\", \"mayor\", \"medi\", \"medi\", \"medioambient\", \"medioambient\", \"mejor\", \"mejor\", \"mejor\", \"mensaj\", \"mexic\", \"mexic\", \"mexic\", \"mientr\", \"mil\", \"millon\", \"mjmonteroc\", \"mundial\", \"noicetaz\", \"nuev\", \"nuev\", \"okdiari\", \"pabloecheniqu\", \"pag\", \"pag\", \"pag\", \"pas\", \"pas\", \"pas\", \"pens\", \"pens\", \"pepabuen\", \"pod\", \"pod\", \"polit\", \"polit\", \"popular\", \"preci\", \"priv\", \"problem\", \"produc\", \"provinci\", \"proyect\", \"pso\", \"puebl\", \"pued\", \"pued\", \"pued\", \"qued\", \"quer\", \"reforest\", \"revis\", \"salud\", \"salud\", \"salud\", \"sanchezcastejon\", \"santand\", \"santand\", \"santand\", \"ser\", \"ser\", \"ser\", \"servici\", \"si\", \"si\", \"si\", \"sol\", \"sol\", \"solucion\", \"stju\", \"sucursal\", \"sucursal\", \"sustent\", \"tard\", \"tarjet\", \"tarjet\", \"telefon\", \"telefon\", \"tesl\", \"transport\", \"vend\", \"vox_\"]}, \"R\": 30, \"lambda.step\": 0.01, \"plot.opts\": {\"xlab\": \"PC1\", \"ylab\": \"PC2\"}, \"topic.order\": [1, 2, 3]};\n",
       "\n",
       "function LDAvis_load_lib(url, callback){\n",
       "  var s = document.createElement('script');\n",
       "  s.src = url;\n",
       "  s.async = true;\n",
       "  s.onreadystatechange = s.onload = callback;\n",
       "  s.onerror = function(){console.warn(\"failed to load library \" + url);};\n",
       "  document.getElementsByTagName(\"head\")[0].appendChild(s);\n",
       "}\n",
       "\n",
       "if(typeof(LDAvis) !== \"undefined\"){\n",
       "   // already loaded: just create the visualization\n",
       "   !function(LDAvis){\n",
       "       new LDAvis(\"#\" + \"ldavis_el842026044380724483394173961\", ldavis_el842026044380724483394173961_data);\n",
       "   }(LDAvis);\n",
       "}else if(typeof define === \"function\" && define.amd){\n",
       "   // require.js is available: use it to load d3/LDAvis\n",
       "   require.config({paths: {d3: \"https://d3js.org/d3.v5\"}});\n",
       "   require([\"d3\"], function(d3){\n",
       "      window.d3 = d3;\n",
       "      LDAvis_load_lib(\"https://cdn.jsdelivr.net/gh/bmabey/pyLDAvis@3.3.1/pyLDAvis/js/ldavis.v3.0.0.js\", function(){\n",
       "        new LDAvis(\"#\" + \"ldavis_el842026044380724483394173961\", ldavis_el842026044380724483394173961_data);\n",
       "      });\n",
       "    });\n",
       "}else{\n",
       "    // require.js not available: dynamically load d3 & LDAvis\n",
       "    LDAvis_load_lib(\"https://d3js.org/d3.v5.js\", function(){\n",
       "         LDAvis_load_lib(\"https://cdn.jsdelivr.net/gh/bmabey/pyLDAvis@3.3.1/pyLDAvis/js/ldavis.v3.0.0.js\", function(){\n",
       "                 new LDAvis(\"#\" + \"ldavis_el842026044380724483394173961\", ldavis_el842026044380724483394173961_data);\n",
       "            })\n",
       "         });\n",
       "}\n",
       "</script>"
      ],
      "text/plain": [
       "<IPython.core.display.HTML object>"
      ]
     },
     "execution_count": 93,
     "metadata": {},
     "output_type": "execute_result"
    }
   ],
   "source": [
    "import pyLDAvis.gensim_models\n",
    "\n",
    "lda_display = pyLDAvis.gensim_models.prepare(lda, corpus, diccionario, sort_topics=False)\n",
    "pyLDAvis.display(lda_display)"
   ]
  },
  {
   "cell_type": "code",
   "execution_count": 94,
   "metadata": {},
   "outputs": [
    {
     "name": "stderr",
     "output_type": "stream",
     "text": [
      "C:\\Users\\pc\\anaconda3\\lib\\site-packages\\ipykernel\\ipkernel.py:283: DeprecationWarning:\n",
      "\n",
      "`should_run_async` will not call `transform_cell` automatically in the future. Please pass the result to `transformed_cell` argument and any exception that happen during thetransform in `preprocessing_exc_tuple` in IPython 7.17 and above.\n",
      "\n"
     ]
    }
   ],
   "source": [
    "pyLDAvis.save_html(lda_display, 'LDA3Topicos.html')"
   ]
  },
  {
   "cell_type": "code",
   "execution_count": 110,
   "metadata": {},
   "outputs": [],
   "source": [
    "A = data[data['Pais']=='España'][['FechaPublicacion', 'sentimiento_numerico']].groupby('FechaPublicacion').mean()\n",
    "A = A.reset_index()"
   ]
  },
  {
   "cell_type": "code",
   "execution_count": 111,
   "metadata": {},
   "outputs": [
    {
     "data": {
      "application/vnd.plotly.v1+json": {
       "config": {
        "plotlyServerURL": "https://plot.ly"
       },
       "data": [
        {
         "mode": "lines+markers",
         "name": "lines+markers",
         "type": "scatter",
         "x": [
          "2021-10-12T00:00:00",
          "2021-10-13T00:00:00",
          "2021-10-14T00:00:00",
          "2021-10-15T00:00:00",
          "2021-10-16T00:00:00",
          "2021-10-17T00:00:00",
          "2021-10-18T00:00:00",
          "2021-10-19T00:00:00",
          "2021-10-20T00:00:00",
          "2021-10-21T00:00:00",
          "2021-10-22T00:00:00"
         ],
         "y": [
          0.89,
          0.4593103448275862,
          0.2705617977528091,
          0.32438053097345154,
          0.2366956521739131,
          0.2502586206896551,
          0.2959523809523811,
          0.5015384615384615,
          0.3768,
          0.5202857142857144,
          0.4559999999999999
         ]
        }
       ],
       "layout": {
        "template": {
         "data": {
          "bar": [
           {
            "error_x": {
             "color": "#2a3f5f"
            },
            "error_y": {
             "color": "#2a3f5f"
            },
            "marker": {
             "line": {
              "color": "#E5ECF6",
              "width": 0.5
             }
            },
            "type": "bar"
           }
          ],
          "barpolar": [
           {
            "marker": {
             "line": {
              "color": "#E5ECF6",
              "width": 0.5
             }
            },
            "type": "barpolar"
           }
          ],
          "carpet": [
           {
            "aaxis": {
             "endlinecolor": "#2a3f5f",
             "gridcolor": "white",
             "linecolor": "white",
             "minorgridcolor": "white",
             "startlinecolor": "#2a3f5f"
            },
            "baxis": {
             "endlinecolor": "#2a3f5f",
             "gridcolor": "white",
             "linecolor": "white",
             "minorgridcolor": "white",
             "startlinecolor": "#2a3f5f"
            },
            "type": "carpet"
           }
          ],
          "choropleth": [
           {
            "colorbar": {
             "outlinewidth": 0,
             "ticks": ""
            },
            "type": "choropleth"
           }
          ],
          "contour": [
           {
            "colorbar": {
             "outlinewidth": 0,
             "ticks": ""
            },
            "colorscale": [
             [
              0,
              "#0d0887"
             ],
             [
              0.1111111111111111,
              "#46039f"
             ],
             [
              0.2222222222222222,
              "#7201a8"
             ],
             [
              0.3333333333333333,
              "#9c179e"
             ],
             [
              0.4444444444444444,
              "#bd3786"
             ],
             [
              0.5555555555555556,
              "#d8576b"
             ],
             [
              0.6666666666666666,
              "#ed7953"
             ],
             [
              0.7777777777777778,
              "#fb9f3a"
             ],
             [
              0.8888888888888888,
              "#fdca26"
             ],
             [
              1,
              "#f0f921"
             ]
            ],
            "type": "contour"
           }
          ],
          "contourcarpet": [
           {
            "colorbar": {
             "outlinewidth": 0,
             "ticks": ""
            },
            "type": "contourcarpet"
           }
          ],
          "heatmap": [
           {
            "colorbar": {
             "outlinewidth": 0,
             "ticks": ""
            },
            "colorscale": [
             [
              0,
              "#0d0887"
             ],
             [
              0.1111111111111111,
              "#46039f"
             ],
             [
              0.2222222222222222,
              "#7201a8"
             ],
             [
              0.3333333333333333,
              "#9c179e"
             ],
             [
              0.4444444444444444,
              "#bd3786"
             ],
             [
              0.5555555555555556,
              "#d8576b"
             ],
             [
              0.6666666666666666,
              "#ed7953"
             ],
             [
              0.7777777777777778,
              "#fb9f3a"
             ],
             [
              0.8888888888888888,
              "#fdca26"
             ],
             [
              1,
              "#f0f921"
             ]
            ],
            "type": "heatmap"
           }
          ],
          "heatmapgl": [
           {
            "colorbar": {
             "outlinewidth": 0,
             "ticks": ""
            },
            "colorscale": [
             [
              0,
              "#0d0887"
             ],
             [
              0.1111111111111111,
              "#46039f"
             ],
             [
              0.2222222222222222,
              "#7201a8"
             ],
             [
              0.3333333333333333,
              "#9c179e"
             ],
             [
              0.4444444444444444,
              "#bd3786"
             ],
             [
              0.5555555555555556,
              "#d8576b"
             ],
             [
              0.6666666666666666,
              "#ed7953"
             ],
             [
              0.7777777777777778,
              "#fb9f3a"
             ],
             [
              0.8888888888888888,
              "#fdca26"
             ],
             [
              1,
              "#f0f921"
             ]
            ],
            "type": "heatmapgl"
           }
          ],
          "histogram": [
           {
            "marker": {
             "colorbar": {
              "outlinewidth": 0,
              "ticks": ""
             }
            },
            "type": "histogram"
           }
          ],
          "histogram2d": [
           {
            "colorbar": {
             "outlinewidth": 0,
             "ticks": ""
            },
            "colorscale": [
             [
              0,
              "#0d0887"
             ],
             [
              0.1111111111111111,
              "#46039f"
             ],
             [
              0.2222222222222222,
              "#7201a8"
             ],
             [
              0.3333333333333333,
              "#9c179e"
             ],
             [
              0.4444444444444444,
              "#bd3786"
             ],
             [
              0.5555555555555556,
              "#d8576b"
             ],
             [
              0.6666666666666666,
              "#ed7953"
             ],
             [
              0.7777777777777778,
              "#fb9f3a"
             ],
             [
              0.8888888888888888,
              "#fdca26"
             ],
             [
              1,
              "#f0f921"
             ]
            ],
            "type": "histogram2d"
           }
          ],
          "histogram2dcontour": [
           {
            "colorbar": {
             "outlinewidth": 0,
             "ticks": ""
            },
            "colorscale": [
             [
              0,
              "#0d0887"
             ],
             [
              0.1111111111111111,
              "#46039f"
             ],
             [
              0.2222222222222222,
              "#7201a8"
             ],
             [
              0.3333333333333333,
              "#9c179e"
             ],
             [
              0.4444444444444444,
              "#bd3786"
             ],
             [
              0.5555555555555556,
              "#d8576b"
             ],
             [
              0.6666666666666666,
              "#ed7953"
             ],
             [
              0.7777777777777778,
              "#fb9f3a"
             ],
             [
              0.8888888888888888,
              "#fdca26"
             ],
             [
              1,
              "#f0f921"
             ]
            ],
            "type": "histogram2dcontour"
           }
          ],
          "mesh3d": [
           {
            "colorbar": {
             "outlinewidth": 0,
             "ticks": ""
            },
            "type": "mesh3d"
           }
          ],
          "parcoords": [
           {
            "line": {
             "colorbar": {
              "outlinewidth": 0,
              "ticks": ""
             }
            },
            "type": "parcoords"
           }
          ],
          "pie": [
           {
            "automargin": true,
            "type": "pie"
           }
          ],
          "scatter": [
           {
            "marker": {
             "colorbar": {
              "outlinewidth": 0,
              "ticks": ""
             }
            },
            "type": "scatter"
           }
          ],
          "scatter3d": [
           {
            "line": {
             "colorbar": {
              "outlinewidth": 0,
              "ticks": ""
             }
            },
            "marker": {
             "colorbar": {
              "outlinewidth": 0,
              "ticks": ""
             }
            },
            "type": "scatter3d"
           }
          ],
          "scattercarpet": [
           {
            "marker": {
             "colorbar": {
              "outlinewidth": 0,
              "ticks": ""
             }
            },
            "type": "scattercarpet"
           }
          ],
          "scattergeo": [
           {
            "marker": {
             "colorbar": {
              "outlinewidth": 0,
              "ticks": ""
             }
            },
            "type": "scattergeo"
           }
          ],
          "scattergl": [
           {
            "marker": {
             "colorbar": {
              "outlinewidth": 0,
              "ticks": ""
             }
            },
            "type": "scattergl"
           }
          ],
          "scattermapbox": [
           {
            "marker": {
             "colorbar": {
              "outlinewidth": 0,
              "ticks": ""
             }
            },
            "type": "scattermapbox"
           }
          ],
          "scatterpolar": [
           {
            "marker": {
             "colorbar": {
              "outlinewidth": 0,
              "ticks": ""
             }
            },
            "type": "scatterpolar"
           }
          ],
          "scatterpolargl": [
           {
            "marker": {
             "colorbar": {
              "outlinewidth": 0,
              "ticks": ""
             }
            },
            "type": "scatterpolargl"
           }
          ],
          "scatterternary": [
           {
            "marker": {
             "colorbar": {
              "outlinewidth": 0,
              "ticks": ""
             }
            },
            "type": "scatterternary"
           }
          ],
          "surface": [
           {
            "colorbar": {
             "outlinewidth": 0,
             "ticks": ""
            },
            "colorscale": [
             [
              0,
              "#0d0887"
             ],
             [
              0.1111111111111111,
              "#46039f"
             ],
             [
              0.2222222222222222,
              "#7201a8"
             ],
             [
              0.3333333333333333,
              "#9c179e"
             ],
             [
              0.4444444444444444,
              "#bd3786"
             ],
             [
              0.5555555555555556,
              "#d8576b"
             ],
             [
              0.6666666666666666,
              "#ed7953"
             ],
             [
              0.7777777777777778,
              "#fb9f3a"
             ],
             [
              0.8888888888888888,
              "#fdca26"
             ],
             [
              1,
              "#f0f921"
             ]
            ],
            "type": "surface"
           }
          ],
          "table": [
           {
            "cells": {
             "fill": {
              "color": "#EBF0F8"
             },
             "line": {
              "color": "white"
             }
            },
            "header": {
             "fill": {
              "color": "#C8D4E3"
             },
             "line": {
              "color": "white"
             }
            },
            "type": "table"
           }
          ]
         },
         "layout": {
          "annotationdefaults": {
           "arrowcolor": "#2a3f5f",
           "arrowhead": 0,
           "arrowwidth": 1
          },
          "autotypenumbers": "strict",
          "coloraxis": {
           "colorbar": {
            "outlinewidth": 0,
            "ticks": ""
           }
          },
          "colorscale": {
           "diverging": [
            [
             0,
             "#8e0152"
            ],
            [
             0.1,
             "#c51b7d"
            ],
            [
             0.2,
             "#de77ae"
            ],
            [
             0.3,
             "#f1b6da"
            ],
            [
             0.4,
             "#fde0ef"
            ],
            [
             0.5,
             "#f7f7f7"
            ],
            [
             0.6,
             "#e6f5d0"
            ],
            [
             0.7,
             "#b8e186"
            ],
            [
             0.8,
             "#7fbc41"
            ],
            [
             0.9,
             "#4d9221"
            ],
            [
             1,
             "#276419"
            ]
           ],
           "sequential": [
            [
             0,
             "#0d0887"
            ],
            [
             0.1111111111111111,
             "#46039f"
            ],
            [
             0.2222222222222222,
             "#7201a8"
            ],
            [
             0.3333333333333333,
             "#9c179e"
            ],
            [
             0.4444444444444444,
             "#bd3786"
            ],
            [
             0.5555555555555556,
             "#d8576b"
            ],
            [
             0.6666666666666666,
             "#ed7953"
            ],
            [
             0.7777777777777778,
             "#fb9f3a"
            ],
            [
             0.8888888888888888,
             "#fdca26"
            ],
            [
             1,
             "#f0f921"
            ]
           ],
           "sequentialminus": [
            [
             0,
             "#0d0887"
            ],
            [
             0.1111111111111111,
             "#46039f"
            ],
            [
             0.2222222222222222,
             "#7201a8"
            ],
            [
             0.3333333333333333,
             "#9c179e"
            ],
            [
             0.4444444444444444,
             "#bd3786"
            ],
            [
             0.5555555555555556,
             "#d8576b"
            ],
            [
             0.6666666666666666,
             "#ed7953"
            ],
            [
             0.7777777777777778,
             "#fb9f3a"
            ],
            [
             0.8888888888888888,
             "#fdca26"
            ],
            [
             1,
             "#f0f921"
            ]
           ]
          },
          "colorway": [
           "#636efa",
           "#EF553B",
           "#00cc96",
           "#ab63fa",
           "#FFA15A",
           "#19d3f3",
           "#FF6692",
           "#B6E880",
           "#FF97FF",
           "#FECB52"
          ],
          "font": {
           "color": "#2a3f5f"
          },
          "geo": {
           "bgcolor": "white",
           "lakecolor": "white",
           "landcolor": "#E5ECF6",
           "showlakes": true,
           "showland": true,
           "subunitcolor": "white"
          },
          "hoverlabel": {
           "align": "left"
          },
          "hovermode": "closest",
          "mapbox": {
           "style": "light"
          },
          "paper_bgcolor": "white",
          "plot_bgcolor": "#E5ECF6",
          "polar": {
           "angularaxis": {
            "gridcolor": "white",
            "linecolor": "white",
            "ticks": ""
           },
           "bgcolor": "#E5ECF6",
           "radialaxis": {
            "gridcolor": "white",
            "linecolor": "white",
            "ticks": ""
           }
          },
          "scene": {
           "xaxis": {
            "backgroundcolor": "#E5ECF6",
            "gridcolor": "white",
            "gridwidth": 2,
            "linecolor": "white",
            "showbackground": true,
            "ticks": "",
            "zerolinecolor": "white"
           },
           "yaxis": {
            "backgroundcolor": "#E5ECF6",
            "gridcolor": "white",
            "gridwidth": 2,
            "linecolor": "white",
            "showbackground": true,
            "ticks": "",
            "zerolinecolor": "white"
           },
           "zaxis": {
            "backgroundcolor": "#E5ECF6",
            "gridcolor": "white",
            "gridwidth": 2,
            "linecolor": "white",
            "showbackground": true,
            "ticks": "",
            "zerolinecolor": "white"
           }
          },
          "shapedefaults": {
           "line": {
            "color": "#2a3f5f"
           }
          },
          "ternary": {
           "aaxis": {
            "gridcolor": "white",
            "linecolor": "white",
            "ticks": ""
           },
           "baxis": {
            "gridcolor": "white",
            "linecolor": "white",
            "ticks": ""
           },
           "bgcolor": "#E5ECF6",
           "caxis": {
            "gridcolor": "white",
            "linecolor": "white",
            "ticks": ""
           }
          },
          "title": {
           "x": 0.05
          },
          "xaxis": {
           "automargin": true,
           "gridcolor": "white",
           "linecolor": "white",
           "ticks": "",
           "title": {
            "standoff": 15
           },
           "zerolinecolor": "white",
           "zerolinewidth": 2
          },
          "yaxis": {
           "automargin": true,
           "gridcolor": "white",
           "linecolor": "white",
           "ticks": "",
           "title": {
            "standoff": 15
           },
           "zerolinecolor": "white",
           "zerolinewidth": 2
          }
         }
        },
        "xaxis": {
         "title": {
          "text": "Días"
         }
        },
        "yaxis": {
         "title": {
          "text": "Coef Sentimiento"
         }
        }
       }
      }
     },
     "metadata": {},
     "output_type": "display_data"
    }
   ],
   "source": [
    "data = [go.Scatter(\n",
    "                x=A.FechaPublicacion,\n",
    "                y=A['sentimiento_numerico']\n",
    "        )\n",
    "        ]\n",
    "fig = go.Figure()\n",
    "\n",
    "fig.add_trace(go.Scatter(x=A.FechaPublicacion, y=A['sentimiento_numerico'],\n",
    "                    mode='lines+markers',\n",
    "                    name='lines+markers'))\n",
    "\n",
    "fig.update_layout(\n",
    "    xaxis_title=\"Días\",\n",
    "    yaxis_title=\"Coef Sentimiento\",\n",
    ")\n",
    "\n",
    "fig.show()"
   ]
  },
  {
   "cell_type": "code",
   "execution_count": 112,
   "metadata": {},
   "outputs": [],
   "source": [
    "fig.write_html(\"Sentimiento_España.html\")"
   ]
  },
  {
   "cell_type": "code",
   "execution_count": null,
   "metadata": {},
   "outputs": [],
   "source": [
    "data = pd.read_csv('data.csv')\n",
    "\n",
    "fechas = data['FechaPublicacion']\n",
    "fechas2 = []\n",
    "\n",
    "for i in fechas:\n",
    "    fechas2.append(i[0:10])\n",
    "\n",
    "data['FechaPublicacion'] = fechas2\n",
    "\n",
    "data['FechaPublicacion'] = pd.to_datetime(data['FechaPublicacion'], format=\"%Y/%m/%d\")"
   ]
  },
  {
   "cell_type": "code",
   "execution_count": 7,
   "metadata": {},
   "outputs": [
    {
     "data": {
      "text/html": [
       "<div>\n",
       "<style scoped>\n",
       "    .dataframe tbody tr th:only-of-type {\n",
       "        vertical-align: middle;\n",
       "    }\n",
       "\n",
       "    .dataframe tbody tr th {\n",
       "        vertical-align: top;\n",
       "    }\n",
       "\n",
       "    .dataframe thead th {\n",
       "        text-align: right;\n",
       "    }\n",
       "</style>\n",
       "<table border=\"1\" class=\"dataframe\">\n",
       "  <thead>\n",
       "    <tr style=\"text-align: right;\">\n",
       "      <th></th>\n",
       "      <th>FechaPublicacion</th>\n",
       "      <th>Texto</th>\n",
       "    </tr>\n",
       "  </thead>\n",
       "  <tbody>\n",
       "    <tr>\n",
       "      <th>0</th>\n",
       "      <td>2021-10-12</td>\n",
       "      <td>1</td>\n",
       "    </tr>\n",
       "    <tr>\n",
       "      <th>1</th>\n",
       "      <td>2021-10-13</td>\n",
       "      <td>29</td>\n",
       "    </tr>\n",
       "    <tr>\n",
       "      <th>2</th>\n",
       "      <td>2021-10-14</td>\n",
       "      <td>356</td>\n",
       "    </tr>\n",
       "    <tr>\n",
       "      <th>3</th>\n",
       "      <td>2021-10-15</td>\n",
       "      <td>452</td>\n",
       "    </tr>\n",
       "    <tr>\n",
       "      <th>4</th>\n",
       "      <td>2021-10-16</td>\n",
       "      <td>230</td>\n",
       "    </tr>\n",
       "    <tr>\n",
       "      <th>5</th>\n",
       "      <td>2021-10-17</td>\n",
       "      <td>116</td>\n",
       "    </tr>\n",
       "    <tr>\n",
       "      <th>6</th>\n",
       "      <td>2021-10-18</td>\n",
       "      <td>126</td>\n",
       "    </tr>\n",
       "    <tr>\n",
       "      <th>7</th>\n",
       "      <td>2021-10-19</td>\n",
       "      <td>26</td>\n",
       "    </tr>\n",
       "    <tr>\n",
       "      <th>8</th>\n",
       "      <td>2021-10-20</td>\n",
       "      <td>25</td>\n",
       "    </tr>\n",
       "    <tr>\n",
       "      <th>9</th>\n",
       "      <td>2021-10-21</td>\n",
       "      <td>35</td>\n",
       "    </tr>\n",
       "    <tr>\n",
       "      <th>10</th>\n",
       "      <td>2021-10-22</td>\n",
       "      <td>30</td>\n",
       "    </tr>\n",
       "  </tbody>\n",
       "</table>\n",
       "</div>"
      ],
      "text/plain": [
       "   FechaPublicacion  Texto\n",
       "0        2021-10-12      1\n",
       "1        2021-10-13     29\n",
       "2        2021-10-14    356\n",
       "3        2021-10-15    452\n",
       "4        2021-10-16    230\n",
       "5        2021-10-17    116\n",
       "6        2021-10-18    126\n",
       "7        2021-10-19     26\n",
       "8        2021-10-20     25\n",
       "9        2021-10-21     35\n",
       "10       2021-10-22     30"
      ]
     },
     "execution_count": 7,
     "metadata": {},
     "output_type": "execute_result"
    }
   ],
   "source": [
    "B = data[data['Pais']=='España'][['FechaPublicacion', 'Texto']].groupby('FechaPublicacion').count()\n",
    "B = B.reset_index()\n",
    "B"
   ]
  },
  {
   "cell_type": "code",
   "execution_count": 8,
   "metadata": {},
   "outputs": [
    {
     "data": {
      "application/vnd.plotly.v1+json": {
       "config": {
        "plotlyServerURL": "https://plot.ly"
       },
       "data": [
        {
         "mode": "lines+markers",
         "name": "lines+markers",
         "type": "scatter",
         "x": [
          "2021-10-12T00:00:00",
          "2021-10-13T00:00:00",
          "2021-10-14T00:00:00",
          "2021-10-15T00:00:00",
          "2021-10-16T00:00:00",
          "2021-10-17T00:00:00",
          "2021-10-18T00:00:00",
          "2021-10-19T00:00:00",
          "2021-10-20T00:00:00",
          "2021-10-21T00:00:00",
          "2021-10-22T00:00:00"
         ],
         "y": [
          1,
          29,
          356,
          452,
          230,
          116,
          126,
          26,
          25,
          35,
          30
         ]
        }
       ],
       "layout": {
        "template": {
         "data": {
          "bar": [
           {
            "error_x": {
             "color": "#2a3f5f"
            },
            "error_y": {
             "color": "#2a3f5f"
            },
            "marker": {
             "line": {
              "color": "#E5ECF6",
              "width": 0.5
             }
            },
            "type": "bar"
           }
          ],
          "barpolar": [
           {
            "marker": {
             "line": {
              "color": "#E5ECF6",
              "width": 0.5
             }
            },
            "type": "barpolar"
           }
          ],
          "carpet": [
           {
            "aaxis": {
             "endlinecolor": "#2a3f5f",
             "gridcolor": "white",
             "linecolor": "white",
             "minorgridcolor": "white",
             "startlinecolor": "#2a3f5f"
            },
            "baxis": {
             "endlinecolor": "#2a3f5f",
             "gridcolor": "white",
             "linecolor": "white",
             "minorgridcolor": "white",
             "startlinecolor": "#2a3f5f"
            },
            "type": "carpet"
           }
          ],
          "choropleth": [
           {
            "colorbar": {
             "outlinewidth": 0,
             "ticks": ""
            },
            "type": "choropleth"
           }
          ],
          "contour": [
           {
            "colorbar": {
             "outlinewidth": 0,
             "ticks": ""
            },
            "colorscale": [
             [
              0,
              "#0d0887"
             ],
             [
              0.1111111111111111,
              "#46039f"
             ],
             [
              0.2222222222222222,
              "#7201a8"
             ],
             [
              0.3333333333333333,
              "#9c179e"
             ],
             [
              0.4444444444444444,
              "#bd3786"
             ],
             [
              0.5555555555555556,
              "#d8576b"
             ],
             [
              0.6666666666666666,
              "#ed7953"
             ],
             [
              0.7777777777777778,
              "#fb9f3a"
             ],
             [
              0.8888888888888888,
              "#fdca26"
             ],
             [
              1,
              "#f0f921"
             ]
            ],
            "type": "contour"
           }
          ],
          "contourcarpet": [
           {
            "colorbar": {
             "outlinewidth": 0,
             "ticks": ""
            },
            "type": "contourcarpet"
           }
          ],
          "heatmap": [
           {
            "colorbar": {
             "outlinewidth": 0,
             "ticks": ""
            },
            "colorscale": [
             [
              0,
              "#0d0887"
             ],
             [
              0.1111111111111111,
              "#46039f"
             ],
             [
              0.2222222222222222,
              "#7201a8"
             ],
             [
              0.3333333333333333,
              "#9c179e"
             ],
             [
              0.4444444444444444,
              "#bd3786"
             ],
             [
              0.5555555555555556,
              "#d8576b"
             ],
             [
              0.6666666666666666,
              "#ed7953"
             ],
             [
              0.7777777777777778,
              "#fb9f3a"
             ],
             [
              0.8888888888888888,
              "#fdca26"
             ],
             [
              1,
              "#f0f921"
             ]
            ],
            "type": "heatmap"
           }
          ],
          "heatmapgl": [
           {
            "colorbar": {
             "outlinewidth": 0,
             "ticks": ""
            },
            "colorscale": [
             [
              0,
              "#0d0887"
             ],
             [
              0.1111111111111111,
              "#46039f"
             ],
             [
              0.2222222222222222,
              "#7201a8"
             ],
             [
              0.3333333333333333,
              "#9c179e"
             ],
             [
              0.4444444444444444,
              "#bd3786"
             ],
             [
              0.5555555555555556,
              "#d8576b"
             ],
             [
              0.6666666666666666,
              "#ed7953"
             ],
             [
              0.7777777777777778,
              "#fb9f3a"
             ],
             [
              0.8888888888888888,
              "#fdca26"
             ],
             [
              1,
              "#f0f921"
             ]
            ],
            "type": "heatmapgl"
           }
          ],
          "histogram": [
           {
            "marker": {
             "colorbar": {
              "outlinewidth": 0,
              "ticks": ""
             }
            },
            "type": "histogram"
           }
          ],
          "histogram2d": [
           {
            "colorbar": {
             "outlinewidth": 0,
             "ticks": ""
            },
            "colorscale": [
             [
              0,
              "#0d0887"
             ],
             [
              0.1111111111111111,
              "#46039f"
             ],
             [
              0.2222222222222222,
              "#7201a8"
             ],
             [
              0.3333333333333333,
              "#9c179e"
             ],
             [
              0.4444444444444444,
              "#bd3786"
             ],
             [
              0.5555555555555556,
              "#d8576b"
             ],
             [
              0.6666666666666666,
              "#ed7953"
             ],
             [
              0.7777777777777778,
              "#fb9f3a"
             ],
             [
              0.8888888888888888,
              "#fdca26"
             ],
             [
              1,
              "#f0f921"
             ]
            ],
            "type": "histogram2d"
           }
          ],
          "histogram2dcontour": [
           {
            "colorbar": {
             "outlinewidth": 0,
             "ticks": ""
            },
            "colorscale": [
             [
              0,
              "#0d0887"
             ],
             [
              0.1111111111111111,
              "#46039f"
             ],
             [
              0.2222222222222222,
              "#7201a8"
             ],
             [
              0.3333333333333333,
              "#9c179e"
             ],
             [
              0.4444444444444444,
              "#bd3786"
             ],
             [
              0.5555555555555556,
              "#d8576b"
             ],
             [
              0.6666666666666666,
              "#ed7953"
             ],
             [
              0.7777777777777778,
              "#fb9f3a"
             ],
             [
              0.8888888888888888,
              "#fdca26"
             ],
             [
              1,
              "#f0f921"
             ]
            ],
            "type": "histogram2dcontour"
           }
          ],
          "mesh3d": [
           {
            "colorbar": {
             "outlinewidth": 0,
             "ticks": ""
            },
            "type": "mesh3d"
           }
          ],
          "parcoords": [
           {
            "line": {
             "colorbar": {
              "outlinewidth": 0,
              "ticks": ""
             }
            },
            "type": "parcoords"
           }
          ],
          "pie": [
           {
            "automargin": true,
            "type": "pie"
           }
          ],
          "scatter": [
           {
            "marker": {
             "colorbar": {
              "outlinewidth": 0,
              "ticks": ""
             }
            },
            "type": "scatter"
           }
          ],
          "scatter3d": [
           {
            "line": {
             "colorbar": {
              "outlinewidth": 0,
              "ticks": ""
             }
            },
            "marker": {
             "colorbar": {
              "outlinewidth": 0,
              "ticks": ""
             }
            },
            "type": "scatter3d"
           }
          ],
          "scattercarpet": [
           {
            "marker": {
             "colorbar": {
              "outlinewidth": 0,
              "ticks": ""
             }
            },
            "type": "scattercarpet"
           }
          ],
          "scattergeo": [
           {
            "marker": {
             "colorbar": {
              "outlinewidth": 0,
              "ticks": ""
             }
            },
            "type": "scattergeo"
           }
          ],
          "scattergl": [
           {
            "marker": {
             "colorbar": {
              "outlinewidth": 0,
              "ticks": ""
             }
            },
            "type": "scattergl"
           }
          ],
          "scattermapbox": [
           {
            "marker": {
             "colorbar": {
              "outlinewidth": 0,
              "ticks": ""
             }
            },
            "type": "scattermapbox"
           }
          ],
          "scatterpolar": [
           {
            "marker": {
             "colorbar": {
              "outlinewidth": 0,
              "ticks": ""
             }
            },
            "type": "scatterpolar"
           }
          ],
          "scatterpolargl": [
           {
            "marker": {
             "colorbar": {
              "outlinewidth": 0,
              "ticks": ""
             }
            },
            "type": "scatterpolargl"
           }
          ],
          "scatterternary": [
           {
            "marker": {
             "colorbar": {
              "outlinewidth": 0,
              "ticks": ""
             }
            },
            "type": "scatterternary"
           }
          ],
          "surface": [
           {
            "colorbar": {
             "outlinewidth": 0,
             "ticks": ""
            },
            "colorscale": [
             [
              0,
              "#0d0887"
             ],
             [
              0.1111111111111111,
              "#46039f"
             ],
             [
              0.2222222222222222,
              "#7201a8"
             ],
             [
              0.3333333333333333,
              "#9c179e"
             ],
             [
              0.4444444444444444,
              "#bd3786"
             ],
             [
              0.5555555555555556,
              "#d8576b"
             ],
             [
              0.6666666666666666,
              "#ed7953"
             ],
             [
              0.7777777777777778,
              "#fb9f3a"
             ],
             [
              0.8888888888888888,
              "#fdca26"
             ],
             [
              1,
              "#f0f921"
             ]
            ],
            "type": "surface"
           }
          ],
          "table": [
           {
            "cells": {
             "fill": {
              "color": "#EBF0F8"
             },
             "line": {
              "color": "white"
             }
            },
            "header": {
             "fill": {
              "color": "#C8D4E3"
             },
             "line": {
              "color": "white"
             }
            },
            "type": "table"
           }
          ]
         },
         "layout": {
          "annotationdefaults": {
           "arrowcolor": "#2a3f5f",
           "arrowhead": 0,
           "arrowwidth": 1
          },
          "autotypenumbers": "strict",
          "coloraxis": {
           "colorbar": {
            "outlinewidth": 0,
            "ticks": ""
           }
          },
          "colorscale": {
           "diverging": [
            [
             0,
             "#8e0152"
            ],
            [
             0.1,
             "#c51b7d"
            ],
            [
             0.2,
             "#de77ae"
            ],
            [
             0.3,
             "#f1b6da"
            ],
            [
             0.4,
             "#fde0ef"
            ],
            [
             0.5,
             "#f7f7f7"
            ],
            [
             0.6,
             "#e6f5d0"
            ],
            [
             0.7,
             "#b8e186"
            ],
            [
             0.8,
             "#7fbc41"
            ],
            [
             0.9,
             "#4d9221"
            ],
            [
             1,
             "#276419"
            ]
           ],
           "sequential": [
            [
             0,
             "#0d0887"
            ],
            [
             0.1111111111111111,
             "#46039f"
            ],
            [
             0.2222222222222222,
             "#7201a8"
            ],
            [
             0.3333333333333333,
             "#9c179e"
            ],
            [
             0.4444444444444444,
             "#bd3786"
            ],
            [
             0.5555555555555556,
             "#d8576b"
            ],
            [
             0.6666666666666666,
             "#ed7953"
            ],
            [
             0.7777777777777778,
             "#fb9f3a"
            ],
            [
             0.8888888888888888,
             "#fdca26"
            ],
            [
             1,
             "#f0f921"
            ]
           ],
           "sequentialminus": [
            [
             0,
             "#0d0887"
            ],
            [
             0.1111111111111111,
             "#46039f"
            ],
            [
             0.2222222222222222,
             "#7201a8"
            ],
            [
             0.3333333333333333,
             "#9c179e"
            ],
            [
             0.4444444444444444,
             "#bd3786"
            ],
            [
             0.5555555555555556,
             "#d8576b"
            ],
            [
             0.6666666666666666,
             "#ed7953"
            ],
            [
             0.7777777777777778,
             "#fb9f3a"
            ],
            [
             0.8888888888888888,
             "#fdca26"
            ],
            [
             1,
             "#f0f921"
            ]
           ]
          },
          "colorway": [
           "#636efa",
           "#EF553B",
           "#00cc96",
           "#ab63fa",
           "#FFA15A",
           "#19d3f3",
           "#FF6692",
           "#B6E880",
           "#FF97FF",
           "#FECB52"
          ],
          "font": {
           "color": "#2a3f5f"
          },
          "geo": {
           "bgcolor": "white",
           "lakecolor": "white",
           "landcolor": "#E5ECF6",
           "showlakes": true,
           "showland": true,
           "subunitcolor": "white"
          },
          "hoverlabel": {
           "align": "left"
          },
          "hovermode": "closest",
          "mapbox": {
           "style": "light"
          },
          "paper_bgcolor": "white",
          "plot_bgcolor": "#E5ECF6",
          "polar": {
           "angularaxis": {
            "gridcolor": "white",
            "linecolor": "white",
            "ticks": ""
           },
           "bgcolor": "#E5ECF6",
           "radialaxis": {
            "gridcolor": "white",
            "linecolor": "white",
            "ticks": ""
           }
          },
          "scene": {
           "xaxis": {
            "backgroundcolor": "#E5ECF6",
            "gridcolor": "white",
            "gridwidth": 2,
            "linecolor": "white",
            "showbackground": true,
            "ticks": "",
            "zerolinecolor": "white"
           },
           "yaxis": {
            "backgroundcolor": "#E5ECF6",
            "gridcolor": "white",
            "gridwidth": 2,
            "linecolor": "white",
            "showbackground": true,
            "ticks": "",
            "zerolinecolor": "white"
           },
           "zaxis": {
            "backgroundcolor": "#E5ECF6",
            "gridcolor": "white",
            "gridwidth": 2,
            "linecolor": "white",
            "showbackground": true,
            "ticks": "",
            "zerolinecolor": "white"
           }
          },
          "shapedefaults": {
           "line": {
            "color": "#2a3f5f"
           }
          },
          "ternary": {
           "aaxis": {
            "gridcolor": "white",
            "linecolor": "white",
            "ticks": ""
           },
           "baxis": {
            "gridcolor": "white",
            "linecolor": "white",
            "ticks": ""
           },
           "bgcolor": "#E5ECF6",
           "caxis": {
            "gridcolor": "white",
            "linecolor": "white",
            "ticks": ""
           }
          },
          "title": {
           "x": 0.05
          },
          "xaxis": {
           "automargin": true,
           "gridcolor": "white",
           "linecolor": "white",
           "ticks": "",
           "title": {
            "standoff": 15
           },
           "zerolinecolor": "white",
           "zerolinewidth": 2
          },
          "yaxis": {
           "automargin": true,
           "gridcolor": "white",
           "linecolor": "white",
           "ticks": "",
           "title": {
            "standoff": 15
           },
           "zerolinecolor": "white",
           "zerolinewidth": 2
          }
         }
        },
        "xaxis": {
         "title": {
          "text": "Días"
         }
        },
        "yaxis": {
         "title": {
          "text": "Coef Sentimiento"
         }
        }
       }
      }
     },
     "metadata": {},
     "output_type": "display_data"
    }
   ],
   "source": [
    "data = [go.Scatter(\n",
    "                x=B.FechaPublicacion,\n",
    "                y=B['Texto']\n",
    "        )\n",
    "        ]\n",
    "fig = go.Figure()\n",
    "\n",
    "fig.add_trace(go.Scatter(x=B.FechaPublicacion, y=B['Texto'],\n",
    "                    mode='lines+markers',\n",
    "                    name='lines+markers'))\n",
    "\n",
    "fig.update_layout(\n",
    "    xaxis_title=\"Días\",\n",
    "    yaxis_title=\"Coef Sentimiento\",\n",
    ")\n",
    "\n",
    "fig.show()"
   ]
  },
  {
   "cell_type": "code",
   "execution_count": 9,
   "metadata": {},
   "outputs": [],
   "source": [
    "fig.write_html(\"Twits_España.html\")"
   ]
  },
  {
   "cell_type": "code",
   "execution_count": 12,
   "metadata": {},
   "outputs": [
    {
     "data": {
      "application/vnd.plotly.v1+json": {
       "config": {
        "plotlyServerURL": "https://plot.ly"
       },
       "data": [
        {
         "mode": "lines+markers",
         "name": "lines+markers",
         "type": "scatter",
         "x": [
          "2021-10-14T00:00:00",
          "2021-10-15T00:00:00",
          "2021-10-16T00:00:00",
          "2021-10-17T00:00:00",
          "2021-10-18T00:00:00",
          "2021-10-20T00:00:00",
          "2021-10-21T00:00:00",
          "2021-10-22T00:00:00"
         ],
         "y": [
          535,
          468,
          490,
          355,
          417,
          137,
          597,
          436
         ]
        }
       ],
       "layout": {
        "template": {
         "data": {
          "bar": [
           {
            "error_x": {
             "color": "#2a3f5f"
            },
            "error_y": {
             "color": "#2a3f5f"
            },
            "marker": {
             "line": {
              "color": "#E5ECF6",
              "width": 0.5
             }
            },
            "type": "bar"
           }
          ],
          "barpolar": [
           {
            "marker": {
             "line": {
              "color": "#E5ECF6",
              "width": 0.5
             }
            },
            "type": "barpolar"
           }
          ],
          "carpet": [
           {
            "aaxis": {
             "endlinecolor": "#2a3f5f",
             "gridcolor": "white",
             "linecolor": "white",
             "minorgridcolor": "white",
             "startlinecolor": "#2a3f5f"
            },
            "baxis": {
             "endlinecolor": "#2a3f5f",
             "gridcolor": "white",
             "linecolor": "white",
             "minorgridcolor": "white",
             "startlinecolor": "#2a3f5f"
            },
            "type": "carpet"
           }
          ],
          "choropleth": [
           {
            "colorbar": {
             "outlinewidth": 0,
             "ticks": ""
            },
            "type": "choropleth"
           }
          ],
          "contour": [
           {
            "colorbar": {
             "outlinewidth": 0,
             "ticks": ""
            },
            "colorscale": [
             [
              0,
              "#0d0887"
             ],
             [
              0.1111111111111111,
              "#46039f"
             ],
             [
              0.2222222222222222,
              "#7201a8"
             ],
             [
              0.3333333333333333,
              "#9c179e"
             ],
             [
              0.4444444444444444,
              "#bd3786"
             ],
             [
              0.5555555555555556,
              "#d8576b"
             ],
             [
              0.6666666666666666,
              "#ed7953"
             ],
             [
              0.7777777777777778,
              "#fb9f3a"
             ],
             [
              0.8888888888888888,
              "#fdca26"
             ],
             [
              1,
              "#f0f921"
             ]
            ],
            "type": "contour"
           }
          ],
          "contourcarpet": [
           {
            "colorbar": {
             "outlinewidth": 0,
             "ticks": ""
            },
            "type": "contourcarpet"
           }
          ],
          "heatmap": [
           {
            "colorbar": {
             "outlinewidth": 0,
             "ticks": ""
            },
            "colorscale": [
             [
              0,
              "#0d0887"
             ],
             [
              0.1111111111111111,
              "#46039f"
             ],
             [
              0.2222222222222222,
              "#7201a8"
             ],
             [
              0.3333333333333333,
              "#9c179e"
             ],
             [
              0.4444444444444444,
              "#bd3786"
             ],
             [
              0.5555555555555556,
              "#d8576b"
             ],
             [
              0.6666666666666666,
              "#ed7953"
             ],
             [
              0.7777777777777778,
              "#fb9f3a"
             ],
             [
              0.8888888888888888,
              "#fdca26"
             ],
             [
              1,
              "#f0f921"
             ]
            ],
            "type": "heatmap"
           }
          ],
          "heatmapgl": [
           {
            "colorbar": {
             "outlinewidth": 0,
             "ticks": ""
            },
            "colorscale": [
             [
              0,
              "#0d0887"
             ],
             [
              0.1111111111111111,
              "#46039f"
             ],
             [
              0.2222222222222222,
              "#7201a8"
             ],
             [
              0.3333333333333333,
              "#9c179e"
             ],
             [
              0.4444444444444444,
              "#bd3786"
             ],
             [
              0.5555555555555556,
              "#d8576b"
             ],
             [
              0.6666666666666666,
              "#ed7953"
             ],
             [
              0.7777777777777778,
              "#fb9f3a"
             ],
             [
              0.8888888888888888,
              "#fdca26"
             ],
             [
              1,
              "#f0f921"
             ]
            ],
            "type": "heatmapgl"
           }
          ],
          "histogram": [
           {
            "marker": {
             "colorbar": {
              "outlinewidth": 0,
              "ticks": ""
             }
            },
            "type": "histogram"
           }
          ],
          "histogram2d": [
           {
            "colorbar": {
             "outlinewidth": 0,
             "ticks": ""
            },
            "colorscale": [
             [
              0,
              "#0d0887"
             ],
             [
              0.1111111111111111,
              "#46039f"
             ],
             [
              0.2222222222222222,
              "#7201a8"
             ],
             [
              0.3333333333333333,
              "#9c179e"
             ],
             [
              0.4444444444444444,
              "#bd3786"
             ],
             [
              0.5555555555555556,
              "#d8576b"
             ],
             [
              0.6666666666666666,
              "#ed7953"
             ],
             [
              0.7777777777777778,
              "#fb9f3a"
             ],
             [
              0.8888888888888888,
              "#fdca26"
             ],
             [
              1,
              "#f0f921"
             ]
            ],
            "type": "histogram2d"
           }
          ],
          "histogram2dcontour": [
           {
            "colorbar": {
             "outlinewidth": 0,
             "ticks": ""
            },
            "colorscale": [
             [
              0,
              "#0d0887"
             ],
             [
              0.1111111111111111,
              "#46039f"
             ],
             [
              0.2222222222222222,
              "#7201a8"
             ],
             [
              0.3333333333333333,
              "#9c179e"
             ],
             [
              0.4444444444444444,
              "#bd3786"
             ],
             [
              0.5555555555555556,
              "#d8576b"
             ],
             [
              0.6666666666666666,
              "#ed7953"
             ],
             [
              0.7777777777777778,
              "#fb9f3a"
             ],
             [
              0.8888888888888888,
              "#fdca26"
             ],
             [
              1,
              "#f0f921"
             ]
            ],
            "type": "histogram2dcontour"
           }
          ],
          "mesh3d": [
           {
            "colorbar": {
             "outlinewidth": 0,
             "ticks": ""
            },
            "type": "mesh3d"
           }
          ],
          "parcoords": [
           {
            "line": {
             "colorbar": {
              "outlinewidth": 0,
              "ticks": ""
             }
            },
            "type": "parcoords"
           }
          ],
          "pie": [
           {
            "automargin": true,
            "type": "pie"
           }
          ],
          "scatter": [
           {
            "marker": {
             "colorbar": {
              "outlinewidth": 0,
              "ticks": ""
             }
            },
            "type": "scatter"
           }
          ],
          "scatter3d": [
           {
            "line": {
             "colorbar": {
              "outlinewidth": 0,
              "ticks": ""
             }
            },
            "marker": {
             "colorbar": {
              "outlinewidth": 0,
              "ticks": ""
             }
            },
            "type": "scatter3d"
           }
          ],
          "scattercarpet": [
           {
            "marker": {
             "colorbar": {
              "outlinewidth": 0,
              "ticks": ""
             }
            },
            "type": "scattercarpet"
           }
          ],
          "scattergeo": [
           {
            "marker": {
             "colorbar": {
              "outlinewidth": 0,
              "ticks": ""
             }
            },
            "type": "scattergeo"
           }
          ],
          "scattergl": [
           {
            "marker": {
             "colorbar": {
              "outlinewidth": 0,
              "ticks": ""
             }
            },
            "type": "scattergl"
           }
          ],
          "scattermapbox": [
           {
            "marker": {
             "colorbar": {
              "outlinewidth": 0,
              "ticks": ""
             }
            },
            "type": "scattermapbox"
           }
          ],
          "scatterpolar": [
           {
            "marker": {
             "colorbar": {
              "outlinewidth": 0,
              "ticks": ""
             }
            },
            "type": "scatterpolar"
           }
          ],
          "scatterpolargl": [
           {
            "marker": {
             "colorbar": {
              "outlinewidth": 0,
              "ticks": ""
             }
            },
            "type": "scatterpolargl"
           }
          ],
          "scatterternary": [
           {
            "marker": {
             "colorbar": {
              "outlinewidth": 0,
              "ticks": ""
             }
            },
            "type": "scatterternary"
           }
          ],
          "surface": [
           {
            "colorbar": {
             "outlinewidth": 0,
             "ticks": ""
            },
            "colorscale": [
             [
              0,
              "#0d0887"
             ],
             [
              0.1111111111111111,
              "#46039f"
             ],
             [
              0.2222222222222222,
              "#7201a8"
             ],
             [
              0.3333333333333333,
              "#9c179e"
             ],
             [
              0.4444444444444444,
              "#bd3786"
             ],
             [
              0.5555555555555556,
              "#d8576b"
             ],
             [
              0.6666666666666666,
              "#ed7953"
             ],
             [
              0.7777777777777778,
              "#fb9f3a"
             ],
             [
              0.8888888888888888,
              "#fdca26"
             ],
             [
              1,
              "#f0f921"
             ]
            ],
            "type": "surface"
           }
          ],
          "table": [
           {
            "cells": {
             "fill": {
              "color": "#EBF0F8"
             },
             "line": {
              "color": "white"
             }
            },
            "header": {
             "fill": {
              "color": "#C8D4E3"
             },
             "line": {
              "color": "white"
             }
            },
            "type": "table"
           }
          ]
         },
         "layout": {
          "annotationdefaults": {
           "arrowcolor": "#2a3f5f",
           "arrowhead": 0,
           "arrowwidth": 1
          },
          "autotypenumbers": "strict",
          "coloraxis": {
           "colorbar": {
            "outlinewidth": 0,
            "ticks": ""
           }
          },
          "colorscale": {
           "diverging": [
            [
             0,
             "#8e0152"
            ],
            [
             0.1,
             "#c51b7d"
            ],
            [
             0.2,
             "#de77ae"
            ],
            [
             0.3,
             "#f1b6da"
            ],
            [
             0.4,
             "#fde0ef"
            ],
            [
             0.5,
             "#f7f7f7"
            ],
            [
             0.6,
             "#e6f5d0"
            ],
            [
             0.7,
             "#b8e186"
            ],
            [
             0.8,
             "#7fbc41"
            ],
            [
             0.9,
             "#4d9221"
            ],
            [
             1,
             "#276419"
            ]
           ],
           "sequential": [
            [
             0,
             "#0d0887"
            ],
            [
             0.1111111111111111,
             "#46039f"
            ],
            [
             0.2222222222222222,
             "#7201a8"
            ],
            [
             0.3333333333333333,
             "#9c179e"
            ],
            [
             0.4444444444444444,
             "#bd3786"
            ],
            [
             0.5555555555555556,
             "#d8576b"
            ],
            [
             0.6666666666666666,
             "#ed7953"
            ],
            [
             0.7777777777777778,
             "#fb9f3a"
            ],
            [
             0.8888888888888888,
             "#fdca26"
            ],
            [
             1,
             "#f0f921"
            ]
           ],
           "sequentialminus": [
            [
             0,
             "#0d0887"
            ],
            [
             0.1111111111111111,
             "#46039f"
            ],
            [
             0.2222222222222222,
             "#7201a8"
            ],
            [
             0.3333333333333333,
             "#9c179e"
            ],
            [
             0.4444444444444444,
             "#bd3786"
            ],
            [
             0.5555555555555556,
             "#d8576b"
            ],
            [
             0.6666666666666666,
             "#ed7953"
            ],
            [
             0.7777777777777778,
             "#fb9f3a"
            ],
            [
             0.8888888888888888,
             "#fdca26"
            ],
            [
             1,
             "#f0f921"
            ]
           ]
          },
          "colorway": [
           "#636efa",
           "#EF553B",
           "#00cc96",
           "#ab63fa",
           "#FFA15A",
           "#19d3f3",
           "#FF6692",
           "#B6E880",
           "#FF97FF",
           "#FECB52"
          ],
          "font": {
           "color": "#2a3f5f"
          },
          "geo": {
           "bgcolor": "white",
           "lakecolor": "white",
           "landcolor": "#E5ECF6",
           "showlakes": true,
           "showland": true,
           "subunitcolor": "white"
          },
          "hoverlabel": {
           "align": "left"
          },
          "hovermode": "closest",
          "mapbox": {
           "style": "light"
          },
          "paper_bgcolor": "white",
          "plot_bgcolor": "#E5ECF6",
          "polar": {
           "angularaxis": {
            "gridcolor": "white",
            "linecolor": "white",
            "ticks": ""
           },
           "bgcolor": "#E5ECF6",
           "radialaxis": {
            "gridcolor": "white",
            "linecolor": "white",
            "ticks": ""
           }
          },
          "scene": {
           "xaxis": {
            "backgroundcolor": "#E5ECF6",
            "gridcolor": "white",
            "gridwidth": 2,
            "linecolor": "white",
            "showbackground": true,
            "ticks": "",
            "zerolinecolor": "white"
           },
           "yaxis": {
            "backgroundcolor": "#E5ECF6",
            "gridcolor": "white",
            "gridwidth": 2,
            "linecolor": "white",
            "showbackground": true,
            "ticks": "",
            "zerolinecolor": "white"
           },
           "zaxis": {
            "backgroundcolor": "#E5ECF6",
            "gridcolor": "white",
            "gridwidth": 2,
            "linecolor": "white",
            "showbackground": true,
            "ticks": "",
            "zerolinecolor": "white"
           }
          },
          "shapedefaults": {
           "line": {
            "color": "#2a3f5f"
           }
          },
          "ternary": {
           "aaxis": {
            "gridcolor": "white",
            "linecolor": "white",
            "ticks": ""
           },
           "baxis": {
            "gridcolor": "white",
            "linecolor": "white",
            "ticks": ""
           },
           "bgcolor": "#E5ECF6",
           "caxis": {
            "gridcolor": "white",
            "linecolor": "white",
            "ticks": ""
           }
          },
          "title": {
           "x": 0.05
          },
          "xaxis": {
           "automargin": true,
           "gridcolor": "white",
           "linecolor": "white",
           "ticks": "",
           "title": {
            "standoff": 15
           },
           "zerolinecolor": "white",
           "zerolinewidth": 2
          },
          "yaxis": {
           "automargin": true,
           "gridcolor": "white",
           "linecolor": "white",
           "ticks": "",
           "title": {
            "standoff": 15
           },
           "zerolinecolor": "white",
           "zerolinewidth": 2
          }
         }
        },
        "xaxis": {
         "title": {
          "text": "Días"
         }
        },
        "yaxis": {
         "title": {
          "text": "Coef Sentimiento"
         }
        }
       }
      }
     },
     "metadata": {},
     "output_type": "display_data"
    }
   ],
   "source": [
    "data = pd.read_csv('data.csv')\n",
    "\n",
    "fechas = data['FechaPublicacion']\n",
    "fechas2 = []\n",
    "\n",
    "for i in fechas:\n",
    "    fechas2.append(i[0:10])\n",
    "\n",
    "data['FechaPublicacion'] = fechas2\n",
    "\n",
    "data['FechaPublicacion'] = pd.to_datetime(data['FechaPublicacion'], format=\"%Y/%m/%d\")\n",
    "\n",
    "paises = ['Colombia', 'Mexico', 'España']\n",
    "\n",
    "B = data[data['Pais']=='Mexico'][['FechaPublicacion', 'Texto']].groupby('FechaPublicacion').count()\n",
    "B = B.reset_index()\n",
    "\n",
    "\n",
    "\n",
    "\n",
    "data = [go.Scatter(\n",
    "                x=B.FechaPublicacion,\n",
    "                y=B['Texto']\n",
    "        )\n",
    "        ]\n",
    "fig = go.Figure()\n",
    "\n",
    "fig.add_trace(go.Scatter(x=B.FechaPublicacion, y=B['Texto'],\n",
    "                    mode='lines+markers',\n",
    "                    name='lines+markers'))\n",
    "\n",
    "fig.update_layout(\n",
    "    xaxis_title=\"Días\",\n",
    "    yaxis_title=\"Coef Sentimiento\",\n",
    ")\n",
    "\n",
    "fig.show()"
   ]
  },
  {
   "cell_type": "code",
   "execution_count": 13,
   "metadata": {},
   "outputs": [],
   "source": [
    "fig.write_html(\"Twits_Mexico.html\")"
   ]
  },
  {
   "cell_type": "code",
   "execution_count": 2,
   "metadata": {},
   "outputs": [
    {
     "data": {
      "text/html": [
       "<div>\n",
       "<style scoped>\n",
       "    .dataframe tbody tr th:only-of-type {\n",
       "        vertical-align: middle;\n",
       "    }\n",
       "\n",
       "    .dataframe tbody tr th {\n",
       "        vertical-align: top;\n",
       "    }\n",
       "\n",
       "    .dataframe thead th {\n",
       "        text-align: right;\n",
       "    }\n",
       "</style>\n",
       "<table border=\"1\" class=\"dataframe\">\n",
       "  <thead>\n",
       "    <tr style=\"text-align: right;\">\n",
       "      <th></th>\n",
       "      <th>Tipo</th>\n",
       "      <th>Pais</th>\n",
       "      <th>Fuente</th>\n",
       "      <th>Texto</th>\n",
       "      <th>FechaPublicacion</th>\n",
       "      <th>sentimiento</th>\n",
       "      <th>sentimiento_numerico</th>\n",
       "    </tr>\n",
       "  </thead>\n",
       "  <tbody>\n",
       "    <tr>\n",
       "      <th>0</th>\n",
       "      <td>Excelencia Operativa</td>\n",
       "      <td>Colombia</td>\n",
       "      <td>Apps</td>\n",
       "      <td>Muy mala la app como una hora pidiendo un Códi...</td>\n",
       "      <td>2021-10-22 16:22:53</td>\n",
       "      <td>Negativo</td>\n",
       "      <td>0.00</td>\n",
       "    </tr>\n",
       "    <tr>\n",
       "      <th>1</th>\n",
       "      <td>Excelencia Operativa</td>\n",
       "      <td>Colombia</td>\n",
       "      <td>Apps</td>\n",
       "      <td>Un poquito lenta pero excelente</td>\n",
       "      <td>2021-10-22 16:03:49</td>\n",
       "      <td>Positivo</td>\n",
       "      <td>0.94</td>\n",
       "    </tr>\n",
       "    <tr>\n",
       "      <th>2</th>\n",
       "      <td>Excelencia Operativa</td>\n",
       "      <td>Colombia</td>\n",
       "      <td>Apps</td>\n",
       "      <td>Que aplicacion tan mala, con tanto que roban d...</td>\n",
       "      <td>2021-10-22 15:13:42</td>\n",
       "      <td>Negativo</td>\n",
       "      <td>0.00</td>\n",
       "    </tr>\n",
       "    <tr>\n",
       "      <th>3</th>\n",
       "      <td>Excelencia Operativa</td>\n",
       "      <td>Colombia</td>\n",
       "      <td>Apps</td>\n",
       "      <td>Muy lenta, se nota lo pesada... Debe ser mas i...</td>\n",
       "      <td>2021-10-22 14:56:23</td>\n",
       "      <td>Negativo</td>\n",
       "      <td>0.00</td>\n",
       "    </tr>\n",
       "    <tr>\n",
       "      <th>4</th>\n",
       "      <td>Excelencia Operativa</td>\n",
       "      <td>Colombia</td>\n",
       "      <td>Apps</td>\n",
       "      <td>Muy buena lo mejor que han podido crear</td>\n",
       "      <td>2021-10-22 14:48:38</td>\n",
       "      <td>Positivo</td>\n",
       "      <td>0.55</td>\n",
       "    </tr>\n",
       "    <tr>\n",
       "      <th>...</th>\n",
       "      <td>...</td>\n",
       "      <td>...</td>\n",
       "      <td>...</td>\n",
       "      <td>...</td>\n",
       "      <td>...</td>\n",
       "      <td>...</td>\n",
       "      <td>...</td>\n",
       "    </tr>\n",
       "    <tr>\n",
       "      <th>6902</th>\n",
       "      <td>Futuro sostenible</td>\n",
       "      <td>Mexico</td>\n",
       "      <td>Twitter</td>\n",
       "      <td>@RicardoAnayaC Habría que comparar con el mund...</td>\n",
       "      <td>2021-10-18 15:48:12+00:00</td>\n",
       "      <td>Negativo</td>\n",
       "      <td>0.00</td>\n",
       "    </tr>\n",
       "    <tr>\n",
       "      <th>6903</th>\n",
       "      <td>Futuro sostenible</td>\n",
       "      <td>Mexico</td>\n",
       "      <td>Twitter</td>\n",
       "      <td>Corte de Caja al Mundo de #Negocios (18/10/21)...</td>\n",
       "      <td>2021-10-18 15:46:09+00:00</td>\n",
       "      <td>Negativo</td>\n",
       "      <td>0.45</td>\n",
       "    </tr>\n",
       "    <tr>\n",
       "      <th>6904</th>\n",
       "      <td>Futuro sostenible</td>\n",
       "      <td>Mexico</td>\n",
       "      <td>Twitter</td>\n",
       "      <td>Los autos eléctricos de Musk volvieron a acele...</td>\n",
       "      <td>2021-10-18 15:46:00+00:00</td>\n",
       "      <td>Negativo</td>\n",
       "      <td>0.07</td>\n",
       "    </tr>\n",
       "    <tr>\n",
       "      <th>6905</th>\n",
       "      <td>Futuro sostenible</td>\n",
       "      <td>Mexico</td>\n",
       "      <td>Twitter</td>\n",
       "      <td>El gigante tecnológico de Taiwán, Foxconn, pre...</td>\n",
       "      <td>2021-10-18 15:36:28+00:00</td>\n",
       "      <td>Negativo</td>\n",
       "      <td>0.13</td>\n",
       "    </tr>\n",
       "    <tr>\n",
       "      <th>6906</th>\n",
       "      <td>Futuro sostenible</td>\n",
       "      <td>Mexico</td>\n",
       "      <td>Twitter</td>\n",
       "      <td>@jrisco @lafuentejavi @el_pais Si, ya ves qué ...</td>\n",
       "      <td>2021-10-18 15:27:35+00:00</td>\n",
       "      <td>Negativo</td>\n",
       "      <td>0.00</td>\n",
       "    </tr>\n",
       "  </tbody>\n",
       "</table>\n",
       "<p>6907 rows × 7 columns</p>\n",
       "</div>"
      ],
      "text/plain": [
       "                      Tipo      Pais   Fuente  \\\n",
       "0     Excelencia Operativa  Colombia     Apps   \n",
       "1     Excelencia Operativa  Colombia     Apps   \n",
       "2     Excelencia Operativa  Colombia     Apps   \n",
       "3     Excelencia Operativa  Colombia     Apps   \n",
       "4     Excelencia Operativa  Colombia     Apps   \n",
       "...                    ...       ...      ...   \n",
       "6902     Futuro sostenible    Mexico  Twitter   \n",
       "6903     Futuro sostenible    Mexico  Twitter   \n",
       "6904     Futuro sostenible    Mexico  Twitter   \n",
       "6905     Futuro sostenible    Mexico  Twitter   \n",
       "6906     Futuro sostenible    Mexico  Twitter   \n",
       "\n",
       "                                                  Texto  \\\n",
       "0     Muy mala la app como una hora pidiendo un Códi...   \n",
       "1                       Un poquito lenta pero excelente   \n",
       "2     Que aplicacion tan mala, con tanto que roban d...   \n",
       "3     Muy lenta, se nota lo pesada... Debe ser mas i...   \n",
       "4               Muy buena lo mejor que han podido crear   \n",
       "...                                                 ...   \n",
       "6902  @RicardoAnayaC Habría que comparar con el mund...   \n",
       "6903  Corte de Caja al Mundo de #Negocios (18/10/21)...   \n",
       "6904  Los autos eléctricos de Musk volvieron a acele...   \n",
       "6905  El gigante tecnológico de Taiwán, Foxconn, pre...   \n",
       "6906  @jrisco @lafuentejavi @el_pais Si, ya ves qué ...   \n",
       "\n",
       "               FechaPublicacion sentimiento  sentimiento_numerico  \n",
       "0           2021-10-22 16:22:53    Negativo                  0.00  \n",
       "1           2021-10-22 16:03:49    Positivo                  0.94  \n",
       "2           2021-10-22 15:13:42    Negativo                  0.00  \n",
       "3           2021-10-22 14:56:23    Negativo                  0.00  \n",
       "4           2021-10-22 14:48:38    Positivo                  0.55  \n",
       "...                         ...         ...                   ...  \n",
       "6902  2021-10-18 15:48:12+00:00    Negativo                  0.00  \n",
       "6903  2021-10-18 15:46:09+00:00    Negativo                  0.45  \n",
       "6904  2021-10-18 15:46:00+00:00    Negativo                  0.07  \n",
       "6905  2021-10-18 15:36:28+00:00    Negativo                  0.13  \n",
       "6906  2021-10-18 15:27:35+00:00    Negativo                  0.00  \n",
       "\n",
       "[6907 rows x 7 columns]"
      ]
     },
     "execution_count": 2,
     "metadata": {},
     "output_type": "execute_result"
    }
   ],
   "source": [
    "df = pd.read_csv('data.csv')\n",
    "df"
   ]
  },
  {
   "cell_type": "code",
   "execution_count": 3,
   "metadata": {},
   "outputs": [
    {
     "data": {
      "text/html": [
       "<div>\n",
       "<style scoped>\n",
       "    .dataframe tbody tr th:only-of-type {\n",
       "        vertical-align: middle;\n",
       "    }\n",
       "\n",
       "    .dataframe tbody tr th {\n",
       "        vertical-align: top;\n",
       "    }\n",
       "\n",
       "    .dataframe thead th {\n",
       "        text-align: right;\n",
       "    }\n",
       "</style>\n",
       "<table border=\"1\" class=\"dataframe\">\n",
       "  <thead>\n",
       "    <tr style=\"text-align: right;\">\n",
       "      <th></th>\n",
       "      <th>FechaPublicacion</th>\n",
       "      <th>Pais</th>\n",
       "      <th>Texto</th>\n",
       "      <th>sentimiento_numerico</th>\n",
       "    </tr>\n",
       "  </thead>\n",
       "  <tbody>\n",
       "    <tr>\n",
       "      <th>0</th>\n",
       "      <td>2021-10-12</td>\n",
       "      <td>Colombia</td>\n",
       "      <td>11</td>\n",
       "      <td>0.252727</td>\n",
       "    </tr>\n",
       "    <tr>\n",
       "      <th>1</th>\n",
       "      <td>2021-10-12</td>\n",
       "      <td>España</td>\n",
       "      <td>1</td>\n",
       "      <td>0.890000</td>\n",
       "    </tr>\n",
       "    <tr>\n",
       "      <th>2</th>\n",
       "      <td>2021-10-13</td>\n",
       "      <td>Colombia</td>\n",
       "      <td>49</td>\n",
       "      <td>0.326735</td>\n",
       "    </tr>\n",
       "    <tr>\n",
       "      <th>3</th>\n",
       "      <td>2021-10-13</td>\n",
       "      <td>España</td>\n",
       "      <td>29</td>\n",
       "      <td>0.459310</td>\n",
       "    </tr>\n",
       "    <tr>\n",
       "      <th>4</th>\n",
       "      <td>2021-10-14</td>\n",
       "      <td>Colombia</td>\n",
       "      <td>450</td>\n",
       "      <td>0.141667</td>\n",
       "    </tr>\n",
       "    <tr>\n",
       "      <th>5</th>\n",
       "      <td>2021-10-14</td>\n",
       "      <td>España</td>\n",
       "      <td>356</td>\n",
       "      <td>0.270562</td>\n",
       "    </tr>\n",
       "    <tr>\n",
       "      <th>6</th>\n",
       "      <td>2021-10-14</td>\n",
       "      <td>Mexico</td>\n",
       "      <td>535</td>\n",
       "      <td>0.139308</td>\n",
       "    </tr>\n",
       "    <tr>\n",
       "      <th>7</th>\n",
       "      <td>2021-10-15</td>\n",
       "      <td>Colombia</td>\n",
       "      <td>432</td>\n",
       "      <td>0.121273</td>\n",
       "    </tr>\n",
       "    <tr>\n",
       "      <th>8</th>\n",
       "      <td>2021-10-15</td>\n",
       "      <td>España</td>\n",
       "      <td>452</td>\n",
       "      <td>0.324381</td>\n",
       "    </tr>\n",
       "    <tr>\n",
       "      <th>9</th>\n",
       "      <td>2021-10-15</td>\n",
       "      <td>Mexico</td>\n",
       "      <td>468</td>\n",
       "      <td>0.108333</td>\n",
       "    </tr>\n",
       "    <tr>\n",
       "      <th>10</th>\n",
       "      <td>2021-10-16</td>\n",
       "      <td>Colombia</td>\n",
       "      <td>424</td>\n",
       "      <td>0.152948</td>\n",
       "    </tr>\n",
       "    <tr>\n",
       "      <th>11</th>\n",
       "      <td>2021-10-16</td>\n",
       "      <td>España</td>\n",
       "      <td>230</td>\n",
       "      <td>0.236696</td>\n",
       "    </tr>\n",
       "    <tr>\n",
       "      <th>12</th>\n",
       "      <td>2021-10-16</td>\n",
       "      <td>Mexico</td>\n",
       "      <td>490</td>\n",
       "      <td>0.119449</td>\n",
       "    </tr>\n",
       "    <tr>\n",
       "      <th>13</th>\n",
       "      <td>2021-10-17</td>\n",
       "      <td>Colombia</td>\n",
       "      <td>285</td>\n",
       "      <td>0.130982</td>\n",
       "    </tr>\n",
       "    <tr>\n",
       "      <th>14</th>\n",
       "      <td>2021-10-17</td>\n",
       "      <td>España</td>\n",
       "      <td>116</td>\n",
       "      <td>0.250259</td>\n",
       "    </tr>\n",
       "    <tr>\n",
       "      <th>15</th>\n",
       "      <td>2021-10-17</td>\n",
       "      <td>Mexico</td>\n",
       "      <td>355</td>\n",
       "      <td>0.106423</td>\n",
       "    </tr>\n",
       "    <tr>\n",
       "      <th>16</th>\n",
       "      <td>2021-10-18</td>\n",
       "      <td>Colombia</td>\n",
       "      <td>223</td>\n",
       "      <td>0.122287</td>\n",
       "    </tr>\n",
       "    <tr>\n",
       "      <th>17</th>\n",
       "      <td>2021-10-18</td>\n",
       "      <td>España</td>\n",
       "      <td>126</td>\n",
       "      <td>0.295952</td>\n",
       "    </tr>\n",
       "    <tr>\n",
       "      <th>18</th>\n",
       "      <td>2021-10-18</td>\n",
       "      <td>Mexico</td>\n",
       "      <td>417</td>\n",
       "      <td>0.112638</td>\n",
       "    </tr>\n",
       "    <tr>\n",
       "      <th>19</th>\n",
       "      <td>2021-10-19</td>\n",
       "      <td>Colombia</td>\n",
       "      <td>61</td>\n",
       "      <td>0.436557</td>\n",
       "    </tr>\n",
       "    <tr>\n",
       "      <th>20</th>\n",
       "      <td>2021-10-19</td>\n",
       "      <td>España</td>\n",
       "      <td>26</td>\n",
       "      <td>0.501538</td>\n",
       "    </tr>\n",
       "    <tr>\n",
       "      <th>21</th>\n",
       "      <td>2021-10-20</td>\n",
       "      <td>Colombia</td>\n",
       "      <td>44</td>\n",
       "      <td>0.445000</td>\n",
       "    </tr>\n",
       "    <tr>\n",
       "      <th>22</th>\n",
       "      <td>2021-10-20</td>\n",
       "      <td>España</td>\n",
       "      <td>25</td>\n",
       "      <td>0.376800</td>\n",
       "    </tr>\n",
       "    <tr>\n",
       "      <th>23</th>\n",
       "      <td>2021-10-20</td>\n",
       "      <td>Mexico</td>\n",
       "      <td>137</td>\n",
       "      <td>0.337445</td>\n",
       "    </tr>\n",
       "    <tr>\n",
       "      <th>24</th>\n",
       "      <td>2021-10-21</td>\n",
       "      <td>Colombia</td>\n",
       "      <td>41</td>\n",
       "      <td>0.490976</td>\n",
       "    </tr>\n",
       "    <tr>\n",
       "      <th>25</th>\n",
       "      <td>2021-10-21</td>\n",
       "      <td>España</td>\n",
       "      <td>35</td>\n",
       "      <td>0.520286</td>\n",
       "    </tr>\n",
       "    <tr>\n",
       "      <th>26</th>\n",
       "      <td>2021-10-21</td>\n",
       "      <td>Mexico</td>\n",
       "      <td>597</td>\n",
       "      <td>0.450687</td>\n",
       "    </tr>\n",
       "    <tr>\n",
       "      <th>27</th>\n",
       "      <td>2021-10-22</td>\n",
       "      <td>Colombia</td>\n",
       "      <td>26</td>\n",
       "      <td>0.336538</td>\n",
       "    </tr>\n",
       "    <tr>\n",
       "      <th>28</th>\n",
       "      <td>2021-10-22</td>\n",
       "      <td>España</td>\n",
       "      <td>30</td>\n",
       "      <td>0.456000</td>\n",
       "    </tr>\n",
       "    <tr>\n",
       "      <th>29</th>\n",
       "      <td>2021-10-22</td>\n",
       "      <td>Mexico</td>\n",
       "      <td>436</td>\n",
       "      <td>0.475000</td>\n",
       "    </tr>\n",
       "  </tbody>\n",
       "</table>\n",
       "</div>"
      ],
      "text/plain": [
       "   FechaPublicacion      Pais  Texto  sentimiento_numerico\n",
       "0        2021-10-12  Colombia     11              0.252727\n",
       "1        2021-10-12    España      1              0.890000\n",
       "2        2021-10-13  Colombia     49              0.326735\n",
       "3        2021-10-13    España     29              0.459310\n",
       "4        2021-10-14  Colombia    450              0.141667\n",
       "5        2021-10-14    España    356              0.270562\n",
       "6        2021-10-14    Mexico    535              0.139308\n",
       "7        2021-10-15  Colombia    432              0.121273\n",
       "8        2021-10-15    España    452              0.324381\n",
       "9        2021-10-15    Mexico    468              0.108333\n",
       "10       2021-10-16  Colombia    424              0.152948\n",
       "11       2021-10-16    España    230              0.236696\n",
       "12       2021-10-16    Mexico    490              0.119449\n",
       "13       2021-10-17  Colombia    285              0.130982\n",
       "14       2021-10-17    España    116              0.250259\n",
       "15       2021-10-17    Mexico    355              0.106423\n",
       "16       2021-10-18  Colombia    223              0.122287\n",
       "17       2021-10-18    España    126              0.295952\n",
       "18       2021-10-18    Mexico    417              0.112638\n",
       "19       2021-10-19  Colombia     61              0.436557\n",
       "20       2021-10-19    España     26              0.501538\n",
       "21       2021-10-20  Colombia     44              0.445000\n",
       "22       2021-10-20    España     25              0.376800\n",
       "23       2021-10-20    Mexico    137              0.337445\n",
       "24       2021-10-21  Colombia     41              0.490976\n",
       "25       2021-10-21    España     35              0.520286\n",
       "26       2021-10-21    Mexico    597              0.450687\n",
       "27       2021-10-22  Colombia     26              0.336538\n",
       "28       2021-10-22    España     30              0.456000\n",
       "29       2021-10-22    Mexico    436              0.475000"
      ]
     },
     "execution_count": 3,
     "metadata": {},
     "output_type": "execute_result"
    }
   ],
   "source": [
    "fechas = df['FechaPublicacion']\n",
    "fechas2 = []\n",
    "\n",
    "for i in fechas:\n",
    "    fechas2.append(i[0:10])\n",
    "\n",
    "df['FechaPublicacion'] = fechas2\n",
    "\n",
    "df = df.groupby(['FechaPublicacion', 'Pais']).agg({'Texto': 'count', 'sentimiento_numerico': 'mean'})\n",
    "df = df.reset_index()\n",
    "df"
   ]
  },
  {
   "cell_type": "code",
   "execution_count": 4,
   "metadata": {},
   "outputs": [
    {
     "data": {
      "text/html": [
       "<div>\n",
       "<style scoped>\n",
       "    .dataframe tbody tr th:only-of-type {\n",
       "        vertical-align: middle;\n",
       "    }\n",
       "\n",
       "    .dataframe tbody tr th {\n",
       "        vertical-align: top;\n",
       "    }\n",
       "\n",
       "    .dataframe thead th {\n",
       "        text-align: right;\n",
       "    }\n",
       "</style>\n",
       "<table border=\"1\" class=\"dataframe\">\n",
       "  <thead>\n",
       "    <tr style=\"text-align: right;\">\n",
       "      <th></th>\n",
       "      <th>FechaPublicacion</th>\n",
       "      <th>Tweets_Colombia</th>\n",
       "      <th>Tweets_España</th>\n",
       "      <th>Tweets_Mexico</th>\n",
       "      <th>Sentimiento_Colombia</th>\n",
       "      <th>Sentimiento_España</th>\n",
       "      <th>Sentimiento_Mexico</th>\n",
       "    </tr>\n",
       "  </thead>\n",
       "  <tbody>\n",
       "    <tr>\n",
       "      <th>0</th>\n",
       "      <td>2021-10-12</td>\n",
       "      <td>11</td>\n",
       "      <td>1</td>\n",
       "      <td>0.15</td>\n",
       "      <td>0.252727</td>\n",
       "      <td>0.890000</td>\n",
       "      <td>0.150000</td>\n",
       "    </tr>\n",
       "    <tr>\n",
       "      <th>1</th>\n",
       "      <td>2021-10-13</td>\n",
       "      <td>49</td>\n",
       "      <td>29</td>\n",
       "      <td>0.15</td>\n",
       "      <td>0.326735</td>\n",
       "      <td>0.459310</td>\n",
       "      <td>0.150000</td>\n",
       "    </tr>\n",
       "    <tr>\n",
       "      <th>2</th>\n",
       "      <td>2021-10-14</td>\n",
       "      <td>450</td>\n",
       "      <td>356</td>\n",
       "      <td>535.00</td>\n",
       "      <td>0.141667</td>\n",
       "      <td>0.270562</td>\n",
       "      <td>0.139308</td>\n",
       "    </tr>\n",
       "    <tr>\n",
       "      <th>3</th>\n",
       "      <td>2021-10-15</td>\n",
       "      <td>432</td>\n",
       "      <td>452</td>\n",
       "      <td>468.00</td>\n",
       "      <td>0.121273</td>\n",
       "      <td>0.324381</td>\n",
       "      <td>0.108333</td>\n",
       "    </tr>\n",
       "    <tr>\n",
       "      <th>4</th>\n",
       "      <td>2021-10-16</td>\n",
       "      <td>424</td>\n",
       "      <td>230</td>\n",
       "      <td>490.00</td>\n",
       "      <td>0.152948</td>\n",
       "      <td>0.236696</td>\n",
       "      <td>0.119449</td>\n",
       "    </tr>\n",
       "    <tr>\n",
       "      <th>5</th>\n",
       "      <td>2021-10-17</td>\n",
       "      <td>285</td>\n",
       "      <td>116</td>\n",
       "      <td>355.00</td>\n",
       "      <td>0.130982</td>\n",
       "      <td>0.250259</td>\n",
       "      <td>0.106423</td>\n",
       "    </tr>\n",
       "    <tr>\n",
       "      <th>6</th>\n",
       "      <td>2021-10-18</td>\n",
       "      <td>223</td>\n",
       "      <td>126</td>\n",
       "      <td>417.00</td>\n",
       "      <td>0.122287</td>\n",
       "      <td>0.295952</td>\n",
       "      <td>0.112638</td>\n",
       "    </tr>\n",
       "    <tr>\n",
       "      <th>7</th>\n",
       "      <td>2021-10-19</td>\n",
       "      <td>61</td>\n",
       "      <td>26</td>\n",
       "      <td>0.15</td>\n",
       "      <td>0.436557</td>\n",
       "      <td>0.501538</td>\n",
       "      <td>0.150000</td>\n",
       "    </tr>\n",
       "    <tr>\n",
       "      <th>8</th>\n",
       "      <td>2021-10-20</td>\n",
       "      <td>44</td>\n",
       "      <td>25</td>\n",
       "      <td>137.00</td>\n",
       "      <td>0.445000</td>\n",
       "      <td>0.376800</td>\n",
       "      <td>0.337445</td>\n",
       "    </tr>\n",
       "    <tr>\n",
       "      <th>9</th>\n",
       "      <td>2021-10-21</td>\n",
       "      <td>41</td>\n",
       "      <td>35</td>\n",
       "      <td>597.00</td>\n",
       "      <td>0.490976</td>\n",
       "      <td>0.520286</td>\n",
       "      <td>0.450687</td>\n",
       "    </tr>\n",
       "    <tr>\n",
       "      <th>10</th>\n",
       "      <td>2021-10-22</td>\n",
       "      <td>26</td>\n",
       "      <td>30</td>\n",
       "      <td>436.00</td>\n",
       "      <td>0.336538</td>\n",
       "      <td>0.456000</td>\n",
       "      <td>0.475000</td>\n",
       "    </tr>\n",
       "  </tbody>\n",
       "</table>\n",
       "</div>"
      ],
      "text/plain": [
       "   FechaPublicacion  Tweets_Colombia  Tweets_España  Tweets_Mexico  \\\n",
       "0        2021-10-12               11              1           0.15   \n",
       "1        2021-10-13               49             29           0.15   \n",
       "2        2021-10-14              450            356         535.00   \n",
       "3        2021-10-15              432            452         468.00   \n",
       "4        2021-10-16              424            230         490.00   \n",
       "5        2021-10-17              285            116         355.00   \n",
       "6        2021-10-18              223            126         417.00   \n",
       "7        2021-10-19               61             26           0.15   \n",
       "8        2021-10-20               44             25         137.00   \n",
       "9        2021-10-21               41             35         597.00   \n",
       "10       2021-10-22               26             30         436.00   \n",
       "\n",
       "    Sentimiento_Colombia  Sentimiento_España  Sentimiento_Mexico  \n",
       "0               0.252727            0.890000            0.150000  \n",
       "1               0.326735            0.459310            0.150000  \n",
       "2               0.141667            0.270562            0.139308  \n",
       "3               0.121273            0.324381            0.108333  \n",
       "4               0.152948            0.236696            0.119449  \n",
       "5               0.130982            0.250259            0.106423  \n",
       "6               0.122287            0.295952            0.112638  \n",
       "7               0.436557            0.501538            0.150000  \n",
       "8               0.445000            0.376800            0.337445  \n",
       "9               0.490976            0.520286            0.450687  \n",
       "10              0.336538            0.456000            0.475000  "
      ]
     },
     "execution_count": 4,
     "metadata": {},
     "output_type": "execute_result"
    }
   ],
   "source": [
    "dff = pd.pivot_table(df, index='FechaPublicacion', columns='Pais', fill_value=0.15)\n",
    "#dff\n",
    "df = pd.DataFrame(dff.to_records())\n",
    "\n",
    "df = df.rename(columns={\"('Texto', 'Colombia')\": \"Tweets_Colombia\", \"('Texto', 'España')\": \"Tweets_España\", \"('Texto', 'Mexico')\": \"Tweets_Mexico\", \n",
    "                \"('sentimiento_numerico', 'Colombia')\": \"Sentimiento_Colombia\", \n",
    "                \"('sentimiento_numerico', 'España')\": \"Sentimiento_España\",\n",
    "                \"('sentimiento_numerico', 'Mexico')\": \"Sentimiento_Mexico\"})\n",
    "df"
   ]
  },
  {
   "cell_type": "code",
   "execution_count": 30,
   "metadata": {},
   "outputs": [
    {
     "data": {
      "application/vnd.plotly.v1+json": {
       "config": {
        "plotlyServerURL": "https://plot.ly"
       },
       "data": [
        {
         "alignmentgroup": "True",
         "hovertemplate": "color=Twitter<br>x=%{x}<br>y=%{y}<extra></extra>",
         "legendgroup": "Twitter",
         "marker": {
          "color": "#636efa"
         },
         "name": "Twitter",
         "offsetgroup": "Twitter",
         "orientation": "v",
         "showlegend": true,
         "textposition": "auto",
         "type": "bar",
         "x": [
          "Twitter"
         ],
         "xaxis": "x",
         "y": [
          1184
         ],
         "yaxis": "y"
        },
        {
         "alignmentgroup": "True",
         "hovertemplate": "color=Apps<br>x=%{x}<br>y=%{y}<extra></extra>",
         "legendgroup": "Apps",
         "marker": {
          "color": "#EF553B"
         },
         "name": "Apps",
         "offsetgroup": "Apps",
         "orientation": "v",
         "showlegend": true,
         "textposition": "auto",
         "type": "bar",
         "x": [
          "Apps"
         ],
         "xaxis": "x",
         "y": [
          242
         ],
         "yaxis": "y"
        }
       ],
       "layout": {
        "barmode": "relative",
        "height": 600,
        "legend": {
         "title": {
          "text": "color"
         },
         "tracegroupgap": 0
        },
        "margin": {
         "t": 60
        },
        "template": {
         "data": {
          "bar": [
           {
            "error_x": {
             "color": "#2a3f5f"
            },
            "error_y": {
             "color": "#2a3f5f"
            },
            "marker": {
             "line": {
              "color": "#E5ECF6",
              "width": 0.5
             }
            },
            "type": "bar"
           }
          ],
          "barpolar": [
           {
            "marker": {
             "line": {
              "color": "#E5ECF6",
              "width": 0.5
             }
            },
            "type": "barpolar"
           }
          ],
          "carpet": [
           {
            "aaxis": {
             "endlinecolor": "#2a3f5f",
             "gridcolor": "white",
             "linecolor": "white",
             "minorgridcolor": "white",
             "startlinecolor": "#2a3f5f"
            },
            "baxis": {
             "endlinecolor": "#2a3f5f",
             "gridcolor": "white",
             "linecolor": "white",
             "minorgridcolor": "white",
             "startlinecolor": "#2a3f5f"
            },
            "type": "carpet"
           }
          ],
          "choropleth": [
           {
            "colorbar": {
             "outlinewidth": 0,
             "ticks": ""
            },
            "type": "choropleth"
           }
          ],
          "contour": [
           {
            "colorbar": {
             "outlinewidth": 0,
             "ticks": ""
            },
            "colorscale": [
             [
              0,
              "#0d0887"
             ],
             [
              0.1111111111111111,
              "#46039f"
             ],
             [
              0.2222222222222222,
              "#7201a8"
             ],
             [
              0.3333333333333333,
              "#9c179e"
             ],
             [
              0.4444444444444444,
              "#bd3786"
             ],
             [
              0.5555555555555556,
              "#d8576b"
             ],
             [
              0.6666666666666666,
              "#ed7953"
             ],
             [
              0.7777777777777778,
              "#fb9f3a"
             ],
             [
              0.8888888888888888,
              "#fdca26"
             ],
             [
              1,
              "#f0f921"
             ]
            ],
            "type": "contour"
           }
          ],
          "contourcarpet": [
           {
            "colorbar": {
             "outlinewidth": 0,
             "ticks": ""
            },
            "type": "contourcarpet"
           }
          ],
          "heatmap": [
           {
            "colorbar": {
             "outlinewidth": 0,
             "ticks": ""
            },
            "colorscale": [
             [
              0,
              "#0d0887"
             ],
             [
              0.1111111111111111,
              "#46039f"
             ],
             [
              0.2222222222222222,
              "#7201a8"
             ],
             [
              0.3333333333333333,
              "#9c179e"
             ],
             [
              0.4444444444444444,
              "#bd3786"
             ],
             [
              0.5555555555555556,
              "#d8576b"
             ],
             [
              0.6666666666666666,
              "#ed7953"
             ],
             [
              0.7777777777777778,
              "#fb9f3a"
             ],
             [
              0.8888888888888888,
              "#fdca26"
             ],
             [
              1,
              "#f0f921"
             ]
            ],
            "type": "heatmap"
           }
          ],
          "heatmapgl": [
           {
            "colorbar": {
             "outlinewidth": 0,
             "ticks": ""
            },
            "colorscale": [
             [
              0,
              "#0d0887"
             ],
             [
              0.1111111111111111,
              "#46039f"
             ],
             [
              0.2222222222222222,
              "#7201a8"
             ],
             [
              0.3333333333333333,
              "#9c179e"
             ],
             [
              0.4444444444444444,
              "#bd3786"
             ],
             [
              0.5555555555555556,
              "#d8576b"
             ],
             [
              0.6666666666666666,
              "#ed7953"
             ],
             [
              0.7777777777777778,
              "#fb9f3a"
             ],
             [
              0.8888888888888888,
              "#fdca26"
             ],
             [
              1,
              "#f0f921"
             ]
            ],
            "type": "heatmapgl"
           }
          ],
          "histogram": [
           {
            "marker": {
             "colorbar": {
              "outlinewidth": 0,
              "ticks": ""
             }
            },
            "type": "histogram"
           }
          ],
          "histogram2d": [
           {
            "colorbar": {
             "outlinewidth": 0,
             "ticks": ""
            },
            "colorscale": [
             [
              0,
              "#0d0887"
             ],
             [
              0.1111111111111111,
              "#46039f"
             ],
             [
              0.2222222222222222,
              "#7201a8"
             ],
             [
              0.3333333333333333,
              "#9c179e"
             ],
             [
              0.4444444444444444,
              "#bd3786"
             ],
             [
              0.5555555555555556,
              "#d8576b"
             ],
             [
              0.6666666666666666,
              "#ed7953"
             ],
             [
              0.7777777777777778,
              "#fb9f3a"
             ],
             [
              0.8888888888888888,
              "#fdca26"
             ],
             [
              1,
              "#f0f921"
             ]
            ],
            "type": "histogram2d"
           }
          ],
          "histogram2dcontour": [
           {
            "colorbar": {
             "outlinewidth": 0,
             "ticks": ""
            },
            "colorscale": [
             [
              0,
              "#0d0887"
             ],
             [
              0.1111111111111111,
              "#46039f"
             ],
             [
              0.2222222222222222,
              "#7201a8"
             ],
             [
              0.3333333333333333,
              "#9c179e"
             ],
             [
              0.4444444444444444,
              "#bd3786"
             ],
             [
              0.5555555555555556,
              "#d8576b"
             ],
             [
              0.6666666666666666,
              "#ed7953"
             ],
             [
              0.7777777777777778,
              "#fb9f3a"
             ],
             [
              0.8888888888888888,
              "#fdca26"
             ],
             [
              1,
              "#f0f921"
             ]
            ],
            "type": "histogram2dcontour"
           }
          ],
          "mesh3d": [
           {
            "colorbar": {
             "outlinewidth": 0,
             "ticks": ""
            },
            "type": "mesh3d"
           }
          ],
          "parcoords": [
           {
            "line": {
             "colorbar": {
              "outlinewidth": 0,
              "ticks": ""
             }
            },
            "type": "parcoords"
           }
          ],
          "pie": [
           {
            "automargin": true,
            "type": "pie"
           }
          ],
          "scatter": [
           {
            "marker": {
             "colorbar": {
              "outlinewidth": 0,
              "ticks": ""
             }
            },
            "type": "scatter"
           }
          ],
          "scatter3d": [
           {
            "line": {
             "colorbar": {
              "outlinewidth": 0,
              "ticks": ""
             }
            },
            "marker": {
             "colorbar": {
              "outlinewidth": 0,
              "ticks": ""
             }
            },
            "type": "scatter3d"
           }
          ],
          "scattercarpet": [
           {
            "marker": {
             "colorbar": {
              "outlinewidth": 0,
              "ticks": ""
             }
            },
            "type": "scattercarpet"
           }
          ],
          "scattergeo": [
           {
            "marker": {
             "colorbar": {
              "outlinewidth": 0,
              "ticks": ""
             }
            },
            "type": "scattergeo"
           }
          ],
          "scattergl": [
           {
            "marker": {
             "colorbar": {
              "outlinewidth": 0,
              "ticks": ""
             }
            },
            "type": "scattergl"
           }
          ],
          "scattermapbox": [
           {
            "marker": {
             "colorbar": {
              "outlinewidth": 0,
              "ticks": ""
             }
            },
            "type": "scattermapbox"
           }
          ],
          "scatterpolar": [
           {
            "marker": {
             "colorbar": {
              "outlinewidth": 0,
              "ticks": ""
             }
            },
            "type": "scatterpolar"
           }
          ],
          "scatterpolargl": [
           {
            "marker": {
             "colorbar": {
              "outlinewidth": 0,
              "ticks": ""
             }
            },
            "type": "scatterpolargl"
           }
          ],
          "scatterternary": [
           {
            "marker": {
             "colorbar": {
              "outlinewidth": 0,
              "ticks": ""
             }
            },
            "type": "scatterternary"
           }
          ],
          "surface": [
           {
            "colorbar": {
             "outlinewidth": 0,
             "ticks": ""
            },
            "colorscale": [
             [
              0,
              "#0d0887"
             ],
             [
              0.1111111111111111,
              "#46039f"
             ],
             [
              0.2222222222222222,
              "#7201a8"
             ],
             [
              0.3333333333333333,
              "#9c179e"
             ],
             [
              0.4444444444444444,
              "#bd3786"
             ],
             [
              0.5555555555555556,
              "#d8576b"
             ],
             [
              0.6666666666666666,
              "#ed7953"
             ],
             [
              0.7777777777777778,
              "#fb9f3a"
             ],
             [
              0.8888888888888888,
              "#fdca26"
             ],
             [
              1,
              "#f0f921"
             ]
            ],
            "type": "surface"
           }
          ],
          "table": [
           {
            "cells": {
             "fill": {
              "color": "#EBF0F8"
             },
             "line": {
              "color": "white"
             }
            },
            "header": {
             "fill": {
              "color": "#C8D4E3"
             },
             "line": {
              "color": "white"
             }
            },
            "type": "table"
           }
          ]
         },
         "layout": {
          "annotationdefaults": {
           "arrowcolor": "#2a3f5f",
           "arrowhead": 0,
           "arrowwidth": 1
          },
          "autotypenumbers": "strict",
          "coloraxis": {
           "colorbar": {
            "outlinewidth": 0,
            "ticks": ""
           }
          },
          "colorscale": {
           "diverging": [
            [
             0,
             "#8e0152"
            ],
            [
             0.1,
             "#c51b7d"
            ],
            [
             0.2,
             "#de77ae"
            ],
            [
             0.3,
             "#f1b6da"
            ],
            [
             0.4,
             "#fde0ef"
            ],
            [
             0.5,
             "#f7f7f7"
            ],
            [
             0.6,
             "#e6f5d0"
            ],
            [
             0.7,
             "#b8e186"
            ],
            [
             0.8,
             "#7fbc41"
            ],
            [
             0.9,
             "#4d9221"
            ],
            [
             1,
             "#276419"
            ]
           ],
           "sequential": [
            [
             0,
             "#0d0887"
            ],
            [
             0.1111111111111111,
             "#46039f"
            ],
            [
             0.2222222222222222,
             "#7201a8"
            ],
            [
             0.3333333333333333,
             "#9c179e"
            ],
            [
             0.4444444444444444,
             "#bd3786"
            ],
            [
             0.5555555555555556,
             "#d8576b"
            ],
            [
             0.6666666666666666,
             "#ed7953"
            ],
            [
             0.7777777777777778,
             "#fb9f3a"
            ],
            [
             0.8888888888888888,
             "#fdca26"
            ],
            [
             1,
             "#f0f921"
            ]
           ],
           "sequentialminus": [
            [
             0,
             "#0d0887"
            ],
            [
             0.1111111111111111,
             "#46039f"
            ],
            [
             0.2222222222222222,
             "#7201a8"
            ],
            [
             0.3333333333333333,
             "#9c179e"
            ],
            [
             0.4444444444444444,
             "#bd3786"
            ],
            [
             0.5555555555555556,
             "#d8576b"
            ],
            [
             0.6666666666666666,
             "#ed7953"
            ],
            [
             0.7777777777777778,
             "#fb9f3a"
            ],
            [
             0.8888888888888888,
             "#fdca26"
            ],
            [
             1,
             "#f0f921"
            ]
           ]
          },
          "colorway": [
           "#636efa",
           "#EF553B",
           "#00cc96",
           "#ab63fa",
           "#FFA15A",
           "#19d3f3",
           "#FF6692",
           "#B6E880",
           "#FF97FF",
           "#FECB52"
          ],
          "font": {
           "color": "#2a3f5f"
          },
          "geo": {
           "bgcolor": "white",
           "lakecolor": "white",
           "landcolor": "#E5ECF6",
           "showlakes": true,
           "showland": true,
           "subunitcolor": "white"
          },
          "hoverlabel": {
           "align": "left"
          },
          "hovermode": "closest",
          "mapbox": {
           "style": "light"
          },
          "paper_bgcolor": "white",
          "plot_bgcolor": "#E5ECF6",
          "polar": {
           "angularaxis": {
            "gridcolor": "white",
            "linecolor": "white",
            "ticks": ""
           },
           "bgcolor": "#E5ECF6",
           "radialaxis": {
            "gridcolor": "white",
            "linecolor": "white",
            "ticks": ""
           }
          },
          "scene": {
           "xaxis": {
            "backgroundcolor": "#E5ECF6",
            "gridcolor": "white",
            "gridwidth": 2,
            "linecolor": "white",
            "showbackground": true,
            "ticks": "",
            "zerolinecolor": "white"
           },
           "yaxis": {
            "backgroundcolor": "#E5ECF6",
            "gridcolor": "white",
            "gridwidth": 2,
            "linecolor": "white",
            "showbackground": true,
            "ticks": "",
            "zerolinecolor": "white"
           },
           "zaxis": {
            "backgroundcolor": "#E5ECF6",
            "gridcolor": "white",
            "gridwidth": 2,
            "linecolor": "white",
            "showbackground": true,
            "ticks": "",
            "zerolinecolor": "white"
           }
          },
          "shapedefaults": {
           "line": {
            "color": "#2a3f5f"
           }
          },
          "ternary": {
           "aaxis": {
            "gridcolor": "white",
            "linecolor": "white",
            "ticks": ""
           },
           "baxis": {
            "gridcolor": "white",
            "linecolor": "white",
            "ticks": ""
           },
           "bgcolor": "#E5ECF6",
           "caxis": {
            "gridcolor": "white",
            "linecolor": "white",
            "ticks": ""
           }
          },
          "title": {
           "x": 0.05
          },
          "xaxis": {
           "automargin": true,
           "gridcolor": "white",
           "linecolor": "white",
           "ticks": "",
           "title": {
            "standoff": 15
           },
           "zerolinecolor": "white",
           "zerolinewidth": 2
          },
          "yaxis": {
           "automargin": true,
           "gridcolor": "white",
           "linecolor": "white",
           "ticks": "",
           "title": {
            "standoff": 15
           },
           "zerolinecolor": "white",
           "zerolinewidth": 2
          }
         }
        },
        "xaxis": {
         "anchor": "y",
         "domain": [
          0,
          1
         ],
         "title": {
          "text": "x"
         }
        },
        "yaxis": {
         "anchor": "x",
         "domain": [
          0,
          1
         ],
         "title": {
          "text": "y"
         }
        }
       }
      }
     },
     "metadata": {},
     "output_type": "display_data"
    }
   ],
   "source": [
    "import matplotlib.pyplot as plt\n",
    "import plotly.express as px\n",
    "\n",
    "def barplot_visualization(x):\n",
    "  fig = plt.Figure(figsize = (12, 6))\n",
    "  fig = px.bar(x = df[x].value_counts().index, y = df[x].value_counts(), color = df[x].value_counts().index, height = 600)\n",
    "  fig.show()\n",
    "  fig.write_html(\"Fuente_España.html\")\n",
    "\n",
    "barplot_visualization('Fuente')"
   ]
  },
  {
   "cell_type": "code",
   "execution_count": 69,
   "metadata": {},
   "outputs": [
    {
     "data": {
      "text/html": [
       "<div>\n",
       "<style scoped>\n",
       "    .dataframe tbody tr th:only-of-type {\n",
       "        vertical-align: middle;\n",
       "    }\n",
       "\n",
       "    .dataframe tbody tr th {\n",
       "        vertical-align: top;\n",
       "    }\n",
       "\n",
       "    .dataframe thead th {\n",
       "        text-align: right;\n",
       "    }\n",
       "</style>\n",
       "<table border=\"1\" class=\"dataframe\">\n",
       "  <thead>\n",
       "    <tr style=\"text-align: right;\">\n",
       "      <th></th>\n",
       "      <th>Colombia_T</th>\n",
       "      <th>Mexico_T</th>\n",
       "      <th>España_T</th>\n",
       "    </tr>\n",
       "  </thead>\n",
       "  <tbody>\n",
       "    <tr>\n",
       "      <th>0</th>\n",
       "      <td>11</td>\n",
       "      <td>0.15</td>\n",
       "      <td>1</td>\n",
       "    </tr>\n",
       "    <tr>\n",
       "      <th>1</th>\n",
       "      <td>49</td>\n",
       "      <td>0.15</td>\n",
       "      <td>29</td>\n",
       "    </tr>\n",
       "    <tr>\n",
       "      <th>2</th>\n",
       "      <td>450</td>\n",
       "      <td>535.00</td>\n",
       "      <td>356</td>\n",
       "    </tr>\n",
       "    <tr>\n",
       "      <th>3</th>\n",
       "      <td>432</td>\n",
       "      <td>468.00</td>\n",
       "      <td>452</td>\n",
       "    </tr>\n",
       "    <tr>\n",
       "      <th>4</th>\n",
       "      <td>424</td>\n",
       "      <td>490.00</td>\n",
       "      <td>230</td>\n",
       "    </tr>\n",
       "    <tr>\n",
       "      <th>5</th>\n",
       "      <td>285</td>\n",
       "      <td>355.00</td>\n",
       "      <td>116</td>\n",
       "    </tr>\n",
       "    <tr>\n",
       "      <th>6</th>\n",
       "      <td>223</td>\n",
       "      <td>417.00</td>\n",
       "      <td>126</td>\n",
       "    </tr>\n",
       "    <tr>\n",
       "      <th>7</th>\n",
       "      <td>61</td>\n",
       "      <td>0.15</td>\n",
       "      <td>26</td>\n",
       "    </tr>\n",
       "    <tr>\n",
       "      <th>8</th>\n",
       "      <td>44</td>\n",
       "      <td>137.00</td>\n",
       "      <td>25</td>\n",
       "    </tr>\n",
       "    <tr>\n",
       "      <th>9</th>\n",
       "      <td>41</td>\n",
       "      <td>597.00</td>\n",
       "      <td>35</td>\n",
       "    </tr>\n",
       "    <tr>\n",
       "      <th>10</th>\n",
       "      <td>26</td>\n",
       "      <td>436.00</td>\n",
       "      <td>30</td>\n",
       "    </tr>\n",
       "  </tbody>\n",
       "</table>\n",
       "</div>"
      ],
      "text/plain": [
       "    Colombia_T  Mexico_T  España_T\n",
       "0           11      0.15         1\n",
       "1           49      0.15        29\n",
       "2          450    535.00       356\n",
       "3          432    468.00       452\n",
       "4          424    490.00       230\n",
       "5          285    355.00       116\n",
       "6          223    417.00       126\n",
       "7           61      0.15        26\n",
       "8           44    137.00        25\n",
       "9           41    597.00        35\n",
       "10          26    436.00        30"
      ]
     },
     "execution_count": 69,
     "metadata": {},
     "output_type": "execute_result"
    }
   ],
   "source": [
    "df[['Colombia_T', 'Mexico_T', 'España_T']]"
   ]
  },
  {
   "cell_type": "code",
   "execution_count": 14,
   "metadata": {},
   "outputs": [
    {
     "data": {
      "application/vnd.plotly.v1+json": {
       "config": {
        "plotlyServerURL": "https://plot.ly"
       },
       "data": [
        {
         "hovertemplate": "variable=Tweets_Colombia<br>FechaPublicacion=%{x|%B %d, %Y}<br>value=%{y}<extra></extra>",
         "legendgroup": "Tweets_Colombia",
         "line": {
          "color": "#636efa",
          "dash": "solid"
         },
         "mode": "lines",
         "name": "Tweets_Colombia",
         "orientation": "v",
         "showlegend": true,
         "type": "scatter",
         "x": [
          "2021-10-12",
          "2021-10-13",
          "2021-10-14",
          "2021-10-15",
          "2021-10-16",
          "2021-10-17",
          "2021-10-18",
          "2021-10-19",
          "2021-10-20",
          "2021-10-21",
          "2021-10-22"
         ],
         "xaxis": "x",
         "y": [
          11,
          49,
          450,
          432,
          424,
          285,
          223,
          61,
          44,
          41,
          26
         ],
         "yaxis": "y"
        },
        {
         "hovertemplate": "variable=Tweets_Mexico<br>FechaPublicacion=%{x|%B %d, %Y}<br>value=%{y}<extra></extra>",
         "legendgroup": "Tweets_Mexico",
         "line": {
          "color": "#EF553B",
          "dash": "solid"
         },
         "mode": "lines",
         "name": "Tweets_Mexico",
         "orientation": "v",
         "showlegend": true,
         "type": "scatter",
         "x": [
          "2021-10-12",
          "2021-10-13",
          "2021-10-14",
          "2021-10-15",
          "2021-10-16",
          "2021-10-17",
          "2021-10-18",
          "2021-10-19",
          "2021-10-20",
          "2021-10-21",
          "2021-10-22"
         ],
         "xaxis": "x",
         "y": [
          0.15,
          0.15,
          535,
          468,
          490,
          355,
          417,
          0.15,
          137,
          597,
          436
         ],
         "yaxis": "y"
        },
        {
         "hovertemplate": "variable=Tweets_España<br>FechaPublicacion=%{x|%B %d, %Y}<br>value=%{y}<extra></extra>",
         "legendgroup": "Tweets_España",
         "line": {
          "color": "#00cc96",
          "dash": "solid"
         },
         "mode": "lines",
         "name": "Tweets_España",
         "orientation": "v",
         "showlegend": true,
         "type": "scatter",
         "x": [
          "2021-10-12",
          "2021-10-13",
          "2021-10-14",
          "2021-10-15",
          "2021-10-16",
          "2021-10-17",
          "2021-10-18",
          "2021-10-19",
          "2021-10-20",
          "2021-10-21",
          "2021-10-22"
         ],
         "xaxis": "x",
         "y": [
          1,
          29,
          356,
          452,
          230,
          116,
          126,
          26,
          25,
          35,
          30
         ],
         "yaxis": "y"
        }
       ],
       "layout": {
        "legend": {
         "title": {
          "text": "variable"
         },
         "tracegroupgap": 0
        },
        "margin": {
         "t": 60
        },
        "template": {
         "data": {
          "bar": [
           {
            "error_x": {
             "color": "#2a3f5f"
            },
            "error_y": {
             "color": "#2a3f5f"
            },
            "marker": {
             "line": {
              "color": "#E5ECF6",
              "width": 0.5
             }
            },
            "type": "bar"
           }
          ],
          "barpolar": [
           {
            "marker": {
             "line": {
              "color": "#E5ECF6",
              "width": 0.5
             }
            },
            "type": "barpolar"
           }
          ],
          "carpet": [
           {
            "aaxis": {
             "endlinecolor": "#2a3f5f",
             "gridcolor": "white",
             "linecolor": "white",
             "minorgridcolor": "white",
             "startlinecolor": "#2a3f5f"
            },
            "baxis": {
             "endlinecolor": "#2a3f5f",
             "gridcolor": "white",
             "linecolor": "white",
             "minorgridcolor": "white",
             "startlinecolor": "#2a3f5f"
            },
            "type": "carpet"
           }
          ],
          "choropleth": [
           {
            "colorbar": {
             "outlinewidth": 0,
             "ticks": ""
            },
            "type": "choropleth"
           }
          ],
          "contour": [
           {
            "colorbar": {
             "outlinewidth": 0,
             "ticks": ""
            },
            "colorscale": [
             [
              0,
              "#0d0887"
             ],
             [
              0.1111111111111111,
              "#46039f"
             ],
             [
              0.2222222222222222,
              "#7201a8"
             ],
             [
              0.3333333333333333,
              "#9c179e"
             ],
             [
              0.4444444444444444,
              "#bd3786"
             ],
             [
              0.5555555555555556,
              "#d8576b"
             ],
             [
              0.6666666666666666,
              "#ed7953"
             ],
             [
              0.7777777777777778,
              "#fb9f3a"
             ],
             [
              0.8888888888888888,
              "#fdca26"
             ],
             [
              1,
              "#f0f921"
             ]
            ],
            "type": "contour"
           }
          ],
          "contourcarpet": [
           {
            "colorbar": {
             "outlinewidth": 0,
             "ticks": ""
            },
            "type": "contourcarpet"
           }
          ],
          "heatmap": [
           {
            "colorbar": {
             "outlinewidth": 0,
             "ticks": ""
            },
            "colorscale": [
             [
              0,
              "#0d0887"
             ],
             [
              0.1111111111111111,
              "#46039f"
             ],
             [
              0.2222222222222222,
              "#7201a8"
             ],
             [
              0.3333333333333333,
              "#9c179e"
             ],
             [
              0.4444444444444444,
              "#bd3786"
             ],
             [
              0.5555555555555556,
              "#d8576b"
             ],
             [
              0.6666666666666666,
              "#ed7953"
             ],
             [
              0.7777777777777778,
              "#fb9f3a"
             ],
             [
              0.8888888888888888,
              "#fdca26"
             ],
             [
              1,
              "#f0f921"
             ]
            ],
            "type": "heatmap"
           }
          ],
          "heatmapgl": [
           {
            "colorbar": {
             "outlinewidth": 0,
             "ticks": ""
            },
            "colorscale": [
             [
              0,
              "#0d0887"
             ],
             [
              0.1111111111111111,
              "#46039f"
             ],
             [
              0.2222222222222222,
              "#7201a8"
             ],
             [
              0.3333333333333333,
              "#9c179e"
             ],
             [
              0.4444444444444444,
              "#bd3786"
             ],
             [
              0.5555555555555556,
              "#d8576b"
             ],
             [
              0.6666666666666666,
              "#ed7953"
             ],
             [
              0.7777777777777778,
              "#fb9f3a"
             ],
             [
              0.8888888888888888,
              "#fdca26"
             ],
             [
              1,
              "#f0f921"
             ]
            ],
            "type": "heatmapgl"
           }
          ],
          "histogram": [
           {
            "marker": {
             "colorbar": {
              "outlinewidth": 0,
              "ticks": ""
             }
            },
            "type": "histogram"
           }
          ],
          "histogram2d": [
           {
            "colorbar": {
             "outlinewidth": 0,
             "ticks": ""
            },
            "colorscale": [
             [
              0,
              "#0d0887"
             ],
             [
              0.1111111111111111,
              "#46039f"
             ],
             [
              0.2222222222222222,
              "#7201a8"
             ],
             [
              0.3333333333333333,
              "#9c179e"
             ],
             [
              0.4444444444444444,
              "#bd3786"
             ],
             [
              0.5555555555555556,
              "#d8576b"
             ],
             [
              0.6666666666666666,
              "#ed7953"
             ],
             [
              0.7777777777777778,
              "#fb9f3a"
             ],
             [
              0.8888888888888888,
              "#fdca26"
             ],
             [
              1,
              "#f0f921"
             ]
            ],
            "type": "histogram2d"
           }
          ],
          "histogram2dcontour": [
           {
            "colorbar": {
             "outlinewidth": 0,
             "ticks": ""
            },
            "colorscale": [
             [
              0,
              "#0d0887"
             ],
             [
              0.1111111111111111,
              "#46039f"
             ],
             [
              0.2222222222222222,
              "#7201a8"
             ],
             [
              0.3333333333333333,
              "#9c179e"
             ],
             [
              0.4444444444444444,
              "#bd3786"
             ],
             [
              0.5555555555555556,
              "#d8576b"
             ],
             [
              0.6666666666666666,
              "#ed7953"
             ],
             [
              0.7777777777777778,
              "#fb9f3a"
             ],
             [
              0.8888888888888888,
              "#fdca26"
             ],
             [
              1,
              "#f0f921"
             ]
            ],
            "type": "histogram2dcontour"
           }
          ],
          "mesh3d": [
           {
            "colorbar": {
             "outlinewidth": 0,
             "ticks": ""
            },
            "type": "mesh3d"
           }
          ],
          "parcoords": [
           {
            "line": {
             "colorbar": {
              "outlinewidth": 0,
              "ticks": ""
             }
            },
            "type": "parcoords"
           }
          ],
          "pie": [
           {
            "automargin": true,
            "type": "pie"
           }
          ],
          "scatter": [
           {
            "marker": {
             "colorbar": {
              "outlinewidth": 0,
              "ticks": ""
             }
            },
            "type": "scatter"
           }
          ],
          "scatter3d": [
           {
            "line": {
             "colorbar": {
              "outlinewidth": 0,
              "ticks": ""
             }
            },
            "marker": {
             "colorbar": {
              "outlinewidth": 0,
              "ticks": ""
             }
            },
            "type": "scatter3d"
           }
          ],
          "scattercarpet": [
           {
            "marker": {
             "colorbar": {
              "outlinewidth": 0,
              "ticks": ""
             }
            },
            "type": "scattercarpet"
           }
          ],
          "scattergeo": [
           {
            "marker": {
             "colorbar": {
              "outlinewidth": 0,
              "ticks": ""
             }
            },
            "type": "scattergeo"
           }
          ],
          "scattergl": [
           {
            "marker": {
             "colorbar": {
              "outlinewidth": 0,
              "ticks": ""
             }
            },
            "type": "scattergl"
           }
          ],
          "scattermapbox": [
           {
            "marker": {
             "colorbar": {
              "outlinewidth": 0,
              "ticks": ""
             }
            },
            "type": "scattermapbox"
           }
          ],
          "scatterpolar": [
           {
            "marker": {
             "colorbar": {
              "outlinewidth": 0,
              "ticks": ""
             }
            },
            "type": "scatterpolar"
           }
          ],
          "scatterpolargl": [
           {
            "marker": {
             "colorbar": {
              "outlinewidth": 0,
              "ticks": ""
             }
            },
            "type": "scatterpolargl"
           }
          ],
          "scatterternary": [
           {
            "marker": {
             "colorbar": {
              "outlinewidth": 0,
              "ticks": ""
             }
            },
            "type": "scatterternary"
           }
          ],
          "surface": [
           {
            "colorbar": {
             "outlinewidth": 0,
             "ticks": ""
            },
            "colorscale": [
             [
              0,
              "#0d0887"
             ],
             [
              0.1111111111111111,
              "#46039f"
             ],
             [
              0.2222222222222222,
              "#7201a8"
             ],
             [
              0.3333333333333333,
              "#9c179e"
             ],
             [
              0.4444444444444444,
              "#bd3786"
             ],
             [
              0.5555555555555556,
              "#d8576b"
             ],
             [
              0.6666666666666666,
              "#ed7953"
             ],
             [
              0.7777777777777778,
              "#fb9f3a"
             ],
             [
              0.8888888888888888,
              "#fdca26"
             ],
             [
              1,
              "#f0f921"
             ]
            ],
            "type": "surface"
           }
          ],
          "table": [
           {
            "cells": {
             "fill": {
              "color": "#EBF0F8"
             },
             "line": {
              "color": "white"
             }
            },
            "header": {
             "fill": {
              "color": "#C8D4E3"
             },
             "line": {
              "color": "white"
             }
            },
            "type": "table"
           }
          ]
         },
         "layout": {
          "annotationdefaults": {
           "arrowcolor": "#2a3f5f",
           "arrowhead": 0,
           "arrowwidth": 1
          },
          "autotypenumbers": "strict",
          "coloraxis": {
           "colorbar": {
            "outlinewidth": 0,
            "ticks": ""
           }
          },
          "colorscale": {
           "diverging": [
            [
             0,
             "#8e0152"
            ],
            [
             0.1,
             "#c51b7d"
            ],
            [
             0.2,
             "#de77ae"
            ],
            [
             0.3,
             "#f1b6da"
            ],
            [
             0.4,
             "#fde0ef"
            ],
            [
             0.5,
             "#f7f7f7"
            ],
            [
             0.6,
             "#e6f5d0"
            ],
            [
             0.7,
             "#b8e186"
            ],
            [
             0.8,
             "#7fbc41"
            ],
            [
             0.9,
             "#4d9221"
            ],
            [
             1,
             "#276419"
            ]
           ],
           "sequential": [
            [
             0,
             "#0d0887"
            ],
            [
             0.1111111111111111,
             "#46039f"
            ],
            [
             0.2222222222222222,
             "#7201a8"
            ],
            [
             0.3333333333333333,
             "#9c179e"
            ],
            [
             0.4444444444444444,
             "#bd3786"
            ],
            [
             0.5555555555555556,
             "#d8576b"
            ],
            [
             0.6666666666666666,
             "#ed7953"
            ],
            [
             0.7777777777777778,
             "#fb9f3a"
            ],
            [
             0.8888888888888888,
             "#fdca26"
            ],
            [
             1,
             "#f0f921"
            ]
           ],
           "sequentialminus": [
            [
             0,
             "#0d0887"
            ],
            [
             0.1111111111111111,
             "#46039f"
            ],
            [
             0.2222222222222222,
             "#7201a8"
            ],
            [
             0.3333333333333333,
             "#9c179e"
            ],
            [
             0.4444444444444444,
             "#bd3786"
            ],
            [
             0.5555555555555556,
             "#d8576b"
            ],
            [
             0.6666666666666666,
             "#ed7953"
            ],
            [
             0.7777777777777778,
             "#fb9f3a"
            ],
            [
             0.8888888888888888,
             "#fdca26"
            ],
            [
             1,
             "#f0f921"
            ]
           ]
          },
          "colorway": [
           "#636efa",
           "#EF553B",
           "#00cc96",
           "#ab63fa",
           "#FFA15A",
           "#19d3f3",
           "#FF6692",
           "#B6E880",
           "#FF97FF",
           "#FECB52"
          ],
          "font": {
           "color": "#2a3f5f"
          },
          "geo": {
           "bgcolor": "white",
           "lakecolor": "white",
           "landcolor": "#E5ECF6",
           "showlakes": true,
           "showland": true,
           "subunitcolor": "white"
          },
          "hoverlabel": {
           "align": "left"
          },
          "hovermode": "closest",
          "mapbox": {
           "style": "light"
          },
          "paper_bgcolor": "white",
          "plot_bgcolor": "#E5ECF6",
          "polar": {
           "angularaxis": {
            "gridcolor": "white",
            "linecolor": "white",
            "ticks": ""
           },
           "bgcolor": "#E5ECF6",
           "radialaxis": {
            "gridcolor": "white",
            "linecolor": "white",
            "ticks": ""
           }
          },
          "scene": {
           "xaxis": {
            "backgroundcolor": "#E5ECF6",
            "gridcolor": "white",
            "gridwidth": 2,
            "linecolor": "white",
            "showbackground": true,
            "ticks": "",
            "zerolinecolor": "white"
           },
           "yaxis": {
            "backgroundcolor": "#E5ECF6",
            "gridcolor": "white",
            "gridwidth": 2,
            "linecolor": "white",
            "showbackground": true,
            "ticks": "",
            "zerolinecolor": "white"
           },
           "zaxis": {
            "backgroundcolor": "#E5ECF6",
            "gridcolor": "white",
            "gridwidth": 2,
            "linecolor": "white",
            "showbackground": true,
            "ticks": "",
            "zerolinecolor": "white"
           }
          },
          "shapedefaults": {
           "line": {
            "color": "#2a3f5f"
           }
          },
          "ternary": {
           "aaxis": {
            "gridcolor": "white",
            "linecolor": "white",
            "ticks": ""
           },
           "baxis": {
            "gridcolor": "white",
            "linecolor": "white",
            "ticks": ""
           },
           "bgcolor": "#E5ECF6",
           "caxis": {
            "gridcolor": "white",
            "linecolor": "white",
            "ticks": ""
           }
          },
          "title": {
           "x": 0.05
          },
          "xaxis": {
           "automargin": true,
           "gridcolor": "white",
           "linecolor": "white",
           "ticks": "",
           "title": {
            "standoff": 15
           },
           "zerolinecolor": "white",
           "zerolinewidth": 2
          },
          "yaxis": {
           "automargin": true,
           "gridcolor": "white",
           "linecolor": "white",
           "ticks": "",
           "title": {
            "standoff": 15
           },
           "zerolinecolor": "white",
           "zerolinewidth": 2
          }
         }
        },
        "xaxis": {
         "anchor": "y",
         "domain": [
          0,
          1
         ],
         "tickformat": "%d %B (%a)<br>%Y",
         "title": {
          "text": "FechaPublicacion"
         }
        },
        "yaxis": {
         "anchor": "x",
         "domain": [
          0,
          1
         ],
         "title": {
          "text": "value"
         }
        }
       }
      }
     },
     "metadata": {},
     "output_type": "display_data"
    }
   ],
   "source": [
    "import plotly.express as px\n",
    "fig = px.line(df, x=\"FechaPublicacion\", y=['Tweets_Colombia', 'Tweets_Mexico', 'Tweets_España'],\n",
    "              hover_data={\"FechaPublicacion\": \"|%B %d, %Y\"})\n",
    "fig.update_layout(\n",
    "    xaxis_tickformat = '%d %B (%a)<br>%Y'\n",
    ")\n",
    "fig.show()"
   ]
  },
  {
   "cell_type": "code",
   "execution_count": 95,
   "metadata": {},
   "outputs": [
    {
     "name": "stderr",
     "output_type": "stream",
     "text": [
      "C:\\Users\\pc\\anaconda3\\lib\\site-packages\\ipykernel\\ipkernel.py:283: DeprecationWarning:\n",
      "\n",
      "`should_run_async` will not call `transform_cell` automatically in the future. Please pass the result to `transformed_cell` argument and any exception that happen during thetransform in `preprocessing_exc_tuple` in IPython 7.17 and above.\n",
      "\n"
     ]
    },
    {
     "data": {
      "text/html": [
       "<div>\n",
       "<style scoped>\n",
       "    .dataframe tbody tr th:only-of-type {\n",
       "        vertical-align: middle;\n",
       "    }\n",
       "\n",
       "    .dataframe tbody tr th {\n",
       "        vertical-align: top;\n",
       "    }\n",
       "\n",
       "    .dataframe thead th {\n",
       "        text-align: right;\n",
       "    }\n",
       "</style>\n",
       "<table border=\"1\" class=\"dataframe\">\n",
       "  <thead>\n",
       "    <tr style=\"text-align: right;\">\n",
       "      <th></th>\n",
       "      <th>Tipo</th>\n",
       "      <th>Pais</th>\n",
       "      <th>Fuente</th>\n",
       "      <th>Texto</th>\n",
       "      <th>FechaPublicacion</th>\n",
       "      <th>sentimiento</th>\n",
       "      <th>sentimiento_numerico</th>\n",
       "    </tr>\n",
       "  </thead>\n",
       "  <tbody>\n",
       "    <tr>\n",
       "      <th>0</th>\n",
       "      <td>Excelencia Operativa</td>\n",
       "      <td>Colombia</td>\n",
       "      <td>Apps</td>\n",
       "      <td>Muy mala la app como una hora pidiendo un Códi...</td>\n",
       "      <td>2021-10-22 16:22:53</td>\n",
       "      <td>Negativo</td>\n",
       "      <td>0.00</td>\n",
       "    </tr>\n",
       "    <tr>\n",
       "      <th>1</th>\n",
       "      <td>Excelencia Operativa</td>\n",
       "      <td>Colombia</td>\n",
       "      <td>Apps</td>\n",
       "      <td>Un poquito lenta pero excelente</td>\n",
       "      <td>2021-10-22 16:03:49</td>\n",
       "      <td>Positivo</td>\n",
       "      <td>0.94</td>\n",
       "    </tr>\n",
       "    <tr>\n",
       "      <th>2</th>\n",
       "      <td>Excelencia Operativa</td>\n",
       "      <td>Colombia</td>\n",
       "      <td>Apps</td>\n",
       "      <td>Que aplicacion tan mala, con tanto que roban d...</td>\n",
       "      <td>2021-10-22 15:13:42</td>\n",
       "      <td>Negativo</td>\n",
       "      <td>0.00</td>\n",
       "    </tr>\n",
       "    <tr>\n",
       "      <th>3</th>\n",
       "      <td>Excelencia Operativa</td>\n",
       "      <td>Colombia</td>\n",
       "      <td>Apps</td>\n",
       "      <td>Muy lenta, se nota lo pesada... Debe ser mas i...</td>\n",
       "      <td>2021-10-22 14:56:23</td>\n",
       "      <td>Negativo</td>\n",
       "      <td>0.00</td>\n",
       "    </tr>\n",
       "    <tr>\n",
       "      <th>4</th>\n",
       "      <td>Excelencia Operativa</td>\n",
       "      <td>Colombia</td>\n",
       "      <td>Apps</td>\n",
       "      <td>Muy buena lo mejor que han podido crear</td>\n",
       "      <td>2021-10-22 14:48:38</td>\n",
       "      <td>Positivo</td>\n",
       "      <td>0.55</td>\n",
       "    </tr>\n",
       "    <tr>\n",
       "      <th>...</th>\n",
       "      <td>...</td>\n",
       "      <td>...</td>\n",
       "      <td>...</td>\n",
       "      <td>...</td>\n",
       "      <td>...</td>\n",
       "      <td>...</td>\n",
       "      <td>...</td>\n",
       "    </tr>\n",
       "    <tr>\n",
       "      <th>6902</th>\n",
       "      <td>Futuro sostenible</td>\n",
       "      <td>Mexico</td>\n",
       "      <td>Twitter</td>\n",
       "      <td>@RicardoAnayaC Habría que comparar con el mund...</td>\n",
       "      <td>2021-10-18 15:48:12+00:00</td>\n",
       "      <td>Negativo</td>\n",
       "      <td>0.00</td>\n",
       "    </tr>\n",
       "    <tr>\n",
       "      <th>6903</th>\n",
       "      <td>Futuro sostenible</td>\n",
       "      <td>Mexico</td>\n",
       "      <td>Twitter</td>\n",
       "      <td>Corte de Caja al Mundo de #Negocios (18/10/21)...</td>\n",
       "      <td>2021-10-18 15:46:09+00:00</td>\n",
       "      <td>Negativo</td>\n",
       "      <td>0.45</td>\n",
       "    </tr>\n",
       "    <tr>\n",
       "      <th>6904</th>\n",
       "      <td>Futuro sostenible</td>\n",
       "      <td>Mexico</td>\n",
       "      <td>Twitter</td>\n",
       "      <td>Los autos eléctricos de Musk volvieron a acele...</td>\n",
       "      <td>2021-10-18 15:46:00+00:00</td>\n",
       "      <td>Negativo</td>\n",
       "      <td>0.07</td>\n",
       "    </tr>\n",
       "    <tr>\n",
       "      <th>6905</th>\n",
       "      <td>Futuro sostenible</td>\n",
       "      <td>Mexico</td>\n",
       "      <td>Twitter</td>\n",
       "      <td>El gigante tecnológico de Taiwán, Foxconn, pre...</td>\n",
       "      <td>2021-10-18 15:36:28+00:00</td>\n",
       "      <td>Negativo</td>\n",
       "      <td>0.13</td>\n",
       "    </tr>\n",
       "    <tr>\n",
       "      <th>6906</th>\n",
       "      <td>Futuro sostenible</td>\n",
       "      <td>Mexico</td>\n",
       "      <td>Twitter</td>\n",
       "      <td>@jrisco @lafuentejavi @el_pais Si, ya ves qué ...</td>\n",
       "      <td>2021-10-18 15:27:35+00:00</td>\n",
       "      <td>Negativo</td>\n",
       "      <td>0.00</td>\n",
       "    </tr>\n",
       "  </tbody>\n",
       "</table>\n",
       "<p>6907 rows × 7 columns</p>\n",
       "</div>"
      ],
      "text/plain": [
       "                      Tipo      Pais   Fuente  \\\n",
       "0     Excelencia Operativa  Colombia     Apps   \n",
       "1     Excelencia Operativa  Colombia     Apps   \n",
       "2     Excelencia Operativa  Colombia     Apps   \n",
       "3     Excelencia Operativa  Colombia     Apps   \n",
       "4     Excelencia Operativa  Colombia     Apps   \n",
       "...                    ...       ...      ...   \n",
       "6902     Futuro sostenible    Mexico  Twitter   \n",
       "6903     Futuro sostenible    Mexico  Twitter   \n",
       "6904     Futuro sostenible    Mexico  Twitter   \n",
       "6905     Futuro sostenible    Mexico  Twitter   \n",
       "6906     Futuro sostenible    Mexico  Twitter   \n",
       "\n",
       "                                                  Texto  \\\n",
       "0     Muy mala la app como una hora pidiendo un Códi...   \n",
       "1                       Un poquito lenta pero excelente   \n",
       "2     Que aplicacion tan mala, con tanto que roban d...   \n",
       "3     Muy lenta, se nota lo pesada... Debe ser mas i...   \n",
       "4               Muy buena lo mejor que han podido crear   \n",
       "...                                                 ...   \n",
       "6902  @RicardoAnayaC Habría que comparar con el mund...   \n",
       "6903  Corte de Caja al Mundo de #Negocios (18/10/21)...   \n",
       "6904  Los autos eléctricos de Musk volvieron a acele...   \n",
       "6905  El gigante tecnológico de Taiwán, Foxconn, pre...   \n",
       "6906  @jrisco @lafuentejavi @el_pais Si, ya ves qué ...   \n",
       "\n",
       "               FechaPublicacion sentimiento  sentimiento_numerico  \n",
       "0           2021-10-22 16:22:53    Negativo                  0.00  \n",
       "1           2021-10-22 16:03:49    Positivo                  0.94  \n",
       "2           2021-10-22 15:13:42    Negativo                  0.00  \n",
       "3           2021-10-22 14:56:23    Negativo                  0.00  \n",
       "4           2021-10-22 14:48:38    Positivo                  0.55  \n",
       "...                         ...         ...                   ...  \n",
       "6902  2021-10-18 15:48:12+00:00    Negativo                  0.00  \n",
       "6903  2021-10-18 15:46:09+00:00    Negativo                  0.45  \n",
       "6904  2021-10-18 15:46:00+00:00    Negativo                  0.07  \n",
       "6905  2021-10-18 15:36:28+00:00    Negativo                  0.13  \n",
       "6906  2021-10-18 15:27:35+00:00    Negativo                  0.00  \n",
       "\n",
       "[6907 rows x 7 columns]"
      ]
     },
     "execution_count": 95,
     "metadata": {},
     "output_type": "execute_result"
    }
   ],
   "source": [
    "df = pd.read_csv('data.csv')\n",
    "df"
   ]
  },
  {
   "cell_type": "code",
   "execution_count": null,
   "metadata": {},
   "outputs": [],
   "source": []
  }
 ],
 "metadata": {
  "interpreter": {
   "hash": "374be8c39ae01ff66328729506a9b9a7ba9eb3f2df141c8f3098ad96d8cc6bdd"
  },
  "kernelspec": {
   "display_name": "Python 3.8.5 64-bit ('base': conda)",
   "name": "python3"
  },
  "language_info": {
   "codemirror_mode": {
    "name": "ipython",
    "version": 3
   },
   "file_extension": ".py",
   "mimetype": "text/x-python",
   "name": "python",
   "nbconvert_exporter": "python",
   "pygments_lexer": "ipython3",
   "version": "3.8.5"
  },
  "orig_nbformat": 4
 },
 "nbformat": 4,
 "nbformat_minor": 2
}
